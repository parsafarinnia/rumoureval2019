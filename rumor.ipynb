{
  "nbformat": 4,
  "nbformat_minor": 0,
  "metadata": {
    "accelerator": "GPU",
    "colab": {
      "name": "rumor.ipynb",
      "provenance": [],
      "collapsed_sections": [
        "qavGT1ZL8VG_"
      ],
      "toc_visible": true
    },
    "kernelspec": {
      "display_name": "Python 3",
      "name": "python3"
    },
    "widgets": {
      "application/vnd.jupyter.widget-state+json": {
        "aa0a80fdc4ad4186899ef6bfff31a55f": {
          "model_module": "@jupyter-widgets/controls",
          "model_name": "HBoxModel",
          "state": {
            "_view_name": "HBoxView",
            "_dom_classes": [],
            "_model_name": "HBoxModel",
            "_view_module": "@jupyter-widgets/controls",
            "_model_module_version": "1.5.0",
            "_view_count": null,
            "_view_module_version": "1.5.0",
            "box_style": "",
            "layout": "IPY_MODEL_61470306a0884c62b2cae65150d59219",
            "_model_module": "@jupyter-widgets/controls",
            "children": [
              "IPY_MODEL_2cbc3b34a1594b5aa587f868a315c1f7",
              "IPY_MODEL_fe169e98506b45c5832f17eb37301fbc"
            ]
          }
        },
        "61470306a0884c62b2cae65150d59219": {
          "model_module": "@jupyter-widgets/base",
          "model_name": "LayoutModel",
          "state": {
            "_view_name": "LayoutView",
            "grid_template_rows": null,
            "right": null,
            "justify_content": null,
            "_view_module": "@jupyter-widgets/base",
            "overflow": null,
            "_model_module_version": "1.2.0",
            "_view_count": null,
            "flex_flow": null,
            "width": null,
            "min_width": null,
            "border": null,
            "align_items": null,
            "bottom": null,
            "_model_module": "@jupyter-widgets/base",
            "top": null,
            "grid_column": null,
            "overflow_y": null,
            "overflow_x": null,
            "grid_auto_flow": null,
            "grid_area": null,
            "grid_template_columns": null,
            "flex": null,
            "_model_name": "LayoutModel",
            "justify_items": null,
            "grid_row": null,
            "max_height": null,
            "align_content": null,
            "visibility": null,
            "align_self": null,
            "height": null,
            "min_height": null,
            "padding": null,
            "grid_auto_rows": null,
            "grid_gap": null,
            "max_width": null,
            "order": null,
            "_view_module_version": "1.2.0",
            "grid_template_areas": null,
            "object_position": null,
            "object_fit": null,
            "grid_auto_columns": null,
            "margin": null,
            "display": null,
            "left": null
          }
        },
        "2cbc3b34a1594b5aa587f868a315c1f7": {
          "model_module": "@jupyter-widgets/controls",
          "model_name": "FloatProgressModel",
          "state": {
            "_view_name": "ProgressView",
            "style": "IPY_MODEL_64d9868eeb274938abc34f5b9547e78c",
            "_dom_classes": [],
            "description": "Downloading: 100%",
            "_model_name": "FloatProgressModel",
            "bar_style": "success",
            "max": 558,
            "_view_module": "@jupyter-widgets/controls",
            "_model_module_version": "1.5.0",
            "value": 558,
            "_view_count": null,
            "_view_module_version": "1.5.0",
            "orientation": "horizontal",
            "min": 0,
            "description_tooltip": null,
            "_model_module": "@jupyter-widgets/controls",
            "layout": "IPY_MODEL_8326c2bd3b0f4f81ac760dfb2aa8c955"
          }
        },
        "fe169e98506b45c5832f17eb37301fbc": {
          "model_module": "@jupyter-widgets/controls",
          "model_name": "HTMLModel",
          "state": {
            "_view_name": "HTMLView",
            "style": "IPY_MODEL_c2df3b76936448dd81385b9204bc9f53",
            "_dom_classes": [],
            "description": "",
            "_model_name": "HTMLModel",
            "placeholder": "​",
            "_view_module": "@jupyter-widgets/controls",
            "_model_module_version": "1.5.0",
            "value": " 558/558 [00:12&lt;00:00, 43.3B/s]",
            "_view_count": null,
            "_view_module_version": "1.5.0",
            "description_tooltip": null,
            "_model_module": "@jupyter-widgets/controls",
            "layout": "IPY_MODEL_24d45bf86e4e49c48708fac9b185e195"
          }
        },
        "64d9868eeb274938abc34f5b9547e78c": {
          "model_module": "@jupyter-widgets/controls",
          "model_name": "ProgressStyleModel",
          "state": {
            "_view_name": "StyleView",
            "_model_name": "ProgressStyleModel",
            "description_width": "initial",
            "_view_module": "@jupyter-widgets/base",
            "_model_module_version": "1.5.0",
            "_view_count": null,
            "_view_module_version": "1.2.0",
            "bar_color": null,
            "_model_module": "@jupyter-widgets/controls"
          }
        },
        "8326c2bd3b0f4f81ac760dfb2aa8c955": {
          "model_module": "@jupyter-widgets/base",
          "model_name": "LayoutModel",
          "state": {
            "_view_name": "LayoutView",
            "grid_template_rows": null,
            "right": null,
            "justify_content": null,
            "_view_module": "@jupyter-widgets/base",
            "overflow": null,
            "_model_module_version": "1.2.0",
            "_view_count": null,
            "flex_flow": null,
            "width": null,
            "min_width": null,
            "border": null,
            "align_items": null,
            "bottom": null,
            "_model_module": "@jupyter-widgets/base",
            "top": null,
            "grid_column": null,
            "overflow_y": null,
            "overflow_x": null,
            "grid_auto_flow": null,
            "grid_area": null,
            "grid_template_columns": null,
            "flex": null,
            "_model_name": "LayoutModel",
            "justify_items": null,
            "grid_row": null,
            "max_height": null,
            "align_content": null,
            "visibility": null,
            "align_self": null,
            "height": null,
            "min_height": null,
            "padding": null,
            "grid_auto_rows": null,
            "grid_gap": null,
            "max_width": null,
            "order": null,
            "_view_module_version": "1.2.0",
            "grid_template_areas": null,
            "object_position": null,
            "object_fit": null,
            "grid_auto_columns": null,
            "margin": null,
            "display": null,
            "left": null
          }
        },
        "c2df3b76936448dd81385b9204bc9f53": {
          "model_module": "@jupyter-widgets/controls",
          "model_name": "DescriptionStyleModel",
          "state": {
            "_view_name": "StyleView",
            "_model_name": "DescriptionStyleModel",
            "description_width": "",
            "_view_module": "@jupyter-widgets/base",
            "_model_module_version": "1.5.0",
            "_view_count": null,
            "_view_module_version": "1.2.0",
            "_model_module": "@jupyter-widgets/controls"
          }
        },
        "24d45bf86e4e49c48708fac9b185e195": {
          "model_module": "@jupyter-widgets/base",
          "model_name": "LayoutModel",
          "state": {
            "_view_name": "LayoutView",
            "grid_template_rows": null,
            "right": null,
            "justify_content": null,
            "_view_module": "@jupyter-widgets/base",
            "overflow": null,
            "_model_module_version": "1.2.0",
            "_view_count": null,
            "flex_flow": null,
            "width": null,
            "min_width": null,
            "border": null,
            "align_items": null,
            "bottom": null,
            "_model_module": "@jupyter-widgets/base",
            "top": null,
            "grid_column": null,
            "overflow_y": null,
            "overflow_x": null,
            "grid_auto_flow": null,
            "grid_area": null,
            "grid_template_columns": null,
            "flex": null,
            "_model_name": "LayoutModel",
            "justify_items": null,
            "grid_row": null,
            "max_height": null,
            "align_content": null,
            "visibility": null,
            "align_self": null,
            "height": null,
            "min_height": null,
            "padding": null,
            "grid_auto_rows": null,
            "grid_gap": null,
            "max_width": null,
            "order": null,
            "_view_module_version": "1.2.0",
            "grid_template_areas": null,
            "object_position": null,
            "object_fit": null,
            "grid_auto_columns": null,
            "margin": null,
            "display": null,
            "left": null
          }
        },
        "1cc8270f69e3471da460253421c97d8c": {
          "model_module": "@jupyter-widgets/controls",
          "model_name": "HBoxModel",
          "state": {
            "_view_name": "HBoxView",
            "_dom_classes": [],
            "_model_name": "HBoxModel",
            "_view_module": "@jupyter-widgets/controls",
            "_model_module_version": "1.5.0",
            "_view_count": null,
            "_view_module_version": "1.5.0",
            "box_style": "",
            "layout": "IPY_MODEL_7de2a7cbf63b44b194405fc96e4f3810",
            "_model_module": "@jupyter-widgets/controls",
            "children": [
              "IPY_MODEL_0608c7fc55134dcaa2884edc0ea64563",
              "IPY_MODEL_1c817b011294455c84d4654fc08e8c81"
            ]
          }
        },
        "7de2a7cbf63b44b194405fc96e4f3810": {
          "model_module": "@jupyter-widgets/base",
          "model_name": "LayoutModel",
          "state": {
            "_view_name": "LayoutView",
            "grid_template_rows": null,
            "right": null,
            "justify_content": null,
            "_view_module": "@jupyter-widgets/base",
            "overflow": null,
            "_model_module_version": "1.2.0",
            "_view_count": null,
            "flex_flow": null,
            "width": null,
            "min_width": null,
            "border": null,
            "align_items": null,
            "bottom": null,
            "_model_module": "@jupyter-widgets/base",
            "top": null,
            "grid_column": null,
            "overflow_y": null,
            "overflow_x": null,
            "grid_auto_flow": null,
            "grid_area": null,
            "grid_template_columns": null,
            "flex": null,
            "_model_name": "LayoutModel",
            "justify_items": null,
            "grid_row": null,
            "max_height": null,
            "align_content": null,
            "visibility": null,
            "align_self": null,
            "height": null,
            "min_height": null,
            "padding": null,
            "grid_auto_rows": null,
            "grid_gap": null,
            "max_width": null,
            "order": null,
            "_view_module_version": "1.2.0",
            "grid_template_areas": null,
            "object_position": null,
            "object_fit": null,
            "grid_auto_columns": null,
            "margin": null,
            "display": null,
            "left": null
          }
        },
        "0608c7fc55134dcaa2884edc0ea64563": {
          "model_module": "@jupyter-widgets/controls",
          "model_name": "FloatProgressModel",
          "state": {
            "_view_name": "ProgressView",
            "style": "IPY_MODEL_c16b16e3fbb447408c49c8804e49c1f8",
            "_dom_classes": [],
            "description": "Downloading: 100%",
            "_model_name": "FloatProgressModel",
            "bar_style": "success",
            "max": 542529064,
            "_view_module": "@jupyter-widgets/controls",
            "_model_module_version": "1.5.0",
            "value": 542529064,
            "_view_count": null,
            "_view_module_version": "1.5.0",
            "orientation": "horizontal",
            "min": 0,
            "description_tooltip": null,
            "_model_module": "@jupyter-widgets/controls",
            "layout": "IPY_MODEL_94743e57d2624fd99993c565e2317d5a"
          }
        },
        "1c817b011294455c84d4654fc08e8c81": {
          "model_module": "@jupyter-widgets/controls",
          "model_name": "HTMLModel",
          "state": {
            "_view_name": "HTMLView",
            "style": "IPY_MODEL_79d9eaa7c825463089846af8aef43a56",
            "_dom_classes": [],
            "description": "",
            "_model_name": "HTMLModel",
            "placeholder": "​",
            "_view_module": "@jupyter-widgets/controls",
            "_model_module_version": "1.5.0",
            "value": " 543M/543M [00:12&lt;00:00, 45.1MB/s]",
            "_view_count": null,
            "_view_module_version": "1.5.0",
            "description_tooltip": null,
            "_model_module": "@jupyter-widgets/controls",
            "layout": "IPY_MODEL_65e637db07fb4c56b30cf2d563a5314c"
          }
        },
        "c16b16e3fbb447408c49c8804e49c1f8": {
          "model_module": "@jupyter-widgets/controls",
          "model_name": "ProgressStyleModel",
          "state": {
            "_view_name": "StyleView",
            "_model_name": "ProgressStyleModel",
            "description_width": "initial",
            "_view_module": "@jupyter-widgets/base",
            "_model_module_version": "1.5.0",
            "_view_count": null,
            "_view_module_version": "1.2.0",
            "bar_color": null,
            "_model_module": "@jupyter-widgets/controls"
          }
        },
        "94743e57d2624fd99993c565e2317d5a": {
          "model_module": "@jupyter-widgets/base",
          "model_name": "LayoutModel",
          "state": {
            "_view_name": "LayoutView",
            "grid_template_rows": null,
            "right": null,
            "justify_content": null,
            "_view_module": "@jupyter-widgets/base",
            "overflow": null,
            "_model_module_version": "1.2.0",
            "_view_count": null,
            "flex_flow": null,
            "width": null,
            "min_width": null,
            "border": null,
            "align_items": null,
            "bottom": null,
            "_model_module": "@jupyter-widgets/base",
            "top": null,
            "grid_column": null,
            "overflow_y": null,
            "overflow_x": null,
            "grid_auto_flow": null,
            "grid_area": null,
            "grid_template_columns": null,
            "flex": null,
            "_model_name": "LayoutModel",
            "justify_items": null,
            "grid_row": null,
            "max_height": null,
            "align_content": null,
            "visibility": null,
            "align_self": null,
            "height": null,
            "min_height": null,
            "padding": null,
            "grid_auto_rows": null,
            "grid_gap": null,
            "max_width": null,
            "order": null,
            "_view_module_version": "1.2.0",
            "grid_template_areas": null,
            "object_position": null,
            "object_fit": null,
            "grid_auto_columns": null,
            "margin": null,
            "display": null,
            "left": null
          }
        },
        "79d9eaa7c825463089846af8aef43a56": {
          "model_module": "@jupyter-widgets/controls",
          "model_name": "DescriptionStyleModel",
          "state": {
            "_view_name": "StyleView",
            "_model_name": "DescriptionStyleModel",
            "description_width": "",
            "_view_module": "@jupyter-widgets/base",
            "_model_module_version": "1.5.0",
            "_view_count": null,
            "_view_module_version": "1.2.0",
            "_model_module": "@jupyter-widgets/controls"
          }
        },
        "65e637db07fb4c56b30cf2d563a5314c": {
          "model_module": "@jupyter-widgets/base",
          "model_name": "LayoutModel",
          "state": {
            "_view_name": "LayoutView",
            "grid_template_rows": null,
            "right": null,
            "justify_content": null,
            "_view_module": "@jupyter-widgets/base",
            "overflow": null,
            "_model_module_version": "1.2.0",
            "_view_count": null,
            "flex_flow": null,
            "width": null,
            "min_width": null,
            "border": null,
            "align_items": null,
            "bottom": null,
            "_model_module": "@jupyter-widgets/base",
            "top": null,
            "grid_column": null,
            "overflow_y": null,
            "overflow_x": null,
            "grid_auto_flow": null,
            "grid_area": null,
            "grid_template_columns": null,
            "flex": null,
            "_model_name": "LayoutModel",
            "justify_items": null,
            "grid_row": null,
            "max_height": null,
            "align_content": null,
            "visibility": null,
            "align_self": null,
            "height": null,
            "min_height": null,
            "padding": null,
            "grid_auto_rows": null,
            "grid_gap": null,
            "max_width": null,
            "order": null,
            "_view_module_version": "1.2.0",
            "grid_template_areas": null,
            "object_position": null,
            "object_fit": null,
            "grid_auto_columns": null,
            "margin": null,
            "display": null,
            "left": null
          }
        },
        "2f2091ea64be4842bddf02035935a966": {
          "model_module": "@jupyter-widgets/controls",
          "model_name": "HBoxModel",
          "state": {
            "_view_name": "HBoxView",
            "_dom_classes": [],
            "_model_name": "HBoxModel",
            "_view_module": "@jupyter-widgets/controls",
            "_model_module_version": "1.5.0",
            "_view_count": null,
            "_view_module_version": "1.5.0",
            "box_style": "",
            "layout": "IPY_MODEL_b7905b45a77f41b9ac2b0bb20ba572d8",
            "_model_module": "@jupyter-widgets/controls",
            "children": [
              "IPY_MODEL_eebd6c295bf24d2fb3d444810af35978",
              "IPY_MODEL_443c960c190848a9a1a5d8d8d5d8756e"
            ]
          }
        },
        "b7905b45a77f41b9ac2b0bb20ba572d8": {
          "model_module": "@jupyter-widgets/base",
          "model_name": "LayoutModel",
          "state": {
            "_view_name": "LayoutView",
            "grid_template_rows": null,
            "right": null,
            "justify_content": null,
            "_view_module": "@jupyter-widgets/base",
            "overflow": null,
            "_model_module_version": "1.2.0",
            "_view_count": null,
            "flex_flow": null,
            "width": null,
            "min_width": null,
            "border": null,
            "align_items": null,
            "bottom": null,
            "_model_module": "@jupyter-widgets/base",
            "top": null,
            "grid_column": null,
            "overflow_y": null,
            "overflow_x": null,
            "grid_auto_flow": null,
            "grid_area": null,
            "grid_template_columns": null,
            "flex": null,
            "_model_name": "LayoutModel",
            "justify_items": null,
            "grid_row": null,
            "max_height": null,
            "align_content": null,
            "visibility": null,
            "align_self": null,
            "height": null,
            "min_height": null,
            "padding": null,
            "grid_auto_rows": null,
            "grid_gap": null,
            "max_width": null,
            "order": null,
            "_view_module_version": "1.2.0",
            "grid_template_areas": null,
            "object_position": null,
            "object_fit": null,
            "grid_auto_columns": null,
            "margin": null,
            "display": null,
            "left": null
          }
        },
        "eebd6c295bf24d2fb3d444810af35978": {
          "model_module": "@jupyter-widgets/controls",
          "model_name": "FloatProgressModel",
          "state": {
            "_view_name": "ProgressView",
            "style": "IPY_MODEL_c2db17b28e4549358713454d42691758",
            "_dom_classes": [],
            "description": "Downloading: 100%",
            "_model_name": "FloatProgressModel",
            "bar_style": "success",
            "max": 843438,
            "_view_module": "@jupyter-widgets/controls",
            "_model_module_version": "1.5.0",
            "value": 843438,
            "_view_count": null,
            "_view_module_version": "1.5.0",
            "orientation": "horizontal",
            "min": 0,
            "description_tooltip": null,
            "_model_module": "@jupyter-widgets/controls",
            "layout": "IPY_MODEL_6f6fa748ae904ad1bc5072458aba210d"
          }
        },
        "443c960c190848a9a1a5d8d8d5d8756e": {
          "model_module": "@jupyter-widgets/controls",
          "model_name": "HTMLModel",
          "state": {
            "_view_name": "HTMLView",
            "style": "IPY_MODEL_40f26f125a2f4a31984f5798a9d8a8c6",
            "_dom_classes": [],
            "description": "",
            "_model_name": "HTMLModel",
            "placeholder": "​",
            "_view_module": "@jupyter-widgets/controls",
            "_model_module_version": "1.5.0",
            "value": " 843k/843k [00:01&lt;00:00, 437kB/s]",
            "_view_count": null,
            "_view_module_version": "1.5.0",
            "description_tooltip": null,
            "_model_module": "@jupyter-widgets/controls",
            "layout": "IPY_MODEL_d01fb150b0094457a9f2015fefdd84c0"
          }
        },
        "c2db17b28e4549358713454d42691758": {
          "model_module": "@jupyter-widgets/controls",
          "model_name": "ProgressStyleModel",
          "state": {
            "_view_name": "StyleView",
            "_model_name": "ProgressStyleModel",
            "description_width": "initial",
            "_view_module": "@jupyter-widgets/base",
            "_model_module_version": "1.5.0",
            "_view_count": null,
            "_view_module_version": "1.2.0",
            "bar_color": null,
            "_model_module": "@jupyter-widgets/controls"
          }
        },
        "6f6fa748ae904ad1bc5072458aba210d": {
          "model_module": "@jupyter-widgets/base",
          "model_name": "LayoutModel",
          "state": {
            "_view_name": "LayoutView",
            "grid_template_rows": null,
            "right": null,
            "justify_content": null,
            "_view_module": "@jupyter-widgets/base",
            "overflow": null,
            "_model_module_version": "1.2.0",
            "_view_count": null,
            "flex_flow": null,
            "width": null,
            "min_width": null,
            "border": null,
            "align_items": null,
            "bottom": null,
            "_model_module": "@jupyter-widgets/base",
            "top": null,
            "grid_column": null,
            "overflow_y": null,
            "overflow_x": null,
            "grid_auto_flow": null,
            "grid_area": null,
            "grid_template_columns": null,
            "flex": null,
            "_model_name": "LayoutModel",
            "justify_items": null,
            "grid_row": null,
            "max_height": null,
            "align_content": null,
            "visibility": null,
            "align_self": null,
            "height": null,
            "min_height": null,
            "padding": null,
            "grid_auto_rows": null,
            "grid_gap": null,
            "max_width": null,
            "order": null,
            "_view_module_version": "1.2.0",
            "grid_template_areas": null,
            "object_position": null,
            "object_fit": null,
            "grid_auto_columns": null,
            "margin": null,
            "display": null,
            "left": null
          }
        },
        "40f26f125a2f4a31984f5798a9d8a8c6": {
          "model_module": "@jupyter-widgets/controls",
          "model_name": "DescriptionStyleModel",
          "state": {
            "_view_name": "StyleView",
            "_model_name": "DescriptionStyleModel",
            "description_width": "",
            "_view_module": "@jupyter-widgets/base",
            "_model_module_version": "1.5.0",
            "_view_count": null,
            "_view_module_version": "1.2.0",
            "_model_module": "@jupyter-widgets/controls"
          }
        },
        "d01fb150b0094457a9f2015fefdd84c0": {
          "model_module": "@jupyter-widgets/base",
          "model_name": "LayoutModel",
          "state": {
            "_view_name": "LayoutView",
            "grid_template_rows": null,
            "right": null,
            "justify_content": null,
            "_view_module": "@jupyter-widgets/base",
            "overflow": null,
            "_model_module_version": "1.2.0",
            "_view_count": null,
            "flex_flow": null,
            "width": null,
            "min_width": null,
            "border": null,
            "align_items": null,
            "bottom": null,
            "_model_module": "@jupyter-widgets/base",
            "top": null,
            "grid_column": null,
            "overflow_y": null,
            "overflow_x": null,
            "grid_auto_flow": null,
            "grid_area": null,
            "grid_template_columns": null,
            "flex": null,
            "_model_name": "LayoutModel",
            "justify_items": null,
            "grid_row": null,
            "max_height": null,
            "align_content": null,
            "visibility": null,
            "align_self": null,
            "height": null,
            "min_height": null,
            "padding": null,
            "grid_auto_rows": null,
            "grid_gap": null,
            "max_width": null,
            "order": null,
            "_view_module_version": "1.2.0",
            "grid_template_areas": null,
            "object_position": null,
            "object_fit": null,
            "grid_auto_columns": null,
            "margin": null,
            "display": null,
            "left": null
          }
        },
        "b88109de7be3483a9d8d1a325350d238": {
          "model_module": "@jupyter-widgets/controls",
          "model_name": "HBoxModel",
          "state": {
            "_view_name": "HBoxView",
            "_dom_classes": [],
            "_model_name": "HBoxModel",
            "_view_module": "@jupyter-widgets/controls",
            "_model_module_version": "1.5.0",
            "_view_count": null,
            "_view_module_version": "1.5.0",
            "box_style": "",
            "layout": "IPY_MODEL_3f828646d9d248489bd0306229f30b2a",
            "_model_module": "@jupyter-widgets/controls",
            "children": [
              "IPY_MODEL_7dc5e304d2e5461693b3158e2dd7dd67",
              "IPY_MODEL_0b525a0bf8754bc5bc57ffd0862d7c06"
            ]
          }
        },
        "3f828646d9d248489bd0306229f30b2a": {
          "model_module": "@jupyter-widgets/base",
          "model_name": "LayoutModel",
          "state": {
            "_view_name": "LayoutView",
            "grid_template_rows": null,
            "right": null,
            "justify_content": null,
            "_view_module": "@jupyter-widgets/base",
            "overflow": null,
            "_model_module_version": "1.2.0",
            "_view_count": null,
            "flex_flow": null,
            "width": null,
            "min_width": null,
            "border": null,
            "align_items": null,
            "bottom": null,
            "_model_module": "@jupyter-widgets/base",
            "top": null,
            "grid_column": null,
            "overflow_y": null,
            "overflow_x": null,
            "grid_auto_flow": null,
            "grid_area": null,
            "grid_template_columns": null,
            "flex": null,
            "_model_name": "LayoutModel",
            "justify_items": null,
            "grid_row": null,
            "max_height": null,
            "align_content": null,
            "visibility": null,
            "align_self": null,
            "height": null,
            "min_height": null,
            "padding": null,
            "grid_auto_rows": null,
            "grid_gap": null,
            "max_width": null,
            "order": null,
            "_view_module_version": "1.2.0",
            "grid_template_areas": null,
            "object_position": null,
            "object_fit": null,
            "grid_auto_columns": null,
            "margin": null,
            "display": null,
            "left": null
          }
        },
        "7dc5e304d2e5461693b3158e2dd7dd67": {
          "model_module": "@jupyter-widgets/controls",
          "model_name": "FloatProgressModel",
          "state": {
            "_view_name": "ProgressView",
            "style": "IPY_MODEL_6e2939a40af644bc945207f8d0201a98",
            "_dom_classes": [],
            "description": "Downloading: 100%",
            "_model_name": "FloatProgressModel",
            "bar_style": "success",
            "max": 1078931,
            "_view_module": "@jupyter-widgets/controls",
            "_model_module_version": "1.5.0",
            "value": 1078931,
            "_view_count": null,
            "_view_module_version": "1.5.0",
            "orientation": "horizontal",
            "min": 0,
            "description_tooltip": null,
            "_model_module": "@jupyter-widgets/controls",
            "layout": "IPY_MODEL_ed2ee9c7a5154200a3ecbad519b51112"
          }
        },
        "0b525a0bf8754bc5bc57ffd0862d7c06": {
          "model_module": "@jupyter-widgets/controls",
          "model_name": "HTMLModel",
          "state": {
            "_view_name": "HTMLView",
            "style": "IPY_MODEL_daab6052183d43c5956529d76732b3ff",
            "_dom_classes": [],
            "description": "",
            "_model_name": "HTMLModel",
            "placeholder": "​",
            "_view_module": "@jupyter-widgets/controls",
            "_model_module_version": "1.5.0",
            "value": " 1.08M/1.08M [00:00&lt;00:00, 1.70MB/s]",
            "_view_count": null,
            "_view_module_version": "1.5.0",
            "description_tooltip": null,
            "_model_module": "@jupyter-widgets/controls",
            "layout": "IPY_MODEL_0c2d8f1e1ad3471791bb7158aa7433e7"
          }
        },
        "6e2939a40af644bc945207f8d0201a98": {
          "model_module": "@jupyter-widgets/controls",
          "model_name": "ProgressStyleModel",
          "state": {
            "_view_name": "StyleView",
            "_model_name": "ProgressStyleModel",
            "description_width": "initial",
            "_view_module": "@jupyter-widgets/base",
            "_model_module_version": "1.5.0",
            "_view_count": null,
            "_view_module_version": "1.2.0",
            "bar_color": null,
            "_model_module": "@jupyter-widgets/controls"
          }
        },
        "ed2ee9c7a5154200a3ecbad519b51112": {
          "model_module": "@jupyter-widgets/base",
          "model_name": "LayoutModel",
          "state": {
            "_view_name": "LayoutView",
            "grid_template_rows": null,
            "right": null,
            "justify_content": null,
            "_view_module": "@jupyter-widgets/base",
            "overflow": null,
            "_model_module_version": "1.2.0",
            "_view_count": null,
            "flex_flow": null,
            "width": null,
            "min_width": null,
            "border": null,
            "align_items": null,
            "bottom": null,
            "_model_module": "@jupyter-widgets/base",
            "top": null,
            "grid_column": null,
            "overflow_y": null,
            "overflow_x": null,
            "grid_auto_flow": null,
            "grid_area": null,
            "grid_template_columns": null,
            "flex": null,
            "_model_name": "LayoutModel",
            "justify_items": null,
            "grid_row": null,
            "max_height": null,
            "align_content": null,
            "visibility": null,
            "align_self": null,
            "height": null,
            "min_height": null,
            "padding": null,
            "grid_auto_rows": null,
            "grid_gap": null,
            "max_width": null,
            "order": null,
            "_view_module_version": "1.2.0",
            "grid_template_areas": null,
            "object_position": null,
            "object_fit": null,
            "grid_auto_columns": null,
            "margin": null,
            "display": null,
            "left": null
          }
        },
        "daab6052183d43c5956529d76732b3ff": {
          "model_module": "@jupyter-widgets/controls",
          "model_name": "DescriptionStyleModel",
          "state": {
            "_view_name": "StyleView",
            "_model_name": "DescriptionStyleModel",
            "description_width": "",
            "_view_module": "@jupyter-widgets/base",
            "_model_module_version": "1.5.0",
            "_view_count": null,
            "_view_module_version": "1.2.0",
            "_model_module": "@jupyter-widgets/controls"
          }
        },
        "0c2d8f1e1ad3471791bb7158aa7433e7": {
          "model_module": "@jupyter-widgets/base",
          "model_name": "LayoutModel",
          "state": {
            "_view_name": "LayoutView",
            "grid_template_rows": null,
            "right": null,
            "justify_content": null,
            "_view_module": "@jupyter-widgets/base",
            "overflow": null,
            "_model_module_version": "1.2.0",
            "_view_count": null,
            "flex_flow": null,
            "width": null,
            "min_width": null,
            "border": null,
            "align_items": null,
            "bottom": null,
            "_model_module": "@jupyter-widgets/base",
            "top": null,
            "grid_column": null,
            "overflow_y": null,
            "overflow_x": null,
            "grid_auto_flow": null,
            "grid_area": null,
            "grid_template_columns": null,
            "flex": null,
            "_model_name": "LayoutModel",
            "justify_items": null,
            "grid_row": null,
            "max_height": null,
            "align_content": null,
            "visibility": null,
            "align_self": null,
            "height": null,
            "min_height": null,
            "padding": null,
            "grid_auto_rows": null,
            "grid_gap": null,
            "max_width": null,
            "order": null,
            "_view_module_version": "1.2.0",
            "grid_template_areas": null,
            "object_position": null,
            "object_fit": null,
            "grid_auto_columns": null,
            "margin": null,
            "display": null,
            "left": null
          }
        }
      }
    }
  },
  "cells": [
    {
      "cell_type": "markdown",
      "metadata": {
        "id": "X6aRomqiGdP3"
      },
      "source": [
        "#INFO\n",
        "experiments that can take place :\n",
        "\n",
        "\n",
        "\n",
        "\n",
        "\n",
        "1.   changing BERT from pretrained from base-uncased to bertweet\n",
        "2.   keeping or omitting verified\n",
        "3.   trainig pairs of (source , reply) , (source-tag) \n",
        "4.   add source aggregated (known stance)\n",
        "\n",
        "source_reply_*.json format last used\n",
        "\n",
        "\n"
      ]
    },
    {
      "cell_type": "markdown",
      "metadata": {
        "id": "2T38W5nfg0Gh"
      },
      "source": [
        "##setup\n"
      ]
    },
    {
      "cell_type": "code",
      "metadata": {
        "id": "aSiJXX_0SDdY",
        "colab": {
          "base_uri": "https://localhost:8080/"
        },
        "outputId": "46d44fc3-a1c0-488d-ddc6-320e62ce3389"
      },
      "source": [
        "import tensorflow as tf\n",
        "import torch\n",
        "import os\n",
        "import pandas as pd\n",
        "!pip install transformers\n",
        "from transformers import BertTokenizer\n",
        "from torch.utils.data import TensorDataset, random_split\n",
        "from torch.utils.data import DataLoader, RandomSampler, SequentialSampler\n",
        "from transformers import BertForSequenceClassification, AdamW, BertConfig\n",
        "from transformers import get_linear_schedule_with_warmup\n",
        "import numpy as np\n",
        "import time\n",
        "import datetime\n",
        "import random\n",
        "import matplotlib.pyplot as plt\n",
        "% matplotlib inline\n",
        "import json\n",
        "import seaborn as sns\n",
        "from sklearn.metrics import matthews_corrcoef"
      ],
      "execution_count": null,
      "outputs": [
        {
          "output_type": "stream",
          "text": [
            "Collecting transformers\n",
            "\u001b[?25l  Downloading https://files.pythonhosted.org/packages/3a/83/e74092e7f24a08d751aa59b37a9fc572b2e4af3918cb66f7766c3affb1b4/transformers-3.5.1-py3-none-any.whl (1.3MB)\n",
            "\u001b[K     |████████████████████████████████| 1.3MB 5.8MB/s \n",
            "\u001b[?25hRequirement already satisfied: dataclasses; python_version < \"3.7\" in /usr/local/lib/python3.6/dist-packages (from transformers) (0.8)\n",
            "Collecting sacremoses\n",
            "\u001b[?25l  Downloading https://files.pythonhosted.org/packages/7d/34/09d19aff26edcc8eb2a01bed8e98f13a1537005d31e95233fd48216eed10/sacremoses-0.0.43.tar.gz (883kB)\n",
            "\u001b[K     |████████████████████████████████| 890kB 35.7MB/s \n",
            "\u001b[?25hRequirement already satisfied: protobuf in /usr/local/lib/python3.6/dist-packages (from transformers) (3.12.4)\n",
            "Requirement already satisfied: packaging in /usr/local/lib/python3.6/dist-packages (from transformers) (20.4)\n",
            "Collecting tokenizers==0.9.3\n",
            "\u001b[?25l  Downloading https://files.pythonhosted.org/packages/4c/34/b39eb9994bc3c999270b69c9eea40ecc6f0e97991dba28282b9fd32d44ee/tokenizers-0.9.3-cp36-cp36m-manylinux1_x86_64.whl (2.9MB)\n",
            "\u001b[K     |████████████████████████████████| 2.9MB 38.8MB/s \n",
            "\u001b[?25hRequirement already satisfied: tqdm>=4.27 in /usr/local/lib/python3.6/dist-packages (from transformers) (4.41.1)\n",
            "Requirement already satisfied: regex!=2019.12.17 in /usr/local/lib/python3.6/dist-packages (from transformers) (2019.12.20)\n",
            "Requirement already satisfied: requests in /usr/local/lib/python3.6/dist-packages (from transformers) (2.23.0)\n",
            "Collecting sentencepiece==0.1.91\n",
            "\u001b[?25l  Downloading https://files.pythonhosted.org/packages/d4/a4/d0a884c4300004a78cca907a6ff9a5e9fe4f090f5d95ab341c53d28cbc58/sentencepiece-0.1.91-cp36-cp36m-manylinux1_x86_64.whl (1.1MB)\n",
            "\u001b[K     |████████████████████████████████| 1.1MB 38.0MB/s \n",
            "\u001b[?25hRequirement already satisfied: filelock in /usr/local/lib/python3.6/dist-packages (from transformers) (3.0.12)\n",
            "Requirement already satisfied: numpy in /usr/local/lib/python3.6/dist-packages (from transformers) (1.18.5)\n",
            "Requirement already satisfied: six in /usr/local/lib/python3.6/dist-packages (from sacremoses->transformers) (1.15.0)\n",
            "Requirement already satisfied: click in /usr/local/lib/python3.6/dist-packages (from sacremoses->transformers) (7.1.2)\n",
            "Requirement already satisfied: joblib in /usr/local/lib/python3.6/dist-packages (from sacremoses->transformers) (0.17.0)\n",
            "Requirement already satisfied: setuptools in /usr/local/lib/python3.6/dist-packages (from protobuf->transformers) (50.3.2)\n",
            "Requirement already satisfied: pyparsing>=2.0.2 in /usr/local/lib/python3.6/dist-packages (from packaging->transformers) (2.4.7)\n",
            "Requirement already satisfied: chardet<4,>=3.0.2 in /usr/local/lib/python3.6/dist-packages (from requests->transformers) (3.0.4)\n",
            "Requirement already satisfied: certifi>=2017.4.17 in /usr/local/lib/python3.6/dist-packages (from requests->transformers) (2020.11.8)\n",
            "Requirement already satisfied: idna<3,>=2.5 in /usr/local/lib/python3.6/dist-packages (from requests->transformers) (2.10)\n",
            "Requirement already satisfied: urllib3!=1.25.0,!=1.25.1,<1.26,>=1.21.1 in /usr/local/lib/python3.6/dist-packages (from requests->transformers) (1.24.3)\n",
            "Building wheels for collected packages: sacremoses\n",
            "  Building wheel for sacremoses (setup.py) ... \u001b[?25l\u001b[?25hdone\n",
            "  Created wheel for sacremoses: filename=sacremoses-0.0.43-cp36-none-any.whl size=893257 sha256=9e12a80b30d5607d4592af5085c2c848da31a5f69a96cd785a4c8dcd4ab90701\n",
            "  Stored in directory: /root/.cache/pip/wheels/29/3c/fd/7ce5c3f0666dab31a50123635e6fb5e19ceb42ce38d4e58f45\n",
            "Successfully built sacremoses\n",
            "Installing collected packages: sacremoses, tokenizers, sentencepiece, transformers\n",
            "Successfully installed sacremoses-0.0.43 sentencepiece-0.1.91 tokenizers-0.9.3 transformers-3.5.1\n"
          ],
          "name": "stdout"
        }
      ]
    },
    {
      "cell_type": "code",
      "metadata": {
        "id": "ErfLSv-oUQYU",
        "colab": {
          "base_uri": "https://localhost:8080/"
        },
        "outputId": "62adf3f2-2617-4d8c-925d-ce91a4641578"
      },
      "source": [
        "import tensorflow as tf\n",
        "\n",
        "# Get the GPU device name.\n",
        "device_name = tf.test.gpu_device_name()\n",
        "\n",
        "# The device name should look like the following:\n",
        "if device_name == '/device:GPU:0':\n",
        "    print('Found GPU at: {}'.format(device_name))\n",
        "else:\n",
        "    raise SystemError('GPU device not found')"
      ],
      "execution_count": null,
      "outputs": [
        {
          "output_type": "stream",
          "text": [
            "Found GPU at: /device:GPU:0\n"
          ],
          "name": "stdout"
        }
      ]
    },
    {
      "cell_type": "code",
      "metadata": {
        "id": "-VXvVRsXrURK"
      },
      "source": [
        "import time\n",
        "import datetime\n",
        "\n",
        "def format_time(elapsed):\n",
        "    '''\n",
        "    Takes a time in seconds and returns a string hh:mm:ss\n",
        "    '''\n",
        "    # Round to the nearest second.\n",
        "    elapsed_rounded = int(round((elapsed)))\n",
        "    \n",
        "    # Format as hh:mm:ss\n",
        "    return str(datetime.timedelta(seconds=elapsed_rounded))\n"
      ],
      "execution_count": null,
      "outputs": []
    },
    {
      "cell_type": "code",
      "metadata": {
        "id": "UYjuJgINUZnl",
        "colab": {
          "base_uri": "https://localhost:8080/"
        },
        "outputId": "12166a20-0ed2-476b-f427-1507d6b288c1"
      },
      "source": [
        "import torch\n",
        "\n",
        "# If there's a GPU available...\n",
        "if torch.cuda.is_available():    \n",
        "\n",
        "    # Tell PyTorch to use the GPU.    \n",
        "    device = torch.device(\"cuda\")\n",
        "\n",
        "    print('There are %d GPU(s) available.' % torch.cuda.device_count())\n",
        "\n",
        "    print('We will use the GPU:', torch.cuda.get_device_name(0))\n",
        "\n",
        "# If not...\n",
        "else:\n",
        "    print('No GPU available, using the CPU instead.')\n",
        "    device = torch.device(\"cpu\")\n",
        "    "
      ],
      "execution_count": null,
      "outputs": [
        {
          "output_type": "stream",
          "text": [
            "There are 1 GPU(s) available.\n",
            "We will use the GPU: Tesla K80\n"
          ],
          "name": "stdout"
        }
      ]
    },
    {
      "cell_type": "code",
      "metadata": {
        "id": "dc3Jg9qbUuQP",
        "colab": {
          "base_uri": "https://localhost:8080/"
        },
        "outputId": "e0dc1c6d-a290-428d-c649-c72c169d8fc7"
      },
      "source": [
        "!pip3 install emoji"
      ],
      "execution_count": null,
      "outputs": [
        {
          "output_type": "stream",
          "text": [
            "Collecting emoji\n",
            "\u001b[?25l  Downloading https://files.pythonhosted.org/packages/ff/1c/1f1457fe52d0b30cbeebfd578483cedb3e3619108d2d5a21380dfecf8ffd/emoji-0.6.0.tar.gz (51kB)\n",
            "\r\u001b[K     |██████▍                         | 10kB 21.8MB/s eta 0:00:01\r\u001b[K     |████████████▉                   | 20kB 23.6MB/s eta 0:00:01\r\u001b[K     |███████████████████▎            | 30kB 13.4MB/s eta 0:00:01\r\u001b[K     |█████████████████████████▊      | 40kB 7.6MB/s eta 0:00:01\r\u001b[K     |████████████████████████████████| 51kB 4.1MB/s \n",
            "\u001b[?25hBuilding wheels for collected packages: emoji\n",
            "  Building wheel for emoji (setup.py) ... \u001b[?25l\u001b[?25hdone\n",
            "  Created wheel for emoji: filename=emoji-0.6.0-cp36-none-any.whl size=49716 sha256=c9cdd9c14d297f7de378344c13b5c6417103b7b13c46da68df7c08cb7ad7132b\n",
            "  Stored in directory: /root/.cache/pip/wheels/46/2c/8b/9dcf5216ca68e14e0320e283692dce8ae321cdc01e73e17796\n",
            "Successfully built emoji\n",
            "Installing collected packages: emoji\n",
            "Successfully installed emoji-0.6.0\n"
          ],
          "name": "stdout"
        }
      ]
    },
    {
      "cell_type": "code",
      "metadata": {
        "colab": {
          "base_uri": "https://localhost:8080/"
        },
        "id": "bNMCGuZHVrSP",
        "outputId": "1f5a7254-9ad2-4e26-f0f0-bfda1edf2c6f"
      },
      "source": [
        "a=np.array([[[1,2],[1,2]],[[1,2],[1,2]],[[1,2],[1,2]]])\n",
        "flat_predictions = np.concatenate(a, axis=0)\n",
        "flat_predictions.shape"
      ],
      "execution_count": null,
      "outputs": [
        {
          "output_type": "execute_result",
          "data": {
            "text/plain": [
              "(6, 2)"
            ]
          },
          "metadata": {
            "tags": []
          },
          "execution_count": 5
        }
      ]
    },
    {
      "cell_type": "markdown",
      "metadata": {
        "id": "X3WECWiuhA83"
      },
      "source": [
        "## loading data\n"
      ]
    },
    {
      "cell_type": "code",
      "metadata": {
        "id": "gAj46f1PbZPq",
        "colab": {
          "base_uri": "https://localhost:8080/"
        },
        "outputId": "9d784e59-73e2-4491-c704-58c41a44c00d"
      },
      "source": [
        "!git clone \"https://github.com/parsafarinnia/rumoureval2019\""
      ],
      "execution_count": null,
      "outputs": [
        {
          "output_type": "stream",
          "text": [
            "Cloning into 'rumoureval2019'...\n",
            "remote: Enumerating objects: 70, done.\u001b[K\n",
            "remote: Counting objects: 100% (70/70), done.\u001b[K\n",
            "remote: Compressing objects: 100% (54/54), done.\u001b[K\n",
            "remote: Total 70 (delta 29), reused 44 (delta 13), pack-reused 0\u001b[K\n",
            "Unpacking objects: 100% (70/70), done.\n"
          ],
          "name": "stdout"
        }
      ]
    },
    {
      "cell_type": "markdown",
      "metadata": {
        "id": "Dc6qxJ2RBb7M"
      },
      "source": [
        "### Loading source - aggregated stance(from key)\n",
        "format is {sourceId : [s,d,q,c]}"
      ]
    },
    {
      "cell_type": "code",
      "metadata": {
        "id": "sbysBQjFBxsz"
      },
      "source": [
        "import pickle\n",
        "source_stance_train = pickle.load(open (\"/content/rumoureval2019/source_stance_train.p\",\"rb\"))\n",
        "source_stance_dev = pickle.load(open (\"/content/rumoureval2019/source_stance_dev.p\",\"rb\"))\n",
        "source_stance_test = pickle.load(open (\"/content/rumoureval2019/source_stance_test.p\",\"rb\"))"
      ],
      "execution_count": null,
      "outputs": []
    },
    {
      "cell_type": "markdown",
      "metadata": {
        "id": "lUsElwTc07GB"
      },
      "source": [
        "### preprocessed clean data (Sardar's)"
      ]
    },
    {
      "cell_type": "code",
      "metadata": {
        "colab": {
          "base_uri": "https://localhost:8080/",
          "height": 222
        },
        "id": "TPNivOxqVY9D",
        "outputId": "937002d3-6b92-4f00-dbc7-126ab94ba99a"
      },
      "source": [
        "with open('/content/rumoureval2019/rum_ver_stance_dev') as f:\n",
        "  data = json.load(f)\n",
        "dev_cleaned=pd.DataFrame.from_dict(data)\n",
        "dev_cleaned"
      ],
      "execution_count": null,
      "outputs": [
        {
          "output_type": "error",
          "ename": "FileNotFoundError",
          "evalue": "ignored",
          "traceback": [
            "\u001b[0;31m---------------------------------------------------------------------------\u001b[0m",
            "\u001b[0;31mFileNotFoundError\u001b[0m                         Traceback (most recent call last)",
            "\u001b[0;32m<ipython-input-8-9ee1bf8ee295>\u001b[0m in \u001b[0;36m<module>\u001b[0;34m()\u001b[0m\n\u001b[0;32m----> 1\u001b[0;31m \u001b[0;32mwith\u001b[0m \u001b[0mopen\u001b[0m\u001b[0;34m(\u001b[0m\u001b[0;34m'/content/rumoureval2019/rum_ver_stance_dev'\u001b[0m\u001b[0;34m)\u001b[0m \u001b[0;32mas\u001b[0m \u001b[0mf\u001b[0m\u001b[0;34m:\u001b[0m\u001b[0;34m\u001b[0m\u001b[0;34m\u001b[0m\u001b[0m\n\u001b[0m\u001b[1;32m      2\u001b[0m   \u001b[0mdata\u001b[0m \u001b[0;34m=\u001b[0m \u001b[0mjson\u001b[0m\u001b[0;34m.\u001b[0m\u001b[0mload\u001b[0m\u001b[0;34m(\u001b[0m\u001b[0mf\u001b[0m\u001b[0;34m)\u001b[0m\u001b[0;34m\u001b[0m\u001b[0;34m\u001b[0m\u001b[0m\n\u001b[1;32m      3\u001b[0m \u001b[0mdev_cleaned\u001b[0m\u001b[0;34m=\u001b[0m\u001b[0mpd\u001b[0m\u001b[0;34m.\u001b[0m\u001b[0mDataFrame\u001b[0m\u001b[0;34m.\u001b[0m\u001b[0mfrom_dict\u001b[0m\u001b[0;34m(\u001b[0m\u001b[0mdata\u001b[0m\u001b[0;34m)\u001b[0m\u001b[0;34m\u001b[0m\u001b[0;34m\u001b[0m\u001b[0m\n\u001b[1;32m      4\u001b[0m \u001b[0mdev_cleaned\u001b[0m\u001b[0;34m\u001b[0m\u001b[0;34m\u001b[0m\u001b[0m\n",
            "\u001b[0;31mFileNotFoundError\u001b[0m: [Errno 2] No such file or directory: '/content/rumoureval2019/rum_ver_stance_dev'"
          ]
        }
      ]
    },
    {
      "cell_type": "code",
      "metadata": {
        "id": "DKCOjXwFV0ab"
      },
      "source": [
        "with open('/content/rumoureval2019/rum_ver_stance_train') as f:\n",
        "  data = json.load(f)\n",
        "train_cleaned=pd.DataFrame.from_dict(data)\n",
        "train_cleaned.veracitytag.unique()"
      ],
      "execution_count": null,
      "outputs": []
    },
    {
      "cell_type": "code",
      "metadata": {
        "id": "78NKwjXRjola"
      },
      "source": [
        "map= {\"Rum\":1,\"unverified\":2,\"na\":0}\n",
        "train_parent_child = train_cleaned[['text','parent_body','rum_tag']]\n",
        "dev_parent_child = dev_cleaned[['text','parent_body','rum_tag']]\n",
        "train_parent_child=train_parent_child.replace({\"rum_tag\":map})\n",
        "dev_parent_child = dev_parent_child.replace({\"rum_tag\":map})\n",
        "dev_parent_child"
      ],
      "execution_count": null,
      "outputs": []
    },
    {
      "cell_type": "markdown",
      "metadata": {
        "id": "TmYvAQUmyDH2"
      },
      "source": [
        "### parsa preprocessing"
      ]
    },
    {
      "cell_type": "code",
      "metadata": {
        "id": "7qpnfKHByMNn"
      },
      "source": [
        "with open('/content/rumoureval2019/source_reply_dev.json') as f:\n",
        "  data = json.load(f)\n",
        "dev_cleaned=pd.DataFrame.from_dict(data)\n",
        "with open('/content/rumoureval2019/source_reply_test.json') as f1:\n",
        "  data = json.load(f1)\n",
        "test_cleaned=pd.DataFrame.from_dict(data)\n",
        "with open('/content/rumoureval2019/source_reply_train.json') as f2:\n",
        "  data = json.load(f2)\n",
        "train_cleaned=pd.DataFrame.from_dict(data)\n",
        "map= {'unverified':1, 'true':2, 'false':0}\n",
        "train_parent_child=train_cleaned.replace({\"class\":map})\n",
        "dev_parent_child = dev_cleaned.replace({\"class\":map})\n",
        "test_parent_child = test_cleaned.replace({\"class\":map})\n",
        "test_parent_child.groupby(['source_text']).mean().shape"
      ],
      "execution_count": null,
      "outputs": []
    },
    {
      "cell_type": "markdown",
      "metadata": {
        "id": "0SSlbY_P1LNH"
      },
      "source": [
        "### normal not preprocessed data(only sources work now)"
      ]
    },
    {
      "cell_type": "code",
      "metadata": {
        "id": "67gB5K4kblDK",
        "colab": {
          "base_uri": "https://localhost:8080/",
          "height": 406
        },
        "outputId": "ce1a033e-1c57-4017-b433-8d69d2a19717"
      },
      "source": [
        "train = pd.read_json(\"/content/rumoureval2019/train.json\")\n",
        "# train = train.drop(train[train['class']=='unverified'].index)\n",
        "train"
      ],
      "execution_count": null,
      "outputs": [
        {
          "output_type": "execute_result",
          "data": {
            "text/html": [
              "<div>\n",
              "<style scoped>\n",
              "    .dataframe tbody tr th:only-of-type {\n",
              "        vertical-align: middle;\n",
              "    }\n",
              "\n",
              "    .dataframe tbody tr th {\n",
              "        vertical-align: top;\n",
              "    }\n",
              "\n",
              "    .dataframe thead th {\n",
              "        text-align: right;\n",
              "    }\n",
              "</style>\n",
              "<table border=\"1\" class=\"dataframe\">\n",
              "  <thead>\n",
              "    <tr style=\"text-align: right;\">\n",
              "      <th></th>\n",
              "      <th>text</th>\n",
              "      <th>class</th>\n",
              "    </tr>\n",
              "  </thead>\n",
              "  <tbody>\n",
              "    <tr>\n",
              "      <th>500288349924782080</th>\n",
              "      <td>Did anyone think of comparing the clothes that...</td>\n",
              "      <td>unverified</td>\n",
              "    </tr>\n",
              "    <tr>\n",
              "      <th>500308076004929537</th>\n",
              "      <td>Possible \"robbery\" took place and BAM! Like ma...</td>\n",
              "      <td>unverified</td>\n",
              "    </tr>\n",
              "    <tr>\n",
              "      <th>544282227035869184</th>\n",
              "      <td>BREAKING NEWS: Gunmen take hostages at Sydney ...</td>\n",
              "      <td>true</td>\n",
              "    </tr>\n",
              "    <tr>\n",
              "      <th>529695367680761856</th>\n",
              "      <td>OMG. #Prince rumoured to be performing in Toro...</td>\n",
              "      <td>false</td>\n",
              "    </tr>\n",
              "    <tr>\n",
              "      <th>544324444773433348</th>\n",
              "      <td>Uber says it has hiked prices in Sydney to \"en...</td>\n",
              "      <td>true</td>\n",
              "    </tr>\n",
              "    <tr>\n",
              "      <th>...</th>\n",
              "      <td>...</td>\n",
              "      <td>...</td>\n",
              "    </tr>\n",
              "    <tr>\n",
              "      <th>8gp0d7</th>\n",
              "      <td>[Serious] Is it true that 85% of people can on...</td>\n",
              "      <td>true</td>\n",
              "    </tr>\n",
              "    <tr>\n",
              "      <th>8i274x</th>\n",
              "      <td>Did Eric Schneiderman Help NXIVM Sell Child Se...</td>\n",
              "      <td>false</td>\n",
              "    </tr>\n",
              "    <tr>\n",
              "      <th>8n9173</th>\n",
              "      <td>Debunk this: The direction you sleep matters</td>\n",
              "      <td>false</td>\n",
              "    </tr>\n",
              "    <tr>\n",
              "      <th>8unvgg</th>\n",
              "      <td>Is it true police officers must hit a quota at...</td>\n",
              "      <td>false</td>\n",
              "    </tr>\n",
              "    <tr>\n",
              "      <th>8yktu5</th>\n",
              "      <td>Jon Sopel: Bizarre. @realDonaldTrump says he c...</td>\n",
              "      <td>false</td>\n",
              "    </tr>\n",
              "  </tbody>\n",
              "</table>\n",
              "<p>327 rows × 2 columns</p>\n",
              "</div>"
            ],
            "text/plain": [
              "                                                                 text       class\n",
              "500288349924782080  Did anyone think of comparing the clothes that...  unverified\n",
              "500308076004929537  Possible \"robbery\" took place and BAM! Like ma...  unverified\n",
              "544282227035869184  BREAKING NEWS: Gunmen take hostages at Sydney ...        true\n",
              "529695367680761856  OMG. #Prince rumoured to be performing in Toro...       false\n",
              "544324444773433348  Uber says it has hiked prices in Sydney to \"en...        true\n",
              "...                                                               ...         ...\n",
              "8gp0d7              [Serious] Is it true that 85% of people can on...        true\n",
              "8i274x              Did Eric Schneiderman Help NXIVM Sell Child Se...       false\n",
              "8n9173                   Debunk this: The direction you sleep matters       false\n",
              "8unvgg              Is it true police officers must hit a quota at...       false\n",
              "8yktu5              Jon Sopel: Bizarre. @realDonaldTrump says he c...       false\n",
              "\n",
              "[327 rows x 2 columns]"
            ]
          },
          "metadata": {
            "tags": []
          },
          "execution_count": 5
        }
      ]
    },
    {
      "cell_type": "code",
      "metadata": {
        "id": "5u-pmvrOb9Lj",
        "colab": {
          "base_uri": "https://localhost:8080/",
          "height": 1000
        },
        "outputId": "c5f2fe04-48fe-4875-f267-3bfb56833b43"
      },
      "source": [
        "dev = pd.read_json(\"/content/rumoureval2019/dev.json\")\n",
        "# dev = dev.drop(dev[dev['class']=='unverified'].index)\n",
        "dev"
      ],
      "execution_count": null,
      "outputs": [
        {
          "output_type": "execute_result",
          "data": {
            "text/html": [
              "<div>\n",
              "<style scoped>\n",
              "    .dataframe tbody tr th:only-of-type {\n",
              "        vertical-align: middle;\n",
              "    }\n",
              "\n",
              "    .dataframe tbody tr th {\n",
              "        vertical-align: top;\n",
              "    }\n",
              "\n",
              "    .dataframe thead th {\n",
              "        text-align: right;\n",
              "    }\n",
              "</style>\n",
              "<table border=\"1\" class=\"dataframe\">\n",
              "  <thead>\n",
              "    <tr style=\"text-align: right;\">\n",
              "      <th></th>\n",
              "      <th>text</th>\n",
              "      <th>class</th>\n",
              "    </tr>\n",
              "  </thead>\n",
              "  <tbody>\n",
              "    <tr>\n",
              "      <th>775057555865206784</th>\n",
              "      <td>What do you think Hillary is suffering from?</td>\n",
              "      <td>false</td>\n",
              "    </tr>\n",
              "    <tr>\n",
              "      <th>498486826269548545</th>\n",
              "      <td>.@AP I demand you retract the lie that people ...</td>\n",
              "      <td>unverified</td>\n",
              "    </tr>\n",
              "    <tr>\n",
              "      <th>774991078265094144</th>\n",
              "      <td>Except for the coughing, fainting, apparent se...</td>\n",
              "      <td>false</td>\n",
              "    </tr>\n",
              "    <tr>\n",
              "      <th>524948206023880704</th>\n",
              "      <td>The latest @CBCNews on #Ottawa shootings. Gunm...</td>\n",
              "      <td>true</td>\n",
              "    </tr>\n",
              "    <tr>\n",
              "      <th>769988636754505729</th>\n",
              "      <td>267 days since Sick Hillary had a press confer...</td>\n",
              "      <td>false</td>\n",
              "    </tr>\n",
              "    <tr>\n",
              "      <th>544315472075042818</th>\n",
              "      <td>US consulate in #Sydney reportedly evacuated a...</td>\n",
              "      <td>unverified</td>\n",
              "    </tr>\n",
              "    <tr>\n",
              "      <th>524936793633083394</th>\n",
              "      <td>Very tense situation in Ottawa this morning.  ...</td>\n",
              "      <td>true</td>\n",
              "    </tr>\n",
              "    <tr>\n",
              "      <th>553561170637238272</th>\n",
              "      <td>BREAKING: Police order all shops closed in fam...</td>\n",
              "      <td>unverified</td>\n",
              "    </tr>\n",
              "    <tr>\n",
              "      <th>763098277986209792</th>\n",
              "      <td>Hillary Mystery Handler Spotted With Diazepam ...</td>\n",
              "      <td>false</td>\n",
              "    </tr>\n",
              "    <tr>\n",
              "      <th>498293668655423488</th>\n",
              "      <td>Every 28 hours a black male is killed in the U...</td>\n",
              "      <td>unverified</td>\n",
              "    </tr>\n",
              "    <tr>\n",
              "      <th>524941720249978880</th>\n",
              "      <td>Footage from Globe reporter captures exchange ...</td>\n",
              "      <td>true</td>\n",
              "    </tr>\n",
              "    <tr>\n",
              "      <th>553553288625672192</th>\n",
              "      <td>#BREAKING Paris hostage-taker 'knows' one Char...</td>\n",
              "      <td>true</td>\n",
              "    </tr>\n",
              "    <tr>\n",
              "      <th>764927075522260992</th>\n",
              "      <td>Secret Service tells Infowars: Hillary serious...</td>\n",
              "      <td>false</td>\n",
              "    </tr>\n",
              "    <tr>\n",
              "      <th>544274544174071809</th>\n",
              "      <td>Take a break from bashing Cheney and waterboar...</td>\n",
              "      <td>false</td>\n",
              "    </tr>\n",
              "    <tr>\n",
              "      <th>758159624122097664</th>\n",
              "      <td>Anyone who knows Marina Joyce personally knows...</td>\n",
              "      <td>false</td>\n",
              "    </tr>\n",
              "    <tr>\n",
              "      <th>552788945017516032</th>\n",
              "      <td>Appalled by the attack on Charlie Hebdo in Par...</td>\n",
              "      <td>true</td>\n",
              "    </tr>\n",
              "    <tr>\n",
              "      <th>500280249629036544</th>\n",
              "      <td>Police name the officer who shot #Ferguson tee...</td>\n",
              "      <td>unverified</td>\n",
              "    </tr>\n",
              "    <tr>\n",
              "      <th>580352273001410560</th>\n",
              "      <td>NEWS: 'Emergency Emergency' was the final dist...</td>\n",
              "      <td>false</td>\n",
              "    </tr>\n",
              "    <tr>\n",
              "      <th>500298588992593920</th>\n",
              "      <td>Police have named the cop who shot Michael Bro...</td>\n",
              "      <td>unverified</td>\n",
              "    </tr>\n",
              "    <tr>\n",
              "      <th>524923293711998976</th>\n",
              "      <td>At the war memorial in. Ottawa. A soldier has ...</td>\n",
              "      <td>true</td>\n",
              "    </tr>\n",
              "    <tr>\n",
              "      <th>553480082996879360</th>\n",
              "      <td>Reports of fatality and injuries following sho...</td>\n",
              "      <td>false</td>\n",
              "    </tr>\n",
              "    <tr>\n",
              "      <th>544294893146091520</th>\n",
              "      <td>Ongoing hostage situation in Sydney café. #syd...</td>\n",
              "      <td>true</td>\n",
              "    </tr>\n",
              "    <tr>\n",
              "      <th>767725956706414592</th>\n",
              "      <td>\"Go online &amp;amp; put down 'Hillary Clinton ill...</td>\n",
              "      <td>false</td>\n",
              "    </tr>\n",
              "    <tr>\n",
              "      <th>581153923987206146</th>\n",
              "      <td>Germanwings co-pilot battled depression in '09...</td>\n",
              "      <td>unverified</td>\n",
              "    </tr>\n",
              "    <tr>\n",
              "      <th>581359544682614784</th>\n",
              "      <td>Germanwings co-pilot had serious depressive ep...</td>\n",
              "      <td>unverified</td>\n",
              "    </tr>\n",
              "    <tr>\n",
              "      <th>524961721744900097</th>\n",
              "      <td>Canadian soldier who was shot at #Ottawa's War...</td>\n",
              "      <td>true</td>\n",
              "    </tr>\n",
              "    <tr>\n",
              "      <th>768859780240773121</th>\n",
              "      <td>Sick Hillary is seen here using great caution ...</td>\n",
              "      <td>false</td>\n",
              "    </tr>\n",
              "    <tr>\n",
              "      <th>581290271997968384</th>\n",
              "      <td>GERMAN NEWS: Co-Pilot of Germanwings Airbus Wa...</td>\n",
              "      <td>false</td>\n",
              "    </tr>\n",
              "    <tr>\n",
              "      <th>66yxyf</th>\n",
              "      <td>Debunk this: Mt. Etna has already put out more...</td>\n",
              "      <td>false</td>\n",
              "    </tr>\n",
              "    <tr>\n",
              "      <th>1jvbd8</th>\n",
              "      <td>Fukushima spewing equivalent of 112 Hiroshima-...</td>\n",
              "      <td>false</td>\n",
              "    </tr>\n",
              "    <tr>\n",
              "      <th>31xv6u</th>\n",
              "      <td>[serious] Man and dinosaurs lived at the same ...</td>\n",
              "      <td>false</td>\n",
              "    </tr>\n",
              "    <tr>\n",
              "      <th>4dfdvo</th>\n",
              "      <td>Debunk this: Fluoride declared neurotoxin, cau...</td>\n",
              "      <td>false</td>\n",
              "    </tr>\n",
              "    <tr>\n",
              "      <th>5qzxep</th>\n",
              "      <td>Is it true that if you have your phone on char...</td>\n",
              "      <td>false</td>\n",
              "    </tr>\n",
              "    <tr>\n",
              "      <th>6hb6b3</th>\n",
              "      <td>Is it true the Earth is flat? Is there proof? ...</td>\n",
              "      <td>false</td>\n",
              "    </tr>\n",
              "    <tr>\n",
              "      <th>7d28gk</th>\n",
              "      <td>Is it true that some people in America gets ja...</td>\n",
              "      <td>true</td>\n",
              "    </tr>\n",
              "    <tr>\n",
              "      <th>83ddtk</th>\n",
              "      <td>Oh sweet and wholesome Reddit, is it true US c...</td>\n",
              "      <td>unverified</td>\n",
              "    </tr>\n",
              "    <tr>\n",
              "      <th>8j9s33</th>\n",
              "      <td>Face facts: Immigrants commit fewer crimes tha...</td>\n",
              "      <td>true</td>\n",
              "    </tr>\n",
              "    <tr>\n",
              "      <th>934q6t</th>\n",
              "      <td>Iodine increases IQ and is an essential part o...</td>\n",
              "      <td>false</td>\n",
              "    </tr>\n",
              "  </tbody>\n",
              "</table>\n",
              "</div>"
            ],
            "text/plain": [
              "                                                                 text       class\n",
              "775057555865206784       What do you think Hillary is suffering from?       false\n",
              "498486826269548545  .@AP I demand you retract the lie that people ...  unverified\n",
              "774991078265094144  Except for the coughing, fainting, apparent se...       false\n",
              "524948206023880704  The latest @CBCNews on #Ottawa shootings. Gunm...        true\n",
              "769988636754505729  267 days since Sick Hillary had a press confer...       false\n",
              "544315472075042818  US consulate in #Sydney reportedly evacuated a...  unverified\n",
              "524936793633083394  Very tense situation in Ottawa this morning.  ...        true\n",
              "553561170637238272  BREAKING: Police order all shops closed in fam...  unverified\n",
              "763098277986209792  Hillary Mystery Handler Spotted With Diazepam ...       false\n",
              "498293668655423488  Every 28 hours a black male is killed in the U...  unverified\n",
              "524941720249978880  Footage from Globe reporter captures exchange ...        true\n",
              "553553288625672192  #BREAKING Paris hostage-taker 'knows' one Char...        true\n",
              "764927075522260992  Secret Service tells Infowars: Hillary serious...       false\n",
              "544274544174071809  Take a break from bashing Cheney and waterboar...       false\n",
              "758159624122097664  Anyone who knows Marina Joyce personally knows...       false\n",
              "552788945017516032  Appalled by the attack on Charlie Hebdo in Par...        true\n",
              "500280249629036544  Police name the officer who shot #Ferguson tee...  unverified\n",
              "580352273001410560  NEWS: 'Emergency Emergency' was the final dist...       false\n",
              "500298588992593920  Police have named the cop who shot Michael Bro...  unverified\n",
              "524923293711998976  At the war memorial in. Ottawa. A soldier has ...        true\n",
              "553480082996879360  Reports of fatality and injuries following sho...       false\n",
              "544294893146091520  Ongoing hostage situation in Sydney café. #syd...        true\n",
              "767725956706414592  \"Go online &amp; put down 'Hillary Clinton ill...       false\n",
              "581153923987206146  Germanwings co-pilot battled depression in '09...  unverified\n",
              "581359544682614784  Germanwings co-pilot had serious depressive ep...  unverified\n",
              "524961721744900097  Canadian soldier who was shot at #Ottawa's War...        true\n",
              "768859780240773121  Sick Hillary is seen here using great caution ...       false\n",
              "581290271997968384  GERMAN NEWS: Co-Pilot of Germanwings Airbus Wa...       false\n",
              "66yxyf              Debunk this: Mt. Etna has already put out more...       false\n",
              "1jvbd8              Fukushima spewing equivalent of 112 Hiroshima-...       false\n",
              "31xv6u              [serious] Man and dinosaurs lived at the same ...       false\n",
              "4dfdvo              Debunk this: Fluoride declared neurotoxin, cau...       false\n",
              "5qzxep              Is it true that if you have your phone on char...       false\n",
              "6hb6b3              Is it true the Earth is flat? Is there proof? ...       false\n",
              "7d28gk              Is it true that some people in America gets ja...        true\n",
              "83ddtk              Oh sweet and wholesome Reddit, is it true US c...  unverified\n",
              "8j9s33              Face facts: Immigrants commit fewer crimes tha...        true\n",
              "934q6t              Iodine increases IQ and is an essential part o...       false"
            ]
          },
          "metadata": {
            "tags": []
          },
          "execution_count": 6
        }
      ]
    },
    {
      "cell_type": "code",
      "metadata": {
        "id": "STgF7ojDcQuJ",
        "colab": {
          "base_uri": "https://localhost:8080/",
          "height": 406
        },
        "outputId": "1257dbe8-9675-4d04-ae0a-b59dfad9046e"
      },
      "source": [
        "test = pd.read_json(\"/content/rumoureval2019/test.json\")\n",
        "test"
      ],
      "execution_count": null,
      "outputs": [
        {
          "output_type": "execute_result",
          "data": {
            "text/html": [
              "<div>\n",
              "<style scoped>\n",
              "    .dataframe tbody tr th:only-of-type {\n",
              "        vertical-align: middle;\n",
              "    }\n",
              "\n",
              "    .dataframe tbody tr th {\n",
              "        vertical-align: top;\n",
              "    }\n",
              "\n",
              "    .dataframe thead th {\n",
              "        text-align: right;\n",
              "    }\n",
              "</style>\n",
              "<table border=\"1\" class=\"dataframe\">\n",
              "  <thead>\n",
              "    <tr style=\"text-align: right;\">\n",
              "      <th></th>\n",
              "      <th>text</th>\n",
              "      <th>class</th>\n",
              "    </tr>\n",
              "  </thead>\n",
              "  <tbody>\n",
              "    <tr>\n",
              "      <th>443938194715713536</th>\n",
              "      <td>Rep. Sheila Jackson Lee has no shame. I still ...</td>\n",
              "      <td>true</td>\n",
              "    </tr>\n",
              "    <tr>\n",
              "      <th>774165935041093633</th>\n",
              "      <td>ICYMI: \"Rep Sheila Jackson Lee (D-Tx) Wants Hu...</td>\n",
              "      <td>true</td>\n",
              "    </tr>\n",
              "    <tr>\n",
              "      <th>784071228248109057</th>\n",
              "      <td>Clinton camp delays Weather Channel ad buy aft...</td>\n",
              "      <td>true</td>\n",
              "    </tr>\n",
              "    <tr>\n",
              "      <th>784118929799073793</th>\n",
              "      <td>Clinton camp delays Weather Channel ad buy aft...</td>\n",
              "      <td>true</td>\n",
              "    </tr>\n",
              "    <tr>\n",
              "      <th>784216706080178176</th>\n",
              "      <td>Clinton camp delays Weather Channel ad buy aft...</td>\n",
              "      <td>true</td>\n",
              "    </tr>\n",
              "    <tr>\n",
              "      <th>...</th>\n",
              "      <td>...</td>\n",
              "      <td>...</td>\n",
              "    </tr>\n",
              "    <tr>\n",
              "      <th>8m9y0o</th>\n",
              "      <td>People who can't smell. Is it true that there ...</td>\n",
              "      <td>true</td>\n",
              "    </tr>\n",
              "    <tr>\n",
              "      <th>938o5h</th>\n",
              "      <td>Great Pyramid of Giza can focus electromagneti...</td>\n",
              "      <td>true</td>\n",
              "    </tr>\n",
              "    <tr>\n",
              "      <th>ayn70</th>\n",
              "      <td>Is it true that the federal government require...</td>\n",
              "      <td>false</td>\n",
              "    </tr>\n",
              "    <tr>\n",
              "      <th>wfajw</th>\n",
              "      <td>Is it true Romney has Caymen bank accounts?</td>\n",
              "      <td>true</td>\n",
              "    </tr>\n",
              "    <tr>\n",
              "      <th>xn2bn</th>\n",
              "      <td>I've been searching, and can't find a single c...</td>\n",
              "      <td>false</td>\n",
              "    </tr>\n",
              "  </tbody>\n",
              "</table>\n",
              "<p>81 rows × 2 columns</p>\n",
              "</div>"
            ],
            "text/plain": [
              "                                                                 text  class\n",
              "443938194715713536  Rep. Sheila Jackson Lee has no shame. I still ...   true\n",
              "774165935041093633  ICYMI: \"Rep Sheila Jackson Lee (D-Tx) Wants Hu...   true\n",
              "784071228248109057  Clinton camp delays Weather Channel ad buy aft...   true\n",
              "784118929799073793  Clinton camp delays Weather Channel ad buy aft...   true\n",
              "784216706080178176  Clinton camp delays Weather Channel ad buy aft...   true\n",
              "...                                                               ...    ...\n",
              "8m9y0o              People who can't smell. Is it true that there ...   true\n",
              "938o5h              Great Pyramid of Giza can focus electromagneti...   true\n",
              "ayn70               Is it true that the federal government require...  false\n",
              "wfajw                     Is it true Romney has Caymen bank accounts?   true\n",
              "xn2bn               I've been searching, and can't find a single c...  false\n",
              "\n",
              "[81 rows x 2 columns]"
            ]
          },
          "metadata": {
            "tags": []
          },
          "execution_count": 7
        }
      ]
    },
    {
      "cell_type": "code",
      "metadata": {
        "id": "ZGBcDnTac0dL",
        "colab": {
          "base_uri": "https://localhost:8080/",
          "height": 406
        },
        "outputId": "e2fb70e6-87bb-4c2a-dde2-983223e0025b"
      },
      "source": [
        "# mapping categorical to numerical\n",
        "map= {\"true\":1,\"unverified\":2,\"false\":0}\n",
        "train=train.replace({\"class\":map})\n",
        "train"
      ],
      "execution_count": null,
      "outputs": [
        {
          "output_type": "execute_result",
          "data": {
            "text/html": [
              "<div>\n",
              "<style scoped>\n",
              "    .dataframe tbody tr th:only-of-type {\n",
              "        vertical-align: middle;\n",
              "    }\n",
              "\n",
              "    .dataframe tbody tr th {\n",
              "        vertical-align: top;\n",
              "    }\n",
              "\n",
              "    .dataframe thead th {\n",
              "        text-align: right;\n",
              "    }\n",
              "</style>\n",
              "<table border=\"1\" class=\"dataframe\">\n",
              "  <thead>\n",
              "    <tr style=\"text-align: right;\">\n",
              "      <th></th>\n",
              "      <th>text</th>\n",
              "      <th>class</th>\n",
              "    </tr>\n",
              "  </thead>\n",
              "  <tbody>\n",
              "    <tr>\n",
              "      <th>500288349924782080</th>\n",
              "      <td>Did anyone think of comparing the clothes that...</td>\n",
              "      <td>2</td>\n",
              "    </tr>\n",
              "    <tr>\n",
              "      <th>500308076004929537</th>\n",
              "      <td>Possible \"robbery\" took place and BAM! Like ma...</td>\n",
              "      <td>2</td>\n",
              "    </tr>\n",
              "    <tr>\n",
              "      <th>544282227035869184</th>\n",
              "      <td>BREAKING NEWS: Gunmen take hostages at Sydney ...</td>\n",
              "      <td>1</td>\n",
              "    </tr>\n",
              "    <tr>\n",
              "      <th>529695367680761856</th>\n",
              "      <td>OMG. #Prince rumoured to be performing in Toro...</td>\n",
              "      <td>0</td>\n",
              "    </tr>\n",
              "    <tr>\n",
              "      <th>544324444773433348</th>\n",
              "      <td>Uber says it has hiked prices in Sydney to \"en...</td>\n",
              "      <td>1</td>\n",
              "    </tr>\n",
              "    <tr>\n",
              "      <th>...</th>\n",
              "      <td>...</td>\n",
              "      <td>...</td>\n",
              "    </tr>\n",
              "    <tr>\n",
              "      <th>8gp0d7</th>\n",
              "      <td>[Serious] Is it true that 85% of people can on...</td>\n",
              "      <td>1</td>\n",
              "    </tr>\n",
              "    <tr>\n",
              "      <th>8i274x</th>\n",
              "      <td>Did Eric Schneiderman Help NXIVM Sell Child Se...</td>\n",
              "      <td>0</td>\n",
              "    </tr>\n",
              "    <tr>\n",
              "      <th>8n9173</th>\n",
              "      <td>Debunk this: The direction you sleep matters</td>\n",
              "      <td>0</td>\n",
              "    </tr>\n",
              "    <tr>\n",
              "      <th>8unvgg</th>\n",
              "      <td>Is it true police officers must hit a quota at...</td>\n",
              "      <td>0</td>\n",
              "    </tr>\n",
              "    <tr>\n",
              "      <th>8yktu5</th>\n",
              "      <td>Jon Sopel: Bizarre. @realDonaldTrump says he c...</td>\n",
              "      <td>0</td>\n",
              "    </tr>\n",
              "  </tbody>\n",
              "</table>\n",
              "<p>327 rows × 2 columns</p>\n",
              "</div>"
            ],
            "text/plain": [
              "                                                                 text  class\n",
              "500288349924782080  Did anyone think of comparing the clothes that...      2\n",
              "500308076004929537  Possible \"robbery\" took place and BAM! Like ma...      2\n",
              "544282227035869184  BREAKING NEWS: Gunmen take hostages at Sydney ...      1\n",
              "529695367680761856  OMG. #Prince rumoured to be performing in Toro...      0\n",
              "544324444773433348  Uber says it has hiked prices in Sydney to \"en...      1\n",
              "...                                                               ...    ...\n",
              "8gp0d7              [Serious] Is it true that 85% of people can on...      1\n",
              "8i274x              Did Eric Schneiderman Help NXIVM Sell Child Se...      0\n",
              "8n9173                   Debunk this: The direction you sleep matters      0\n",
              "8unvgg              Is it true police officers must hit a quota at...      0\n",
              "8yktu5              Jon Sopel: Bizarre. @realDonaldTrump says he c...      0\n",
              "\n",
              "[327 rows x 2 columns]"
            ]
          },
          "metadata": {
            "tags": []
          },
          "execution_count": 8
        }
      ]
    },
    {
      "cell_type": "code",
      "metadata": {
        "id": "762FLlX0dvRG"
      },
      "source": [
        "test=test.replace({\"class\":map})\n",
        "dev=dev.replace({\"class\":map})\n"
      ],
      "execution_count": null,
      "outputs": []
    },
    {
      "cell_type": "markdown",
      "metadata": {
        "id": "r6RP4whLVEDS"
      },
      "source": [
        "### importing saved vectorized data"
      ]
    },
    {
      "cell_type": "code",
      "metadata": {
        "id": "iKsHsxXAVJb6"
      },
      "source": [
        "import pickle\n",
        "bert_tweet_vecs = pickle.load( open( \"/content/rumoureval2019/bert_tweet_vecs.p\", \"rb\" ) )\n",
        "train_features=bert_tweet_vecs['train']\n",
        "dev_features=bert_tweet_vecs['dev']\n",
        "test_features=bert_tweet_vecs['test']"
      ],
      "execution_count": null,
      "outputs": []
    },
    {
      "cell_type": "markdown",
      "metadata": {
        "id": "KkfH0sdU1nZg"
      },
      "source": [
        "### final data for train dev test "
      ]
    },
    {
      "cell_type": "markdown",
      "metadata": {
        "id": "jXfN299e3ew1"
      },
      "source": [
        "#### parsa cleaned data\n"
      ]
    },
    {
      "cell_type": "code",
      "metadata": {
        "id": "PIsFQgEV4oOw",
        "colab": {
          "base_uri": "https://localhost:8080/",
          "height": 240
        },
        "outputId": "e8c7cac3-7628-4502-f6ac-0122caf4b415"
      },
      "source": [
        "'''\n",
        "if preprocessed by parsa\n",
        "'''\n",
        "train_sources=train_parent_child.source_text.values\n",
        "train_comments=train_parent_child.reply_text.values\n",
        "train_labels=train_parent_child['class'].values\n",
        "dev_sources = dev_parent_child.source_text.values\n",
        "dev_comments = dev_parent_child.reply_text.values\n",
        "dev_labels = dev_parent_child['class'].values\n",
        "test_sources = test_parent_child.source_text.values\n",
        "test_comments = test_parent_child.reply_text.values\n",
        "test_labels = test_parent_child['class'].values"
      ],
      "execution_count": null,
      "outputs": [
        {
          "output_type": "error",
          "ename": "NameError",
          "evalue": "ignored",
          "traceback": [
            "\u001b[0;31m---------------------------------------------------------------------------\u001b[0m",
            "\u001b[0;31mNameError\u001b[0m                                 Traceback (most recent call last)",
            "\u001b[0;32m<ipython-input-13-a230beb225bd>\u001b[0m in \u001b[0;36m<module>\u001b[0;34m()\u001b[0m\n\u001b[1;32m      2\u001b[0m \u001b[0;32mif\u001b[0m \u001b[0mpreprocessed\u001b[0m \u001b[0mby\u001b[0m \u001b[0mparsa\u001b[0m\u001b[0;34m\u001b[0m\u001b[0;34m\u001b[0m\u001b[0m\n\u001b[1;32m      3\u001b[0m '''\n\u001b[0;32m----> 4\u001b[0;31m \u001b[0mtrain_sources\u001b[0m\u001b[0;34m=\u001b[0m\u001b[0mtrain_parent_child\u001b[0m\u001b[0;34m.\u001b[0m\u001b[0msource_text\u001b[0m\u001b[0;34m.\u001b[0m\u001b[0mvalues\u001b[0m\u001b[0;34m\u001b[0m\u001b[0;34m\u001b[0m\u001b[0m\n\u001b[0m\u001b[1;32m      5\u001b[0m \u001b[0mtrain_comments\u001b[0m\u001b[0;34m=\u001b[0m\u001b[0mtrain_parent_child\u001b[0m\u001b[0;34m.\u001b[0m\u001b[0mreply_text\u001b[0m\u001b[0;34m.\u001b[0m\u001b[0mvalues\u001b[0m\u001b[0;34m\u001b[0m\u001b[0;34m\u001b[0m\u001b[0m\n\u001b[1;32m      6\u001b[0m \u001b[0mtrain_labels\u001b[0m\u001b[0;34m=\u001b[0m\u001b[0mtrain_parent_child\u001b[0m\u001b[0;34m[\u001b[0m\u001b[0;34m'class'\u001b[0m\u001b[0;34m]\u001b[0m\u001b[0;34m.\u001b[0m\u001b[0mvalues\u001b[0m\u001b[0;34m\u001b[0m\u001b[0;34m\u001b[0m\u001b[0m\n",
            "\u001b[0;31mNameError\u001b[0m: name 'train_parent_child' is not defined"
          ]
        }
      ]
    },
    {
      "cell_type": "code",
      "metadata": {
        "id": "VEvA3ryq7DxA"
      },
      "source": [
        "train_sources=np.reshape(train_sources,(len(train_sources),1))\n",
        "train_comments=np.reshape(train_comments,(len(train_comments),1))\n",
        "train_data=np.concatenate([train_sources,train_comments],axis=1)\n",
        "dev_sources=np.reshape(dev_sources,(len(dev_sources),1))\n",
        "dev_comments=np.reshape(dev_comments,(len(dev_comments),1))\n",
        "dev_data=np.concatenate([dev_sources,dev_comments],axis=1)\n",
        "test_sources=np.reshape(test_sources,(len(test_sources),1))\n",
        "test_comments=np.reshape(test_comments,(len(test_comments),1))\n",
        "test_data=np.concatenate([test_sources,test_comments],axis=1)"
      ],
      "execution_count": null,
      "outputs": []
    },
    {
      "cell_type": "markdown",
      "metadata": {
        "id": "VPETM7YX7AdV"
      },
      "source": [
        "#### by others\n",
        "sardars and source only tweet"
      ]
    },
    {
      "cell_type": "code",
      "metadata": {
        "id": "yHLMtzcKhrQj",
        "colab": {
          "base_uri": "https://localhost:8080/"
        },
        "outputId": "3d3d66e6-1b4e-4617-dac6-46f4d4529e51"
      },
      "source": [
        "'''\n",
        "if not preprocessed\n",
        "'''\n",
        "train_sentences=train.text.values\n",
        "train_labels = train[\"class\"].values\n",
        "test_sentences=test.text.values\n",
        "test_labels = test[\"class\"].values\n",
        "dev_sentences=dev.text.values\n",
        "dev_labels = dev[\"class\"].values\n",
        "'''\n",
        "if preprocessed by sardar\n",
        "'''\n",
        "# train_sources=train_parent_child.parent_body.values\n",
        "# train_comments=train_parent_child.text.values\n",
        "# train_labels=train_parent_child.rum_tag.values\n",
        "# dev_sources = dev_parent_child.parent_body.values\n",
        "# dev_comments = dev_parent_child.text.values\n",
        "# dev_labels = dev_parent_child.rum_tag.values\n",
        "'''\n",
        "from sklearn.model_selection import train_test_split\n",
        "train_sources=np.reshape(train_sources,(len(train_sources),1))\n",
        "train_comments=np.reshape(train_comments,(len(train_comments),1))\n",
        "train_data=np.concatenate([train_sources,train_comments],axis=1)\n",
        "train_data, val_data, train_labels, val_labels = train_test_split(train_data, train_labels, test_size=0.2)\n",
        "dev_sources=np.reshape(dev_sources,(len(dev_sources),1))\n",
        "dev_comments=np.reshape(dev_comments,(len(dev_comments),1))\n",
        "test_data=np.concatenate([dev_sources,dev_comments],axis=1)\n",
        "'''\n",
        "\n"
      ],
      "execution_count": null,
      "outputs": [
        {
          "output_type": "execute_result",
          "data": {
            "application/vnd.google.colaboratory.intrinsic+json": {
              "type": "string"
            },
            "text/plain": [
              "'\\nfrom sklearn.model_selection import train_test_split\\ntrain_sources=np.reshape(train_sources,(len(train_sources),1))\\ntrain_comments=np.reshape(train_comments,(len(train_comments),1))\\ntrain_data=np.concatenate([train_sources,train_comments],axis=1)\\ntrain_data, val_data, train_labels, val_labels = train_test_split(train_data, train_labels, test_size=0.2)\\ndev_sources=np.reshape(dev_sources,(len(dev_sources),1))\\ndev_comments=np.reshape(dev_comments,(len(dev_comments),1))\\ntest_data=np.concatenate([dev_sources,dev_comments],axis=1)\\n'"
            ]
          },
          "metadata": {
            "tags": []
          },
          "execution_count": 13
        }
      ]
    },
    {
      "cell_type": "code",
      "metadata": {
        "id": "gw7xO2kA6vY9"
      },
      "source": [
        "train_ids=train.index.values\n",
        "dev_ids=dev.index.values\n",
        "test_ids=test.index.values"
      ],
      "execution_count": null,
      "outputs": []
    },
    {
      "cell_type": "code",
      "metadata": {
        "id": "ky02kEOgQxMg"
      },
      "source": [
        "#rearrange train stance\n",
        "rearranged_list_train=[]\n",
        "for train_id in train_ids:\n",
        "  rearranged_list_train.append(source_stance_train[train_id])\n",
        "rearranged_list_dev=[]\n",
        "for train_id in dev_ids:\n",
        "  rearranged_list_dev.append(source_stance_dev[train_id])\n",
        "rearranged_list_test=[]\n",
        "for train_id in test_ids:\n",
        "  rearranged_list_test.append(source_stance_test[train_id])"
      ],
      "execution_count": null,
      "outputs": []
    },
    {
      "cell_type": "code",
      "metadata": {
        "id": "n0HMu_LsI_12"
      },
      "source": [
        "\n",
        "train_labels_hv=[]\n",
        "for label in train['class'].values:\n",
        "  dummy=[0,0,0]\n",
        "  dummy[label]=1\n",
        "  train_labels_hv.append(dummy)\n",
        "test_labels_hv=[]\n",
        "for label in test['class'].values:\n",
        "  dummy=[0,0,0]\n",
        "  dummy[label]=1\n",
        "  test_labels_hv.append(dummy)\n",
        "dev_labels_hv=[]\n",
        "for label in dev['class'].values:\n",
        "  dummy=[0,0,0]\n",
        "  dummy[label]=1\n",
        "  dev_labels_hv.append(dummy)\n",
        "\n"
      ],
      "execution_count": null,
      "outputs": []
    },
    {
      "cell_type": "code",
      "metadata": {
        "id": "gPUp7OXcTXp3",
        "colab": {
          "base_uri": "https://localhost:8080/"
        },
        "outputId": "44e1a0eb-cdc0-4e15-d748-aac8fe8d5a66"
      },
      "source": [
        "stance_train=np.array(rearranged_list_train)\n",
        "stance_dev=np.array(rearranged_list_dev)\n",
        "stance_test=np.array(rearranged_list_test)\n",
        "train_labels_hv=np.array(train_labels_hv)\n",
        "dev_labels_hv=np.array(dev_labels_hv)\n",
        "test_labels_hv=np.array(test_labels_hv)\n",
        "print(stance_train.shape)\n",
        "print(train_labels_hv.shape)\n",
        "print(stance_dev.shape)\n",
        "print(dev_labels_hv.shape)\n",
        "print(stance_test.shape)\n",
        "print(test_labels_hv.shape)"
      ],
      "execution_count": null,
      "outputs": [
        {
          "output_type": "stream",
          "text": [
            "(327, 4)\n",
            "(327, 3)\n",
            "(38, 4)\n",
            "(38, 3)\n",
            "(81, 4)\n",
            "(81, 3)\n"
          ],
          "name": "stdout"
        }
      ]
    },
    {
      "cell_type": "markdown",
      "metadata": {
        "id": "XIwoQjKLhKrw"
      },
      "source": [
        "## loading berts\n",
        "\n",
        "\n"
      ]
    },
    {
      "cell_type": "code",
      "metadata": {
        "id": "b8VmLiL7VHj5",
        "colab": {
          "base_uri": "https://localhost:8080/",
          "height": 233,
          "referenced_widgets": [
            "aa0a80fdc4ad4186899ef6bfff31a55f",
            "61470306a0884c62b2cae65150d59219",
            "2cbc3b34a1594b5aa587f868a315c1f7",
            "fe169e98506b45c5832f17eb37301fbc",
            "64d9868eeb274938abc34f5b9547e78c",
            "8326c2bd3b0f4f81ac760dfb2aa8c955",
            "c2df3b76936448dd81385b9204bc9f53",
            "24d45bf86e4e49c48708fac9b185e195",
            "1cc8270f69e3471da460253421c97d8c",
            "7de2a7cbf63b44b194405fc96e4f3810",
            "0608c7fc55134dcaa2884edc0ea64563",
            "1c817b011294455c84d4654fc08e8c81",
            "c16b16e3fbb447408c49c8804e49c1f8",
            "94743e57d2624fd99993c565e2317d5a",
            "79d9eaa7c825463089846af8aef43a56",
            "65e637db07fb4c56b30cf2d563a5314c",
            "2f2091ea64be4842bddf02035935a966",
            "b7905b45a77f41b9ac2b0bb20ba572d8",
            "eebd6c295bf24d2fb3d444810af35978",
            "443c960c190848a9a1a5d8d8d5d8756e",
            "c2db17b28e4549358713454d42691758",
            "6f6fa748ae904ad1bc5072458aba210d",
            "40f26f125a2f4a31984f5798a9d8a8c6",
            "d01fb150b0094457a9f2015fefdd84c0",
            "b88109de7be3483a9d8d1a325350d238",
            "3f828646d9d248489bd0306229f30b2a",
            "7dc5e304d2e5461693b3158e2dd7dd67",
            "0b525a0bf8754bc5bc57ffd0862d7c06",
            "6e2939a40af644bc945207f8d0201a98",
            "ed2ee9c7a5154200a3ecbad519b51112",
            "daab6052183d43c5956529d76732b3ff",
            "0c2d8f1e1ad3471791bb7158aa7433e7"
          ]
        },
        "outputId": "d658f70a-8a9a-460e-ef30-6528b9b23c98"
      },
      "source": [
        "from transformers import AutoModel, AutoTokenizer \n",
        "# Load BERT TWEET tokenizer and model\n",
        "bert_tweet = AutoModel.from_pretrained(\"vinai/bertweet-base\")\n",
        "tokenizer_tweet = AutoTokenizer.from_pretrained(\"vinai/bertweet-base\",normalization=True)\n",
        "# bert_tweet = AutoModel.from_pretrained(\"bert-base-uncased\")\n",
        "# tokenizer_tweet = AutoTokenizer.from_pretrained(\"bert-base-uncased\",normalization=True)"
      ],
      "execution_count": null,
      "outputs": [
        {
          "output_type": "display_data",
          "data": {
            "application/vnd.jupyter.widget-view+json": {
              "model_id": "aa0a80fdc4ad4186899ef6bfff31a55f",
              "version_minor": 0,
              "version_major": 2
            },
            "text/plain": [
              "HBox(children=(FloatProgress(value=0.0, description='Downloading', max=558.0, style=ProgressStyle(description_…"
            ]
          },
          "metadata": {
            "tags": []
          }
        },
        {
          "output_type": "stream",
          "text": [
            "\n"
          ],
          "name": "stdout"
        },
        {
          "output_type": "display_data",
          "data": {
            "application/vnd.jupyter.widget-view+json": {
              "model_id": "1cc8270f69e3471da460253421c97d8c",
              "version_minor": 0,
              "version_major": 2
            },
            "text/plain": [
              "HBox(children=(FloatProgress(value=0.0, description='Downloading', max=542529064.0, style=ProgressStyle(descri…"
            ]
          },
          "metadata": {
            "tags": []
          }
        },
        {
          "output_type": "stream",
          "text": [
            "\n"
          ],
          "name": "stdout"
        },
        {
          "output_type": "display_data",
          "data": {
            "application/vnd.jupyter.widget-view+json": {
              "model_id": "2f2091ea64be4842bddf02035935a966",
              "version_minor": 0,
              "version_major": 2
            },
            "text/plain": [
              "HBox(children=(FloatProgress(value=0.0, description='Downloading', max=843438.0, style=ProgressStyle(descripti…"
            ]
          },
          "metadata": {
            "tags": []
          }
        },
        {
          "output_type": "stream",
          "text": [
            "\n"
          ],
          "name": "stdout"
        },
        {
          "output_type": "display_data",
          "data": {
            "application/vnd.jupyter.widget-view+json": {
              "model_id": "b88109de7be3483a9d8d1a325350d238",
              "version_minor": 0,
              "version_major": 2
            },
            "text/plain": [
              "HBox(children=(FloatProgress(value=0.0, description='Downloading', max=1078931.0, style=ProgressStyle(descript…"
            ]
          },
          "metadata": {
            "tags": []
          }
        },
        {
          "output_type": "stream",
          "text": [
            "\n"
          ],
          "name": "stdout"
        },
        {
          "output_type": "stream",
          "text": [
            "Special tokens have been added in the vocabulary, make sure the associated word embedding are fine-tuned or trained.\n"
          ],
          "name": "stderr"
        }
      ]
    },
    {
      "cell_type": "markdown",
      "metadata": {
        "id": "2lkzEiD5El_z"
      },
      "source": [
        "#Training"
      ]
    },
    {
      "cell_type": "markdown",
      "metadata": {
        "id": "ieRgqaXUT-Tm"
      },
      "source": [
        "## Naive bayes"
      ]
    },
    {
      "cell_type": "code",
      "metadata": {
        "colab": {
          "base_uri": "https://localhost:8080/"
        },
        "id": "oFef1EAnUEFW",
        "outputId": "65af6f4c-9345-4383-9c04-a7b662de948d"
      },
      "source": [
        "from sklearn.naive_bayes import MultinomialNB\n",
        "from sklearn.metrics import classification_report\n",
        "x=np.concatenate([train_features,dev_features])\n",
        "x_stance=np.concatenate([stance_train,stance_dev])\n",
        "x=np.concatenate([x,x_stance],axis=1)\n",
        "y=np.concatenate([train_labels,dev_labels])\n",
        "x_test=np.concatenate([test_features,stance_test],axis=1)\n",
        "from sklearn.preprocessing import MinMaxScaler\n",
        "scaler = MinMaxScaler()\n",
        "scaler.fit(x)\n",
        "x=scaler.transform(x)\n",
        "x_test=scaler.transform(x_test)\n",
        "clf = MultinomialNB()\n",
        "clf.fit(x, y)\n",
        "y_pred=clf.predict(x_test)\n",
        "print(classification_report(test_labels, y_pred, labels=[0,1,2]))\n",
        "\n"
      ],
      "execution_count": null,
      "outputs": [
        {
          "output_type": "stream",
          "text": [
            "              precision    recall  f1-score   support\n",
            "\n",
            "           0       0.46      0.80      0.58        40\n",
            "           1       0.00      0.00      0.00        31\n",
            "           2       0.22      0.20      0.21        10\n",
            "\n",
            "    accuracy                           0.42        81\n",
            "   macro avg       0.23      0.33      0.26        81\n",
            "weighted avg       0.25      0.42      0.31        81\n",
            "\n"
          ],
          "name": "stdout"
        }
      ]
    },
    {
      "cell_type": "markdown",
      "metadata": {
        "id": "6-CloMPJISQM"
      },
      "source": [
        "## random forest"
      ]
    },
    {
      "cell_type": "code",
      "metadata": {
        "colab": {
          "base_uri": "https://localhost:8080/"
        },
        "id": "XJpVQLSHIWR8",
        "outputId": "741d3a3c-32ae-4580-9319-d4258d723ea7"
      },
      "source": [
        "from sklearn.ensemble import RandomForestClassifier\n",
        "from sklearn.datasets import make_classification\n",
        "from sklearn.metrics import classification_report\n",
        "clf = RandomForestClassifier( random_state=0)\n",
        "x=np.concatenate([train_features,dev_features])\n",
        "x_stance=np.concatenate([stance_train,stance_dev])\n",
        "x=np.concatenate([x,x_stance],axis=1)\n",
        "y=np.concatenate([train_labels,dev_labels])\n",
        "x_test=np.concatenate([test_features,stance_test],axis=1)\n",
        "clf.fit(x, y)\n",
        "y_pred=clf.predict(x_test)\n",
        "print(classification_report(test_labels, y_pred, labels=[0,1,2]))\n"
      ],
      "execution_count": null,
      "outputs": [
        {
          "output_type": "stream",
          "text": [
            "              precision    recall  f1-score   support\n",
            "\n",
            "           0       0.50      0.68      0.57        40\n",
            "           1       0.22      0.13      0.16        31\n",
            "           2       0.11      0.10      0.11        10\n",
            "\n",
            "    accuracy                           0.40        81\n",
            "   macro avg       0.28      0.30      0.28        81\n",
            "weighted avg       0.35      0.40      0.36        81\n",
            "\n"
          ],
          "name": "stdout"
        }
      ]
    },
    {
      "cell_type": "markdown",
      "metadata": {
        "id": "Ou84ofGp9d_3"
      },
      "source": [
        "## SVM"
      ]
    },
    {
      "cell_type": "code",
      "metadata": {
        "colab": {
          "base_uri": "https://localhost:8080/"
        },
        "id": "wa_ShLjl9dJ3",
        "outputId": "b62cc274-0883-40d2-ae2c-001359766601"
      },
      "source": [
        "from sklearn import svm\n",
        "from sklearn.metrics import classification_report\n",
        "clf = svm.SVC()\n",
        "x=np.concatenate([train_features,dev_features])\n",
        "x_stance=np.concatenate([stance_train,stance_dev])\n",
        "x=np.concatenate([x,x_stance],axis=1)\n",
        "y=np.concatenate([train_labels,dev_labels])\n",
        "x_test=np.concatenate([test_features,stance_test],axis=1)\n",
        "clf.fit(x,y)\n",
        "y_pred=clf.predict(x_test)\n",
        "print(classification_report(test_labels, y_pred, labels=[0,1,2]))"
      ],
      "execution_count": null,
      "outputs": [
        {
          "output_type": "stream",
          "text": [
            "              precision    recall  f1-score   support\n",
            "\n",
            "           0       0.61      0.28      0.38        40\n",
            "           1       0.44      0.84      0.58        31\n",
            "           2       0.00      0.00      0.00        10\n",
            "\n",
            "    accuracy                           0.46        81\n",
            "   macro avg       0.35      0.37      0.32        81\n",
            "weighted avg       0.47      0.46      0.41        81\n",
            "\n"
          ],
          "name": "stdout"
        }
      ]
    },
    {
      "cell_type": "code",
      "metadata": {
        "colab": {
          "base_uri": "https://localhost:8080/"
        },
        "id": "QTRzjFXoevh5",
        "outputId": "06245b47-ebef-402d-ca88-7591fceff97b"
      },
      "source": [
        "\n",
        "clf = BaggingClassifier(base_estimator=svm.SVC(),n_estimators=15, random_state=0)\n",
        "clf.fit(x,y)\n",
        "y_pred=clf.predict(x_test)\n",
        "print(classification_report(test_labels, y_pred, labels=[0,1,2]))"
      ],
      "execution_count": null,
      "outputs": [
        {
          "output_type": "stream",
          "text": [
            "              precision    recall  f1-score   support\n",
            "\n",
            "           0       0.62      0.25      0.36        40\n",
            "           1       0.43      0.84      0.57        31\n",
            "           2       0.00      0.00      0.00        10\n",
            "\n",
            "    accuracy                           0.44        81\n",
            "   macro avg       0.35      0.36      0.31        81\n",
            "weighted avg       0.47      0.44      0.39        81\n",
            "\n"
          ],
          "name": "stdout"
        }
      ]
    },
    {
      "cell_type": "markdown",
      "metadata": {
        "id": "0uxW2Fd9ZxAn"
      },
      "source": [
        "### knn bagging"
      ]
    },
    {
      "cell_type": "code",
      "metadata": {
        "colab": {
          "base_uri": "https://localhost:8080/"
        },
        "id": "g5FRjcEoZNko",
        "outputId": "86985c52-41c5-43d7-cd54-9c2f897e0601"
      },
      "source": [
        "from sklearn.ensemble import BaggingClassifier\n",
        "from sklearn.neighbors import KNeighborsClassifier\n",
        "clf = BaggingClassifier(KNeighborsClassifier(3),max_samples=0.5, max_features=0.5)\n",
        "x=np.concatenate([train_features,dev_features])\n",
        "x_stance=np.concatenate([stance_train,stance_dev])\n",
        "x=np.concatenate([x,x_stance],axis=1)\n",
        "y=np.concatenate([train_labels,dev_labels])\n",
        "x_test=np.concatenate([test_features,stance_test],axis=1)\n",
        "clf.fit(x,y)\n",
        "y_pred=clf.predict(x_test)\n",
        "print(classification_report(test_labels, y_pred, labels=[0,1,2]))"
      ],
      "execution_count": null,
      "outputs": [
        {
          "output_type": "stream",
          "text": [
            "              precision    recall  f1-score   support\n",
            "\n",
            "           0       0.54      0.50      0.52        40\n",
            "           1       0.45      0.45      0.45        31\n",
            "           2       0.15      0.20      0.17        10\n",
            "\n",
            "    accuracy                           0.44        81\n",
            "   macro avg       0.38      0.38      0.38        81\n",
            "weighted avg       0.46      0.44      0.45        81\n",
            "\n"
          ],
          "name": "stdout"
        }
      ]
    },
    {
      "cell_type": "markdown",
      "metadata": {
        "id": "L0Gj7hYYpy4L"
      },
      "source": [
        "### tokenizer"
      ]
    },
    {
      "cell_type": "markdown",
      "metadata": {
        "id": "qavGT1ZL8VG_"
      },
      "source": [
        "#### source - comment bert"
      ]
    },
    {
      "cell_type": "code",
      "metadata": {
        "id": "W_rfdgQPqp20"
      },
      "source": [
        "#tokenizer for 2 sentence input\n",
        "\n",
        "def two_sentence_tokenizer_func(tokenizer_kind,sentences,labels):\n",
        "  '''\n",
        "  inputs:\n",
        "    tokenizer_kind: is the the tokenizer of choice (normal bert, tweet bert)  \n",
        "    sentences: train , dev, test\n",
        "  outputs:\n",
        "  torchs of \n",
        "    ids\n",
        "    attention_mask\n",
        "    labels\n",
        "  '''\n",
        "  input_ids = []\n",
        "  attention_masks = []\n",
        "  # For every sentence...\n",
        "  for pair in sentences:\n",
        "      # `encode_plus` will:\n",
        "      #   (1) Tokenize the sentence.\n",
        "      #   (2) Prepend the `[CLS]` token to the start.\n",
        "      #   (3) Append the `[SEP]` token to the end.\n",
        "      #   (4) Map tokens to their IDs.\n",
        "      #   (5) Pad or truncate the sentence to `max_length`\n",
        "      #   (6) Create attention masks for [PAD] tokens.\n",
        "      encoded_dict = tokenizer_kind(\n",
        "                          pair[0],pair[1],                     # Sentence to encode.\n",
        "                          return_tensors = 'pt',     # Return pytorch tensors.\n",
        "                          padding='max_length',\n",
        "                          truncation=True\n",
        "                          \n",
        "                    )\n",
        "      \n",
        "      # Add the encoded sentence to the list.    \n",
        "      input_ids.append(encoded_dict['input_ids'])\n",
        "      \n",
        "      # And its attention mask (simply differentiates padding from non-padding).\n",
        "      attention_masks.append(encoded_dict['attention_mask'])\n",
        "\n",
        "  # Convert the lists into tensors.\n",
        "\n",
        "  # input_ids = torch.FloatTensor(input_ids)\n",
        "  # print(input_ids[0].shape)\n",
        "  # attention_masks = torch.FloatTensor(attention_masks)\n",
        "  # print(attention_masks)\n",
        "  # labels = torch.tensor(labels)\n",
        "  input_ids = torch.cat(input_ids, dim=0)\n",
        "  attention_masks = torch.cat(attention_masks, dim=0)\n",
        "  labels = torch.tensor(labels)\n",
        "  return input_ids, attention_masks ,labels\n"
      ],
      "execution_count": null,
      "outputs": []
    },
    {
      "cell_type": "markdown",
      "metadata": {
        "id": "udJyf5aO8ame"
      },
      "source": [
        "#### source only bert"
      ]
    },
    {
      "cell_type": "code",
      "metadata": {
        "id": "0KRoiEfKhnEA"
      },
      "source": [
        "# Tokenize all of the sentences and map the tokens to thier word IDs.\n",
        "def tokenizer_func(tokenizer_kind,sentences,labels):\n",
        "  '''\n",
        "  inputs:\n",
        "    tokenizer_kind: is the the tokenizer of choice (normal bert, tweet bert)  \n",
        "    sentences: train , dev, test\n",
        "  outputs:\n",
        "  torchs of \n",
        "    ids\n",
        "    attention_mask\n",
        "    labels\n",
        "  '''\n",
        "  input_ids = []\n",
        "  attention_masks = []\n",
        "\n",
        "  # For every sentence...\n",
        "  for sent in sentences:\n",
        "      # `encode_plus` will:\n",
        "      #   (1) Tokenize the sentence.\n",
        "      #   (2) Prepend the `[CLS]` token to the start.\n",
        "      #   (3) Append the `[SEP]` token to the end.\n",
        "      #   (4) Map tokens to their IDs.\n",
        "      #   (5) Pad or truncate the sentence to `max_length`\n",
        "      #   (6) Create attention masks for [PAD] tokens.\n",
        "      encoded_dict = tokenizer_kind.encode_plus(\n",
        "                          sent,                      # Sentence to encode.\n",
        "                          add_special_tokens = True, # Add '[CLS]' and '[SEP]'\n",
        "                          max_length = 128,           # Pad & truncate all sentences.\n",
        "                          pad_to_max_length = True,\n",
        "                          return_attention_mask = True,   # Construct attn. masks.\n",
        "                          return_tensors = 'pt',     # Return pytorch tensors.\n",
        "                          truncation=True,\n",
        "                    )\n",
        "      \n",
        "      # Add the encoded sentence to the list.    \n",
        "      input_ids.append(encoded_dict['input_ids'])\n",
        "      \n",
        "      # And its attention mask (simply differentiates padding from non-padding).\n",
        "      attention_masks.append(encoded_dict['attention_mask'])\n",
        "\n",
        "  # Convert the lists into tensors.\n",
        "  input_ids = torch.cat(input_ids, dim=0)\n",
        "  attention_masks = torch.cat(attention_masks, dim=0)\n",
        "  labels = torch.tensor(labels)\n",
        "  return input_ids, attention_masks ,labels\n",
        "  # Print sentence 0, now as a list of IDs.\n"
      ],
      "execution_count": null,
      "outputs": []
    },
    {
      "cell_type": "markdown",
      "metadata": {
        "id": "FYG0q9cKFaAH"
      },
      "source": [
        "#### data loader\n"
      ]
    },
    {
      "cell_type": "code",
      "metadata": {
        "id": "LADqlLr3nV9F",
        "colab": {
          "base_uri": "https://localhost:8080/"
        },
        "outputId": "d2dd5542-62d4-4166-8691-4f61bb991679"
      },
      "source": [
        "#two sentence source comment\n",
        "\n",
        "# train_input_ids,train_attention_masks,train_labels=two_sentence_tokenizer_func(tokenizer_tweet,train_data,train_labels)\n",
        "# val_input_ids,val_attention_masks,val_labels=two_sentence_tokenizer_func(tokenizer_tweet,dev_data,dev_labels)\n",
        "\n",
        "#source only\n",
        "train_input_ids,train_attention_masks,train_labels=tokenizer_func(tokenizer_tweet,train_sentences,train_labels)\n",
        "dev_input_ids,dev_attention_masks,dev_labels=tokenizer_func(tokenizer_tweet,dev_sentences,dev_labels)\n",
        "test_input_ids,test_attention_masks,test_labels=tokenizer_func(tokenizer_tweet,test_sentences,test_labels)"
      ],
      "execution_count": null,
      "outputs": [
        {
          "output_type": "stream",
          "text": [
            "/usr/local/lib/python3.6/dist-packages/transformers/tokenization_utils_base.py:2022: FutureWarning: The `pad_to_max_length` argument is deprecated and will be removed in a future version, use `padding=True` or `padding='longest'` to pad to the longest sequence in the batch, or use `padding='max_length'` to pad to a max length. In this case, you can give a specific length with `max_length` (e.g. `max_length=45`) or leave max_length to None to pad to the maximal input size of the model (e.g. 512 for Bert).\n",
            "  FutureWarning,\n"
          ],
          "name": "stderr"
        }
      ]
    },
    {
      "cell_type": "code",
      "metadata": {
        "id": "eGF8ODFgoyMY"
      },
      "source": [
        "from torch.utils.data import DataLoader, RandomSampler, SequentialSampler\n",
        "from torch.utils.data import TensorDataset\n",
        "\n",
        "train_dataset = TensorDataset(train_input_ids, train_attention_masks, train_labels)\n",
        "val_dataset = TensorDataset(train_input_ids, train_attention_masks, train_labels)\n",
        "\n",
        "# The DataLoader needs to know our batch size for training, so we specify it \n",
        "# here. For fine-tuning BERT on a specific task, the authors recommend a batch \n",
        "# size of 16 or 32.\n",
        "batch_size = 16\n",
        "# Create the DataLoaders for our training and validation sets.\n",
        "# We'll take training samples in random order. \n",
        "train_dataloader = DataLoader(\n",
        "            train_dataset,  # The training samples.\n",
        "            sampler = RandomSampler(train_dataset), # Select batches randomly\n",
        "            batch_size = batch_size # Trains with this batch size.\n",
        "        )\n",
        "\n",
        "# For validation the order doesn't matter, so we'll just read them sequentially.\n",
        "validation_dataloader = DataLoader(\n",
        "            val_dataset, # The validation samples.\n",
        "            sampler = SequentialSampler(val_dataset), # Pull out batches sequentially.\n",
        "            batch_size = batch_size # Evaluate with this batch size.\n",
        "        )\n",
        "# test_dataloader=DataLoader(\n",
        "#     test_dataset,\n",
        "#     sampler = SequentialSampler(test_dataset),\n",
        "#     batch_size = batch_size\n",
        "# )"
      ],
      "execution_count": null,
      "outputs": []
    },
    {
      "cell_type": "code",
      "metadata": {
        "id": "4bedl6U89XjQ"
      },
      "source": [
        ""
      ],
      "execution_count": null,
      "outputs": []
    },
    {
      "cell_type": "markdown",
      "metadata": {
        "id": "57bR57PBFZIo"
      },
      "source": [
        "##stance aggregated source , merge model"
      ]
    },
    {
      "cell_type": "code",
      "metadata": {
        "colab": {
          "base_uri": "https://localhost:8080/"
        },
        "id": "3RsIHAQtXu-N",
        "outputId": "514c05f2-f260-4c39-fec6-311aaaeff3bb"
      },
      "source": [
        "train_input_ids,train_attention_masks,train_labels=tokenizer_func(tokenizer_tweet,train_sentences,train_labels)\n",
        "dev_input_ids,dev_attention_masks,dev_labels=tokenizer_func(tokenizer_tweet,dev_sentences,dev_labels)\n",
        "test_input_ids,test_attention_masks,test_labels=tokenizer_func(tokenizer_tweet,test_sentences,test_labels)"
      ],
      "execution_count": null,
      "outputs": [
        {
          "output_type": "stream",
          "text": [
            "/usr/local/lib/python3.6/dist-packages/transformers/tokenization_utils_base.py:2022: FutureWarning: The `pad_to_max_length` argument is deprecated and will be removed in a future version, use `padding=True` or `padding='longest'` to pad to the longest sequence in the batch, or use `padding='max_length'` to pad to a max length. In this case, you can give a specific length with `max_length` (e.g. `max_length=45`) or leave max_length to None to pad to the maximal input size of the model (e.g. 512 for Bert).\n",
            "  FutureWarning,\n",
            "/usr/local/lib/python3.6/dist-packages/ipykernel_launcher.py:44: UserWarning: To copy construct from a tensor, it is recommended to use sourceTensor.clone().detach() or sourceTensor.clone().detach().requires_grad_(True), rather than torch.tensor(sourceTensor).\n"
          ],
          "name": "stderr"
        }
      ]
    },
    {
      "cell_type": "markdown",
      "metadata": {
        "id": "s2Q29pDkl6hc"
      },
      "source": [
        "### Vectorizing train test dev"
      ]
    },
    {
      "cell_type": "code",
      "metadata": {
        "colab": {
          "base_uri": "https://localhost:8080/",
          "height": 275
        },
        "id": "1zohI7yMeFzb",
        "outputId": "4ba10fdd-7825-4350-a85a-381c8844832b"
      },
      "source": [
        "t0 = time.time()\n",
        "# bert_tweet.cuda()\n",
        "bert_tweet.eval()\n",
        "with torch.no_grad():\n",
        "  # batch = tuple(t.to(device) for t in batch)\n",
        "  last_hidden_states_train = bert_tweet(train_input_ids, attention_mask=train_attention_masks)\n",
        "  train_features = last_hidden_states_train[0][:,0,:].numpy()\n",
        "  print('train done')\n",
        "  last_hidden_states_dev = bert_tweet(dev_input_ids, attention_mask=dev_attention_masks)\n",
        "  dev_features = last_hidden_states_dev[0][:,0,:].numpy()\n",
        "  print('dev done')\n",
        "  last_hidden_states_test = bert_tweet(test_input_ids, attention_mask=test_attention_masks)\n",
        "  test_features = last_hidden_states_test[0][:,0,:].numpy()\n",
        "  print('test done')\n",
        "elapsed = format_time(time.time() - t0)\n",
        "print(elapsed)"
      ],
      "execution_count": null,
      "outputs": [
        {
          "output_type": "stream",
          "text": [
            "train done\n",
            "dev done\n",
            "test done\n"
          ],
          "name": "stdout"
        },
        {
          "output_type": "error",
          "ename": "NameError",
          "evalue": "ignored",
          "traceback": [
            "\u001b[0;31m---------------------------------------------------------------------------\u001b[0m",
            "\u001b[0;31mNameError\u001b[0m                                 Traceback (most recent call last)",
            "\u001b[0;32m<ipython-input-27-0a70bd5f03d4>\u001b[0m in \u001b[0;36m<module>\u001b[0;34m()\u001b[0m\n\u001b[1;32m     13\u001b[0m   \u001b[0mtest_features\u001b[0m \u001b[0;34m=\u001b[0m \u001b[0mlast_hidden_states_test\u001b[0m\u001b[0;34m[\u001b[0m\u001b[0;36m0\u001b[0m\u001b[0;34m]\u001b[0m\u001b[0;34m[\u001b[0m\u001b[0;34m:\u001b[0m\u001b[0;34m,\u001b[0m\u001b[0;36m0\u001b[0m\u001b[0;34m,\u001b[0m\u001b[0;34m:\u001b[0m\u001b[0;34m]\u001b[0m\u001b[0;34m.\u001b[0m\u001b[0mnumpy\u001b[0m\u001b[0;34m(\u001b[0m\u001b[0;34m)\u001b[0m\u001b[0;34m\u001b[0m\u001b[0;34m\u001b[0m\u001b[0m\n\u001b[1;32m     14\u001b[0m   \u001b[0mprint\u001b[0m\u001b[0;34m(\u001b[0m\u001b[0;34m'test done'\u001b[0m\u001b[0;34m)\u001b[0m\u001b[0;34m\u001b[0m\u001b[0;34m\u001b[0m\u001b[0m\n\u001b[0;32m---> 15\u001b[0;31m \u001b[0melapsed\u001b[0m \u001b[0;34m=\u001b[0m \u001b[0mformat_time\u001b[0m\u001b[0;34m(\u001b[0m\u001b[0mtime\u001b[0m\u001b[0;34m.\u001b[0m\u001b[0mtime\u001b[0m\u001b[0;34m(\u001b[0m\u001b[0;34m)\u001b[0m \u001b[0;34m-\u001b[0m \u001b[0mt0\u001b[0m\u001b[0;34m)\u001b[0m\u001b[0;34m\u001b[0m\u001b[0;34m\u001b[0m\u001b[0m\n\u001b[0m\u001b[1;32m     16\u001b[0m \u001b[0mprint\u001b[0m\u001b[0;34m(\u001b[0m\u001b[0melapsed\u001b[0m\u001b[0;34m)\u001b[0m\u001b[0;34m\u001b[0m\u001b[0;34m\u001b[0m\u001b[0m\n",
            "\u001b[0;31mNameError\u001b[0m: name 'format_time' is not defined"
          ]
        }
      ]
    },
    {
      "cell_type": "code",
      "metadata": {
        "id": "2aG6Xd4G7HpM"
      },
      "source": [
        "bert_tweet_vecs={\"train\":train_features,\"dev\":dev_features,\"test\":test_features}\n",
        "pickle.dump( bert_tweet_vecs, open( \"bert_tweet_vecs.p\", \"wb\" ) )"
      ],
      "execution_count": null,
      "outputs": []
    },
    {
      "cell_type": "markdown",
      "metadata": {
        "id": "eEP_0foNpotU"
      },
      "source": [
        "### defining  architucture"
      ]
    },
    {
      "cell_type": "code",
      "metadata": {
        "id": "6Vlvwv4XFb_k"
      },
      "source": [
        "from sklearn.metrics import f1_score\n",
        "def f1_h(y_true,y_pred):\n",
        "  y_true_int=np.argmax(y_true,axis=1)\n",
        "  y_pred_int=np.argmax(y_pred,axis=1)\n",
        "  macro=f1_score(y_true_int, y_pred_int, average='macro')\n",
        "  return macro\n"
      ],
      "execution_count": null,
      "outputs": []
    },
    {
      "cell_type": "code",
      "metadata": {
        "colab": {
          "base_uri": "https://localhost:8080/",
          "height": 533
        },
        "id": "iNoS9oqap-0M",
        "outputId": "c0ba7280-902c-42e3-c48c-ca9bf6e2f344"
      },
      "source": [
        "from tensorflow import keras\n",
        "from tensorflow.keras import layers\n",
        "from keras.layers.normalization import BatchNormalization\n",
        "source_input = keras.Input(shape=(768,),name=\"source\")\n",
        "source_input1=BatchNormalization()(source_input)\n",
        "source_dense = layers.Dense(16,activation=\"tanh\")\n",
        "source_out = source_dense(source_input1)\n",
        "# source_output = source_dense(source_dropped_out)\n",
        "DO_layer_stance = tf.keras.layers.Dropout(.4, input_shape=(8,))\n",
        "stance_input = keras.Input(shape=(4,),name=\"stance\")\n",
        "stance_dense = layers.Dense(8,activation=\"linear\")\n",
        "stance_output1= stance_dense(stance_input)\n",
        "stance_output = DO_layer_stance(stance_output1)\n",
        "concated_input1 = layers.concatenate([stance_output,source_out])\n",
        "label=layers.Dense(3,activation=\"softmax\",name=\"label\")\n",
        "verification_prediction=label(concated_input1)\n",
        "combined_model=keras.Model(inputs=[source_input,stance_input],outputs=[verification_prediction])\n",
        "keras.utils.plot_model(combined_model, \"multi_input_and_output_model.png\", show_shapes=True)"
      ],
      "execution_count": null,
      "outputs": [
        {
          "output_type": "execute_result",
          "data": {
            "image/png": "[encoded data removed]",
            "text/plain": [
              "<IPython.core.display.Image object>"
            ]
          },
          "metadata": {
            "tags": []
          },
          "execution_count": 69
        }
      ]
    },
    {
      "cell_type": "code",
      "metadata": {
        "colab": {
          "base_uri": "https://localhost:8080/"
        },
        "id": "HIfLeOPx0-H7",
        "outputId": "f654d78b-22ee-43fa-a549-527de3081e11"
      },
      "source": [
        "from keras.callbacks import ModelCheckpoint\n",
        "my_callbacks = [\n",
        "    tf.keras.callbacks.EarlyStopping(patience=10),\n",
        "    tf.keras.callbacks.ModelCheckpoint(filepath='model.{epoch:02d}-{val_loss:.2f}.h5'),\n",
        "    tf.keras.callbacks.TensorBoard(log_dir='./logs'),\n",
        "]\n",
        "combined_model.compile(\n",
        "    loss=keras.losses.CategoricalCrossentropy(from_logits=False),\n",
        "    optimizer=keras.optimizers.Adam(lr=0.0001),\n",
        "    metrics=[\"accuracy\"],\n",
        ")\n",
        "# checkpoint = ModelCheckpoint('model-{epoch:03d}-{accuracy:03f}-{val_acc:03f}.h5', verbose=1, monitor='val_loss',save_best_only=True, mode='auto')\n",
        "history = combined_model.fit({\"source\":train_features,\"stance\":stance_train},train_labels_hv, batch_size=16, epochs=500, validation_data=({\"source\":dev_features,\"stance\":stance_dev},dev_labels_hv), callbacks=my_callbacks)\n",
        "\n",
        "# test_scores = combined_model.evaluate({\"source\":test_features,\"stance\":stance_test},test_labels_hv, verbose=2)\n",
        "\n",
        "y_pred_test=combined_model.predict({\"source\":test_features,\"stance\":stance_test})\n",
        "y_pred_dev=combined_model.predict({\"source\":dev_features,\"stance\":stance_dev})\n",
        "print(\"f1 score dev:\" ,f1_h(dev_labels_hv,y_pred_dev))\n",
        "print(\"f1 score test:\" ,f1_h(test_labels_hv,y_pred_test))\n"
      ],
      "execution_count": null,
      "outputs": [
        {
          "output_type": "stream",
          "text": [
            "Epoch 1/500\n",
            " 2/21 [=>............................] - ETA: 0s - loss: 2.4871 - accuracy: 0.4062WARNING:tensorflow:Callbacks method `on_train_batch_end` is slow compared to the batch time (batch time: 0.0079s vs `on_train_batch_end` time: 0.0597s). Check your callbacks.\n",
            "21/21 [==============================] - 0s 17ms/step - loss: 2.3560 - accuracy: 0.3211 - val_loss: 2.6511 - val_accuracy: 0.2632\n",
            "Epoch 2/500\n",
            "21/21 [==============================] - 0s 7ms/step - loss: 2.0119 - accuracy: 0.3333 - val_loss: 2.5991 - val_accuracy: 0.2632\n",
            "Epoch 3/500\n",
            "21/21 [==============================] - 0s 6ms/step - loss: 2.0585 - accuracy: 0.3792 - val_loss: 2.5454 - val_accuracy: 0.2632\n",
            "Epoch 4/500\n",
            "21/21 [==============================] - 0s 6ms/step - loss: 1.8363 - accuracy: 0.4312 - val_loss: 2.4854 - val_accuracy: 0.2895\n",
            "Epoch 5/500\n",
            "21/21 [==============================] - 0s 7ms/step - loss: 2.0684 - accuracy: 0.3547 - val_loss: 2.4343 - val_accuracy: 0.3421\n",
            "Epoch 6/500\n",
            "21/21 [==============================] - 0s 7ms/step - loss: 1.8622 - accuracy: 0.3976 - val_loss: 2.3843 - val_accuracy: 0.3158\n",
            "Epoch 7/500\n",
            "21/21 [==============================] - 0s 6ms/step - loss: 1.6739 - accuracy: 0.4281 - val_loss: 2.3426 - val_accuracy: 0.3158\n",
            "Epoch 8/500\n",
            "21/21 [==============================] - 0s 6ms/step - loss: 1.7522 - accuracy: 0.4495 - val_loss: 2.2983 - val_accuracy: 0.3158\n",
            "Epoch 9/500\n",
            "21/21 [==============================] - 0s 7ms/step - loss: 1.7193 - accuracy: 0.4618 - val_loss: 2.2619 - val_accuracy: 0.3158\n",
            "Epoch 10/500\n",
            "21/21 [==============================] - 0s 7ms/step - loss: 1.6780 - accuracy: 0.4343 - val_loss: 2.2150 - val_accuracy: 0.3421\n",
            "Epoch 11/500\n",
            "21/21 [==============================] - 0s 7ms/step - loss: 1.6394 - accuracy: 0.4832 - val_loss: 2.1967 - val_accuracy: 0.3684\n",
            "Epoch 12/500\n",
            "21/21 [==============================] - 0s 7ms/step - loss: 1.6004 - accuracy: 0.4740 - val_loss: 2.1466 - val_accuracy: 0.3421\n",
            "Epoch 13/500\n",
            "21/21 [==============================] - 0s 7ms/step - loss: 1.6252 - accuracy: 0.4618 - val_loss: 2.0901 - val_accuracy: 0.3684\n",
            "Epoch 14/500\n",
            "21/21 [==============================] - 0s 7ms/step - loss: 1.5189 - accuracy: 0.4862 - val_loss: 2.0268 - val_accuracy: 0.4211\n",
            "Epoch 15/500\n",
            "21/21 [==============================] - 0s 7ms/step - loss: 1.6459 - accuracy: 0.4771 - val_loss: 1.9980 - val_accuracy: 0.4474\n",
            "Epoch 16/500\n",
            "21/21 [==============================] - 0s 7ms/step - loss: 1.5273 - accuracy: 0.4893 - val_loss: 1.9672 - val_accuracy: 0.5000\n",
            "Epoch 17/500\n",
            "21/21 [==============================] - 0s 7ms/step - loss: 1.2817 - accuracy: 0.5657 - val_loss: 1.9489 - val_accuracy: 0.5263\n",
            "Epoch 18/500\n",
            "21/21 [==============================] - 0s 7ms/step - loss: 1.4089 - accuracy: 0.5535 - val_loss: 1.9260 - val_accuracy: 0.5000\n",
            "Epoch 19/500\n",
            "21/21 [==============================] - 0s 7ms/step - loss: 1.2095 - accuracy: 0.5413 - val_loss: 1.8987 - val_accuracy: 0.5263\n",
            "Epoch 20/500\n",
            "21/21 [==============================] - 0s 7ms/step - loss: 1.4145 - accuracy: 0.4954 - val_loss: 1.8852 - val_accuracy: 0.5789\n",
            "Epoch 21/500\n",
            "21/21 [==============================] - 0s 6ms/step - loss: 1.3515 - accuracy: 0.5291 - val_loss: 1.8596 - val_accuracy: 0.5789\n",
            "Epoch 22/500\n",
            "21/21 [==============================] - 0s 6ms/step - loss: 1.3351 - accuracy: 0.5657 - val_loss: 1.8543 - val_accuracy: 0.5526\n",
            "Epoch 23/500\n",
            "21/21 [==============================] - 0s 7ms/step - loss: 1.2027 - accuracy: 0.5780 - val_loss: 1.8565 - val_accuracy: 0.5526\n",
            "Epoch 24/500\n",
            "21/21 [==============================] - 0s 7ms/step - loss: 1.2370 - accuracy: 0.5291 - val_loss: 1.8664 - val_accuracy: 0.5526\n",
            "Epoch 25/500\n",
            "21/21 [==============================] - 0s 7ms/step - loss: 1.2578 - accuracy: 0.5810 - val_loss: 1.8638 - val_accuracy: 0.5789\n",
            "Epoch 26/500\n",
            "21/21 [==============================] - 0s 7ms/step - loss: 1.1723 - accuracy: 0.5596 - val_loss: 1.8483 - val_accuracy: 0.5789\n",
            "Epoch 27/500\n",
            "21/21 [==============================] - 0s 7ms/step - loss: 1.2161 - accuracy: 0.5596 - val_loss: 1.8743 - val_accuracy: 0.5789\n",
            "Epoch 28/500\n",
            "21/21 [==============================] - 0s 7ms/step - loss: 1.1729 - accuracy: 0.6086 - val_loss: 1.8780 - val_accuracy: 0.5789\n",
            "Epoch 29/500\n",
            "21/21 [==============================] - 0s 8ms/step - loss: 1.1395 - accuracy: 0.6055 - val_loss: 1.8649 - val_accuracy: 0.5789\n",
            "Epoch 30/500\n",
            "21/21 [==============================] - 0s 7ms/step - loss: 0.9975 - accuracy: 0.6208 - val_loss: 1.8718 - val_accuracy: 0.5526\n",
            "Epoch 31/500\n",
            "21/21 [==============================] - 0s 7ms/step - loss: 1.0996 - accuracy: 0.6208 - val_loss: 1.8491 - val_accuracy: 0.5526\n",
            "Epoch 32/500\n",
            "21/21 [==============================] - 0s 7ms/step - loss: 1.2210 - accuracy: 0.5841 - val_loss: 1.8384 - val_accuracy: 0.5526\n",
            "Epoch 33/500\n",
            "21/21 [==============================] - 0s 7ms/step - loss: 1.0124 - accuracy: 0.6391 - val_loss: 1.8447 - val_accuracy: 0.5526\n",
            "Epoch 34/500\n",
            "21/21 [==============================] - 0s 7ms/step - loss: 1.1942 - accuracy: 0.6239 - val_loss: 1.8523 - val_accuracy: 0.5789\n",
            "Epoch 35/500\n",
            "21/21 [==============================] - 0s 7ms/step - loss: 1.1202 - accuracy: 0.5963 - val_loss: 1.8682 - val_accuracy: 0.5789\n",
            "Epoch 36/500\n",
            "21/21 [==============================] - 0s 6ms/step - loss: 1.0236 - accuracy: 0.6422 - val_loss: 1.8726 - val_accuracy: 0.5789\n",
            "Epoch 37/500\n",
            "21/21 [==============================] - 0s 6ms/step - loss: 1.0698 - accuracy: 0.6391 - val_loss: 1.8724 - val_accuracy: 0.5526\n",
            "Epoch 38/500\n",
            "21/21 [==============================] - 0s 7ms/step - loss: 1.1055 - accuracy: 0.6147 - val_loss: 1.8653 - val_accuracy: 0.5526\n",
            "Epoch 39/500\n",
            "21/21 [==============================] - 0s 7ms/step - loss: 0.9020 - accuracy: 0.6391 - val_loss: 1.8390 - val_accuracy: 0.5526\n",
            "Epoch 40/500\n",
            "21/21 [==============================] - 0s 7ms/step - loss: 1.0374 - accuracy: 0.6177 - val_loss: 1.8466 - val_accuracy: 0.5526\n",
            "Epoch 41/500\n",
            "21/21 [==============================] - 0s 6ms/step - loss: 1.0493 - accuracy: 0.6330 - val_loss: 1.8411 - val_accuracy: 0.5526\n",
            "Epoch 42/500\n",
            "21/21 [==============================] - 0s 7ms/step - loss: 0.9447 - accuracy: 0.6269 - val_loss: 1.8505 - val_accuracy: 0.5526\n",
            "f1 score dev: 0.5505971354498704\n",
            "f1 score test: 0.2006837932819353\n"
          ],
          "name": "stdout"
        }
      ]
    },
    {
      "cell_type": "code",
      "metadata": {
        "colab": {
          "base_uri": "https://localhost:8080/"
        },
        "id": "lfEqOYHhzb1z",
        "outputId": "fd58f54c-aa35-4403-edcc-ad51b9155e3b"
      },
      "source": [
        "combined_model.summary()"
      ],
      "execution_count": null,
      "outputs": [
        {
          "output_type": "stream",
          "text": [
            "Model: \"functional_67\"\n",
            "__________________________________________________________________________________________________\n",
            "Layer (type)                    Output Shape         Param #     Connected to                     \n",
            "==================================================================================================\n",
            "source (InputLayer)             [(None, 768)]        0                                            \n",
            "__________________________________________________________________________________________________\n",
            "stance (InputLayer)             [(None, 4)]          0                                            \n",
            "__________________________________________________________________________________________________\n",
            "batch_normalization_29 (BatchNo (None, 768)          3072        source[0][0]                     \n",
            "__________________________________________________________________________________________________\n",
            "dense_67 (Dense)                (None, 1)            5           stance[0][0]                     \n",
            "__________________________________________________________________________________________________\n",
            "dense_66 (Dense)                (None, 1)            769         batch_normalization_29[0][0]     \n",
            "__________________________________________________________________________________________________\n",
            "concatenate_33 (Concatenate)    (None, 2)            0           dense_67[0][0]                   \n",
            "                                                                 dense_66[0][0]                   \n",
            "__________________________________________________________________________________________________\n",
            "label (Dense)                   (None, 3)            9           concatenate_33[0][0]             \n",
            "==================================================================================================\n",
            "Total params: 3,855\n",
            "Trainable params: 2,319\n",
            "Non-trainable params: 1,536\n",
            "__________________________________________________________________________________________________\n"
          ],
          "name": "stdout"
        }
      ]
    },
    {
      "cell_type": "markdown",
      "metadata": {
        "id": "IeA21Taj73GX"
      },
      "source": [
        ""
      ]
    },
    {
      "cell_type": "markdown",
      "metadata": {
        "id": "b6Fs50yehFUw"
      },
      "source": [
        "##  source and source-reply only\n",
        "no meta-dataa\n",
        "no stance\n"
      ]
    },
    {
      "cell_type": "markdown",
      "metadata": {
        "id": "iC00H6Tip6SR"
      },
      "source": [
        "### training\n"
      ]
    },
    {
      "cell_type": "code",
      "metadata": {
        "id": "hd3A_KHkp9B6",
        "colab": {
          "base_uri": "https://localhost:8080/"
        },
        "outputId": "5fd3e1cb-a1f1-4e35-8e0b-e1b395e8badf"
      },
      "source": [
        "from transformers import BertForSequenceClassification, AdamW, BertConfig\n",
        "from transformers import BertTokenizer,AutoModelForSequenceClassification\n",
        "\n",
        "# Load BertForSequenceClassification, the pretrained BERT model with a single \n",
        "# linear classification layer on top. \n",
        "model = AutoModelForSequenceClassification.from_pretrained(\n",
        "    \"vinai/bertweet-base\", # Use the 12-layer BERT model, with an uncased vocab.\n",
        "    num_labels = 3, # The number of output labels--2 for binary classification.\n",
        "                    # You can increase this for multi-class tasks.   \n",
        "    output_attentions = False, # Whether the model returns attentions weights.\n",
        "    output_hidden_states = False, # Whether the model returns all hidden-states.\n",
        ")\n",
        "# Tell pytorch to run this model on the GPU.\n",
        "model.cuda()"
      ],
      "execution_count": null,
      "outputs": [
        {
          "output_type": "stream",
          "text": [
            "Some weights of the model checkpoint at vinai/bertweet-base were not used when initializing RobertaForSequenceClassification: ['lm_head.bias', 'lm_head.dense.weight', 'lm_head.dense.bias', 'lm_head.layer_norm.weight', 'lm_head.layer_norm.bias', 'lm_head.decoder.weight', 'lm_head.decoder.bias', 'roberta.pooler.dense.weight', 'roberta.pooler.dense.bias']\n",
            "- This IS expected if you are initializing RobertaForSequenceClassification from the checkpoint of a model trained on another task or with another architecture (e.g. initializing a BertForSequenceClassification model from a BertForPreTraining model).\n",
            "- This IS NOT expected if you are initializing RobertaForSequenceClassification from the checkpoint of a model that you expect to be exactly identical (initializing a BertForSequenceClassification model from a BertForSequenceClassification model).\n",
            "Some weights of RobertaForSequenceClassification were not initialized from the model checkpoint at vinai/bertweet-base and are newly initialized: ['classifier.dense.weight', 'classifier.dense.bias', 'classifier.out_proj.weight', 'classifier.out_proj.bias']\n",
            "You should probably TRAIN this model on a down-stream task to be able to use it for predictions and inference.\n"
          ],
          "name": "stderr"
        },
        {
          "output_type": "execute_result",
          "data": {
            "text/plain": [
              "RobertaForSequenceClassification(\n",
              "  (roberta): RobertaModel(\n",
              "    (embeddings): RobertaEmbeddings(\n",
              "      (word_embeddings): Embedding(64001, 768, padding_idx=1)\n",
              "      (position_embeddings): Embedding(130, 768, padding_idx=1)\n",
              "      (token_type_embeddings): Embedding(1, 768)\n",
              "      (LayerNorm): LayerNorm((768,), eps=1e-05, elementwise_affine=True)\n",
              "      (dropout): Dropout(p=0.1, inplace=False)\n",
              "    )\n",
              "    (encoder): RobertaEncoder(\n",
              "      (layer): ModuleList(\n",
              "        (0): RobertaLayer(\n",
              "          (attention): RobertaAttention(\n",
              "            (self): RobertaSelfAttention(\n",
              "              (query): Linear(in_features=768, out_features=768, bias=True)\n",
              "              (key): Linear(in_features=768, out_features=768, bias=True)\n",
              "              (value): Linear(in_features=768, out_features=768, bias=True)\n",
              "              (dropout): Dropout(p=0.1, inplace=False)\n",
              "            )\n",
              "            (output): RobertaSelfOutput(\n",
              "              (dense): Linear(in_features=768, out_features=768, bias=True)\n",
              "              (LayerNorm): LayerNorm((768,), eps=1e-05, elementwise_affine=True)\n",
              "              (dropout): Dropout(p=0.1, inplace=False)\n",
              "            )\n",
              "          )\n",
              "          (intermediate): RobertaIntermediate(\n",
              "            (dense): Linear(in_features=768, out_features=3072, bias=True)\n",
              "          )\n",
              "          (output): RobertaOutput(\n",
              "            (dense): Linear(in_features=3072, out_features=768, bias=True)\n",
              "            (LayerNorm): LayerNorm((768,), eps=1e-05, elementwise_affine=True)\n",
              "            (dropout): Dropout(p=0.1, inplace=False)\n",
              "          )\n",
              "        )\n",
              "        (1): RobertaLayer(\n",
              "          (attention): RobertaAttention(\n",
              "            (self): RobertaSelfAttention(\n",
              "              (query): Linear(in_features=768, out_features=768, bias=True)\n",
              "              (key): Linear(in_features=768, out_features=768, bias=True)\n",
              "              (value): Linear(in_features=768, out_features=768, bias=True)\n",
              "              (dropout): Dropout(p=0.1, inplace=False)\n",
              "            )\n",
              "            (output): RobertaSelfOutput(\n",
              "              (dense): Linear(in_features=768, out_features=768, bias=True)\n",
              "              (LayerNorm): LayerNorm((768,), eps=1e-05, elementwise_affine=True)\n",
              "              (dropout): Dropout(p=0.1, inplace=False)\n",
              "            )\n",
              "          )\n",
              "          (intermediate): RobertaIntermediate(\n",
              "            (dense): Linear(in_features=768, out_features=3072, bias=True)\n",
              "          )\n",
              "          (output): RobertaOutput(\n",
              "            (dense): Linear(in_features=3072, out_features=768, bias=True)\n",
              "            (LayerNorm): LayerNorm((768,), eps=1e-05, elementwise_affine=True)\n",
              "            (dropout): Dropout(p=0.1, inplace=False)\n",
              "          )\n",
              "        )\n",
              "        (2): RobertaLayer(\n",
              "          (attention): RobertaAttention(\n",
              "            (self): RobertaSelfAttention(\n",
              "              (query): Linear(in_features=768, out_features=768, bias=True)\n",
              "              (key): Linear(in_features=768, out_features=768, bias=True)\n",
              "              (value): Linear(in_features=768, out_features=768, bias=True)\n",
              "              (dropout): Dropout(p=0.1, inplace=False)\n",
              "            )\n",
              "            (output): RobertaSelfOutput(\n",
              "              (dense): Linear(in_features=768, out_features=768, bias=True)\n",
              "              (LayerNorm): LayerNorm((768,), eps=1e-05, elementwise_affine=True)\n",
              "              (dropout): Dropout(p=0.1, inplace=False)\n",
              "            )\n",
              "          )\n",
              "          (intermediate): RobertaIntermediate(\n",
              "            (dense): Linear(in_features=768, out_features=3072, bias=True)\n",
              "          )\n",
              "          (output): RobertaOutput(\n",
              "            (dense): Linear(in_features=3072, out_features=768, bias=True)\n",
              "            (LayerNorm): LayerNorm((768,), eps=1e-05, elementwise_affine=True)\n",
              "            (dropout): Dropout(p=0.1, inplace=False)\n",
              "          )\n",
              "        )\n",
              "        (3): RobertaLayer(\n",
              "          (attention): RobertaAttention(\n",
              "            (self): RobertaSelfAttention(\n",
              "              (query): Linear(in_features=768, out_features=768, bias=True)\n",
              "              (key): Linear(in_features=768, out_features=768, bias=True)\n",
              "              (value): Linear(in_features=768, out_features=768, bias=True)\n",
              "              (dropout): Dropout(p=0.1, inplace=False)\n",
              "            )\n",
              "            (output): RobertaSelfOutput(\n",
              "              (dense): Linear(in_features=768, out_features=768, bias=True)\n",
              "              (LayerNorm): LayerNorm((768,), eps=1e-05, elementwise_affine=True)\n",
              "              (dropout): Dropout(p=0.1, inplace=False)\n",
              "            )\n",
              "          )\n",
              "          (intermediate): RobertaIntermediate(\n",
              "            (dense): Linear(in_features=768, out_features=3072, bias=True)\n",
              "          )\n",
              "          (output): RobertaOutput(\n",
              "            (dense): Linear(in_features=3072, out_features=768, bias=True)\n",
              "            (LayerNorm): LayerNorm((768,), eps=1e-05, elementwise_affine=True)\n",
              "            (dropout): Dropout(p=0.1, inplace=False)\n",
              "          )\n",
              "        )\n",
              "        (4): RobertaLayer(\n",
              "          (attention): RobertaAttention(\n",
              "            (self): RobertaSelfAttention(\n",
              "              (query): Linear(in_features=768, out_features=768, bias=True)\n",
              "              (key): Linear(in_features=768, out_features=768, bias=True)\n",
              "              (value): Linear(in_features=768, out_features=768, bias=True)\n",
              "              (dropout): Dropout(p=0.1, inplace=False)\n",
              "            )\n",
              "            (output): RobertaSelfOutput(\n",
              "              (dense): Linear(in_features=768, out_features=768, bias=True)\n",
              "              (LayerNorm): LayerNorm((768,), eps=1e-05, elementwise_affine=True)\n",
              "              (dropout): Dropout(p=0.1, inplace=False)\n",
              "            )\n",
              "          )\n",
              "          (intermediate): RobertaIntermediate(\n",
              "            (dense): Linear(in_features=768, out_features=3072, bias=True)\n",
              "          )\n",
              "          (output): RobertaOutput(\n",
              "            (dense): Linear(in_features=3072, out_features=768, bias=True)\n",
              "            (LayerNorm): LayerNorm((768,), eps=1e-05, elementwise_affine=True)\n",
              "            (dropout): Dropout(p=0.1, inplace=False)\n",
              "          )\n",
              "        )\n",
              "        (5): RobertaLayer(\n",
              "          (attention): RobertaAttention(\n",
              "            (self): RobertaSelfAttention(\n",
              "              (query): Linear(in_features=768, out_features=768, bias=True)\n",
              "              (key): Linear(in_features=768, out_features=768, bias=True)\n",
              "              (value): Linear(in_features=768, out_features=768, bias=True)\n",
              "              (dropout): Dropout(p=0.1, inplace=False)\n",
              "            )\n",
              "            (output): RobertaSelfOutput(\n",
              "              (dense): Linear(in_features=768, out_features=768, bias=True)\n",
              "              (LayerNorm): LayerNorm((768,), eps=1e-05, elementwise_affine=True)\n",
              "              (dropout): Dropout(p=0.1, inplace=False)\n",
              "            )\n",
              "          )\n",
              "          (intermediate): RobertaIntermediate(\n",
              "            (dense): Linear(in_features=768, out_features=3072, bias=True)\n",
              "          )\n",
              "          (output): RobertaOutput(\n",
              "            (dense): Linear(in_features=3072, out_features=768, bias=True)\n",
              "            (LayerNorm): LayerNorm((768,), eps=1e-05, elementwise_affine=True)\n",
              "            (dropout): Dropout(p=0.1, inplace=False)\n",
              "          )\n",
              "        )\n",
              "        (6): RobertaLayer(\n",
              "          (attention): RobertaAttention(\n",
              "            (self): RobertaSelfAttention(\n",
              "              (query): Linear(in_features=768, out_features=768, bias=True)\n",
              "              (key): Linear(in_features=768, out_features=768, bias=True)\n",
              "              (value): Linear(in_features=768, out_features=768, bias=True)\n",
              "              (dropout): Dropout(p=0.1, inplace=False)\n",
              "            )\n",
              "            (output): RobertaSelfOutput(\n",
              "              (dense): Linear(in_features=768, out_features=768, bias=True)\n",
              "              (LayerNorm): LayerNorm((768,), eps=1e-05, elementwise_affine=True)\n",
              "              (dropout): Dropout(p=0.1, inplace=False)\n",
              "            )\n",
              "          )\n",
              "          (intermediate): RobertaIntermediate(\n",
              "            (dense): Linear(in_features=768, out_features=3072, bias=True)\n",
              "          )\n",
              "          (output): RobertaOutput(\n",
              "            (dense): Linear(in_features=3072, out_features=768, bias=True)\n",
              "            (LayerNorm): LayerNorm((768,), eps=1e-05, elementwise_affine=True)\n",
              "            (dropout): Dropout(p=0.1, inplace=False)\n",
              "          )\n",
              "        )\n",
              "        (7): RobertaLayer(\n",
              "          (attention): RobertaAttention(\n",
              "            (self): RobertaSelfAttention(\n",
              "              (query): Linear(in_features=768, out_features=768, bias=True)\n",
              "              (key): Linear(in_features=768, out_features=768, bias=True)\n",
              "              (value): Linear(in_features=768, out_features=768, bias=True)\n",
              "              (dropout): Dropout(p=0.1, inplace=False)\n",
              "            )\n",
              "            (output): RobertaSelfOutput(\n",
              "              (dense): Linear(in_features=768, out_features=768, bias=True)\n",
              "              (LayerNorm): LayerNorm((768,), eps=1e-05, elementwise_affine=True)\n",
              "              (dropout): Dropout(p=0.1, inplace=False)\n",
              "            )\n",
              "          )\n",
              "          (intermediate): RobertaIntermediate(\n",
              "            (dense): Linear(in_features=768, out_features=3072, bias=True)\n",
              "          )\n",
              "          (output): RobertaOutput(\n",
              "            (dense): Linear(in_features=3072, out_features=768, bias=True)\n",
              "            (LayerNorm): LayerNorm((768,), eps=1e-05, elementwise_affine=True)\n",
              "            (dropout): Dropout(p=0.1, inplace=False)\n",
              "          )\n",
              "        )\n",
              "        (8): RobertaLayer(\n",
              "          (attention): RobertaAttention(\n",
              "            (self): RobertaSelfAttention(\n",
              "              (query): Linear(in_features=768, out_features=768, bias=True)\n",
              "              (key): Linear(in_features=768, out_features=768, bias=True)\n",
              "              (value): Linear(in_features=768, out_features=768, bias=True)\n",
              "              (dropout): Dropout(p=0.1, inplace=False)\n",
              "            )\n",
              "            (output): RobertaSelfOutput(\n",
              "              (dense): Linear(in_features=768, out_features=768, bias=True)\n",
              "              (LayerNorm): LayerNorm((768,), eps=1e-05, elementwise_affine=True)\n",
              "              (dropout): Dropout(p=0.1, inplace=False)\n",
              "            )\n",
              "          )\n",
              "          (intermediate): RobertaIntermediate(\n",
              "            (dense): Linear(in_features=768, out_features=3072, bias=True)\n",
              "          )\n",
              "          (output): RobertaOutput(\n",
              "            (dense): Linear(in_features=3072, out_features=768, bias=True)\n",
              "            (LayerNorm): LayerNorm((768,), eps=1e-05, elementwise_affine=True)\n",
              "            (dropout): Dropout(p=0.1, inplace=False)\n",
              "          )\n",
              "        )\n",
              "        (9): RobertaLayer(\n",
              "          (attention): RobertaAttention(\n",
              "            (self): RobertaSelfAttention(\n",
              "              (query): Linear(in_features=768, out_features=768, bias=True)\n",
              "              (key): Linear(in_features=768, out_features=768, bias=True)\n",
              "              (value): Linear(in_features=768, out_features=768, bias=True)\n",
              "              (dropout): Dropout(p=0.1, inplace=False)\n",
              "            )\n",
              "            (output): RobertaSelfOutput(\n",
              "              (dense): Linear(in_features=768, out_features=768, bias=True)\n",
              "              (LayerNorm): LayerNorm((768,), eps=1e-05, elementwise_affine=True)\n",
              "              (dropout): Dropout(p=0.1, inplace=False)\n",
              "            )\n",
              "          )\n",
              "          (intermediate): RobertaIntermediate(\n",
              "            (dense): Linear(in_features=768, out_features=3072, bias=True)\n",
              "          )\n",
              "          (output): RobertaOutput(\n",
              "            (dense): Linear(in_features=3072, out_features=768, bias=True)\n",
              "            (LayerNorm): LayerNorm((768,), eps=1e-05, elementwise_affine=True)\n",
              "            (dropout): Dropout(p=0.1, inplace=False)\n",
              "          )\n",
              "        )\n",
              "        (10): RobertaLayer(\n",
              "          (attention): RobertaAttention(\n",
              "            (self): RobertaSelfAttention(\n",
              "              (query): Linear(in_features=768, out_features=768, bias=True)\n",
              "              (key): Linear(in_features=768, out_features=768, bias=True)\n",
              "              (value): Linear(in_features=768, out_features=768, bias=True)\n",
              "              (dropout): Dropout(p=0.1, inplace=False)\n",
              "            )\n",
              "            (output): RobertaSelfOutput(\n",
              "              (dense): Linear(in_features=768, out_features=768, bias=True)\n",
              "              (LayerNorm): LayerNorm((768,), eps=1e-05, elementwise_affine=True)\n",
              "              (dropout): Dropout(p=0.1, inplace=False)\n",
              "            )\n",
              "          )\n",
              "          (intermediate): RobertaIntermediate(\n",
              "            (dense): Linear(in_features=768, out_features=3072, bias=True)\n",
              "          )\n",
              "          (output): RobertaOutput(\n",
              "            (dense): Linear(in_features=3072, out_features=768, bias=True)\n",
              "            (LayerNorm): LayerNorm((768,), eps=1e-05, elementwise_affine=True)\n",
              "            (dropout): Dropout(p=0.1, inplace=False)\n",
              "          )\n",
              "        )\n",
              "        (11): RobertaLayer(\n",
              "          (attention): RobertaAttention(\n",
              "            (self): RobertaSelfAttention(\n",
              "              (query): Linear(in_features=768, out_features=768, bias=True)\n",
              "              (key): Linear(in_features=768, out_features=768, bias=True)\n",
              "              (value): Linear(in_features=768, out_features=768, bias=True)\n",
              "              (dropout): Dropout(p=0.1, inplace=False)\n",
              "            )\n",
              "            (output): RobertaSelfOutput(\n",
              "              (dense): Linear(in_features=768, out_features=768, bias=True)\n",
              "              (LayerNorm): LayerNorm((768,), eps=1e-05, elementwise_affine=True)\n",
              "              (dropout): Dropout(p=0.1, inplace=False)\n",
              "            )\n",
              "          )\n",
              "          (intermediate): RobertaIntermediate(\n",
              "            (dense): Linear(in_features=768, out_features=3072, bias=True)\n",
              "          )\n",
              "          (output): RobertaOutput(\n",
              "            (dense): Linear(in_features=3072, out_features=768, bias=True)\n",
              "            (LayerNorm): LayerNorm((768,), eps=1e-05, elementwise_affine=True)\n",
              "            (dropout): Dropout(p=0.1, inplace=False)\n",
              "          )\n",
              "        )\n",
              "      )\n",
              "    )\n",
              "  )\n",
              "  (classifier): RobertaClassificationHead(\n",
              "    (dense): Linear(in_features=768, out_features=768, bias=True)\n",
              "    (dropout): Dropout(p=0.1, inplace=False)\n",
              "    (out_proj): Linear(in_features=768, out_features=3, bias=True)\n",
              "  )\n",
              ")"
            ]
          },
          "metadata": {
            "tags": []
          },
          "execution_count": 22
        }
      ]
    },
    {
      "cell_type": "code",
      "metadata": {
        "id": "tyZq-8aaqjIC"
      },
      "source": [
        "optimizer = AdamW(model.parameters(),\n",
        "                  lr = 2e-5, # args.learning_rate - default is 5e-5, our notebook had 2e-5\n",
        "                  eps = 1e-8 # args.adam_epsilon  - default is 1e-8.\n",
        "                )"
      ],
      "execution_count": null,
      "outputs": []
    },
    {
      "cell_type": "code",
      "metadata": {
        "id": "lxDgEkg2q2hC",
        "colab": {
          "base_uri": "https://localhost:8080/"
        },
        "outputId": "bec33b77-dedb-454f-bebe-e37fbdbe63fb"
      },
      "source": [
        "from transformers import get_linear_schedule_with_warmup\n",
        "\n",
        "# Number of training epochs. The BERT authors recommend between 2 and 4. \n",
        "epochs = 20\n",
        "total_steps = len(train_dataloader) * epochs\n",
        "\n",
        "# Create the learning rate scheduler.\n",
        "scheduler = get_linear_schedule_with_warmup(optimizer, \n",
        "                                            num_warmup_steps = 0, # Default value in run_glue.py\n",
        "                                            num_training_steps = total_steps)\n",
        "print(total_steps)"
      ],
      "execution_count": null,
      "outputs": [
        {
          "output_type": "stream",
          "text": [
            "420\n"
          ],
          "name": "stdout"
        }
      ]
    },
    {
      "cell_type": "code",
      "metadata": {
        "id": "20T95KmZrTv7"
      },
      "source": [
        "import numpy as np\n",
        "\n",
        "# Function to calculate the accuracy of our predictions vs labels\n",
        "def flat_accuracy(preds, labels):\n",
        "    pred_flat = np.argmax(preds, axis=1).flatten()\n",
        "    labels_flat = labels.flatten()\n",
        "    return np.sum(pred_flat == labels_flat) / len(labels_flat)"
      ],
      "execution_count": null,
      "outputs": []
    },
    {
      "cell_type": "code",
      "metadata": {
        "id": "5s04Gok2rXTj",
        "colab": {
          "base_uri": "https://localhost:8080/"
        },
        "outputId": "233cd4af-ff3a-4178-f910-03ddb058eb33"
      },
      "source": [
        "import random\n",
        "import numpy as np\n",
        "\n",
        "# This training code is based on the `run_glue.py` script here:\n",
        "# https://github.com/huggingface/transformers/blob/5bfcd0485ece086ebcbed2d008813037968a9e58/examples/run_glue.py#L128\n",
        "\n",
        "# Set the seed value all over the place to make this reproducible.\n",
        "seed_val = 42\n",
        "\n",
        "random.seed(seed_val)\n",
        "np.random.seed(seed_val)\n",
        "torch.manual_seed(seed_val)\n",
        "torch.cuda.manual_seed_all(seed_val)\n",
        "\n",
        "# We'll store a number of quantities such as training and validation loss, \n",
        "# validation accuracy, and timings.\n",
        "training_stats = []\n",
        "\n",
        "# Measure the total training time for the whole run.\n",
        "total_t0 = time.time()\n",
        "\n",
        "# For each epoch...\n",
        "for epoch_i in range(0, epochs):\n",
        "    \n",
        "    # ========================================\n",
        "    #               Training\n",
        "    # ========================================\n",
        "    \n",
        "    # Perform one full pass over the training set.\n",
        "\n",
        "    print(\"\")\n",
        "    print('======== Epoch {:} / {:} ========'.format(epoch_i + 1, epochs))\n",
        "    print('Training...')\n",
        "\n",
        "    # Measure how long the training epoch takes.\n",
        "    \n",
        "\n",
        "    # Reset the total loss for this epoch.\n",
        "    total_train_loss = 0\n",
        "\n",
        "    # Put the model into training mode. Don't be mislead--the call to \n",
        "    # `train` just changes the *mode*, it doesn't *perform* the training.\n",
        "    # `dropout` and `batchnorm` layers behave differently during training\n",
        "    # vs. test (source: https://stackoverflow.com/questions/51433378/what-does-model-train-do-in-pytorch)\n",
        "    model.train()\n",
        "\n",
        "    # For each batch of training data...\n",
        "    for step, batch in enumerate(train_dataloader):\n",
        "\n",
        "        # Progress update every 40 batches.\n",
        "        if step % 40 == 0 and not step == 0:\n",
        "            # Calculate elapsed time in minutes.\n",
        "            elapsed = format_time(time.time() - t0)\n",
        "            \n",
        "            # Report progress.\n",
        "            print('  Batch {:>5,}  of  {:>5,}.    Elapsed: {:}.'.format(step, len(train_dataloader), elapsed))\n",
        "\n",
        "        # Unpack this training batch from our dataloader. \n",
        "        #\n",
        "        # As we unpack the batch, we'll also copy each tensor to the GPU using the \n",
        "        # `to` method.\n",
        "        #\n",
        "        # `batch` contains three pytorch tensors:\n",
        "        #   [0]: input ids \n",
        "        #   [1]: attention masks\n",
        "        #   [2]: labels \n",
        "        b_input_ids = batch[0].to(device)\n",
        "        b_input_mask = batch[1].to(device)\n",
        "        b_labels = batch[2].to(device)\n",
        "\n",
        "        # Always clear any previously calculated gradients before performing a\n",
        "        # backward pass. PyTorch doesn't do this automatically because \n",
        "        # accumulating the gradients is \"convenient while training RNNs\". \n",
        "        # (source: https://stackoverflow.com/questions/48001598/why-do-we-need-to-call-zero-grad-in-pytorch)\n",
        "        model.zero_grad()        \n",
        "\n",
        "        # Perform a forward pass (evaluate the model on this training batch).\n",
        "        # The documentation for this `model` function is here: \n",
        "        # https://huggingface.co/transformers/v2.2.0/model_doc/bert.html#transformers.BertForSequenceClassification\n",
        "        # It returns different numbers of parameters depending on what arguments\n",
        "        # arge given and what flags are set. For our useage here, it returns\n",
        "        # the loss (because we provided labels) and the \"logits\"--the model\n",
        "        # outputs prior to activation.\n",
        "        loss, logits = model(b_input_ids, \n",
        "                             token_type_ids=None, \n",
        "                             attention_mask=b_input_mask, \n",
        "                             labels=b_labels)\n",
        "\n",
        "        # Accumulate the training loss over all of the batches so that we can\n",
        "        # calculate the average loss at the end. `loss` is a Tensor containing a\n",
        "        # single value; the `.item()` function just returns the Python value \n",
        "        # from the tensor.\n",
        "        total_train_loss += loss.item()\n",
        "\n",
        "        # Perform a backward pass to calculate the gradients.\n",
        "        loss.backward()\n",
        "\n",
        "        # Clip the norm of the gradients to 1.0.\n",
        "        # This is to help prevent the \"exploding gradients\" problem.\n",
        "        torch.nn.utils.clip_grad_norm_(model.parameters(), 1.0)\n",
        "\n",
        "        # Update parameters and take a step using the computed gradient.\n",
        "        # The optimizer dictates the \"update rule\"--how the parameters are\n",
        "        # modified based on their gradients, the learning rate, etc.\n",
        "        optimizer.step()\n",
        "\n",
        "        # Update the learning rate.\n",
        "        scheduler.step()\n",
        "\n",
        "    # Calculate the average loss over all of the batches.\n",
        "    avg_train_loss = total_train_loss / len(train_dataloader)            \n",
        "    \n",
        "    # Measure how long this epoch took.\n",
        "    training_time = format_time(time.time() - t0)\n",
        "\n",
        "    print(\"\")\n",
        "    print(\"  Average training loss: {0:.2f}\".format(avg_train_loss))\n",
        "    print(\"  Training epcoh took: {:}\".format(training_time))\n",
        "        \n",
        "    # ========================================\n",
        "    #               Validation\n",
        "    # ========================================\n",
        "    # After the completion of each training epoch, measure our performance on\n",
        "    # our validation set.\n",
        "\n",
        "    print(\"\")\n",
        "    print(\"Running Validation...\")\n",
        "\n",
        "    t0 = time.time()\n",
        "\n",
        "    # Put the model in evaluation mode--the dropout layers behave differently\n",
        "    # during evaluation.\n",
        "    model.eval()\n",
        "\n",
        "    # Tracking variables \n",
        "    total_eval_accuracy = 0\n",
        "    total_eval_loss = 0\n",
        "    nb_eval_steps = 0\n",
        "\n",
        "    # Evaluate data for one epoch\n",
        "    for batch in validation_dataloader:\n",
        "        \n",
        "        # Unpack this training batch from our dataloader. \n",
        "        #\n",
        "        # As we unpack the batch, we'll also copy each tensor to the GPU using \n",
        "        # the `to` method.\n",
        "        #\n",
        "        # `batch` contains three pytorch tensors:\n",
        "        #   [0]: input ids \n",
        "        #   [1]: attention masks\n",
        "        #   [2]: labels \n",
        "        b_input_ids = batch[0].to(device)\n",
        "        b_input_mask = batch[1].to(device)\n",
        "        b_labels = batch[2].to(device)\n",
        "        \n",
        "        # Tell pytorch not to bother with constructing the compute graph during\n",
        "        # the forward pass, since this is only needed for backprop (training).\n",
        "        with torch.no_grad():        \n",
        "\n",
        "            # Forward pass, calculate logit predictions.\n",
        "            # token_type_ids is the same as the \"segment ids\", which \n",
        "            # differentiates sentence 1 and 2 in 2-sentence tasks.\n",
        "            # The documentation for this `model` function is here: \n",
        "            # https://huggingface.co/transformers/v2.2.0/model_doc/bert.html#transformers.BertForSequenceClassification\n",
        "            # Get the \"logits\" output by the model. The \"logits\" are the output\n",
        "            # values prior to applying an activation function like the softmax.\n",
        "            (loss, logits) = model(b_input_ids, \n",
        "                                   token_type_ids=None, \n",
        "                                   attention_mask=b_input_mask,\n",
        "                                   labels=b_labels)\n",
        "            \n",
        "        # Accumulate the validation loss.\n",
        "        total_eval_loss += loss.item()\n",
        "\n",
        "        # Move logits and labels to CPU\n",
        "        logits = logits.detach().cpu().numpy()\n",
        "        label_ids = b_labels.to('cpu').numpy()\n",
        "\n",
        "        # Calculate the accuracy for this batch of test sentences, and\n",
        "        # accumulate it over all batches.\n",
        "        total_eval_accuracy += flat_accuracy(logits, label_ids)\n",
        "        \n",
        "\n",
        "    # Report the final accuracy for this validation run.\n",
        "    avg_val_accuracy = total_eval_accuracy / len(validation_dataloader)\n",
        "    print(\"  Accuracy: {0:.2f}\".format(avg_val_accuracy))\n",
        "\n",
        "    # Calculate the average loss over all of the batches.\n",
        "    avg_val_loss = total_eval_loss / len(validation_dataloader)\n",
        "    \n",
        "    # Measure how long the validation run took.\n",
        "    validation_time = format_time(time.time() - t0)\n",
        "    \n",
        "    print(\"  Validation Loss: {0:.2f}\".format(avg_val_loss))\n",
        "    print(\"  Validation took: {:}\".format(validation_time))\n",
        "\n",
        "    # Record all statistics from this epoch.\n",
        "    training_stats.append(\n",
        "        {\n",
        "            'epoch': epoch_i + 1,\n",
        "            'Training Loss': avg_train_loss,\n",
        "            'Valid. Loss': avg_val_loss,\n",
        "            'Valid. Accur.': avg_val_accuracy,\n",
        "            'Training Time': training_time,\n",
        "            'Validation Time': validation_time\n",
        "        }\n",
        "    )\n",
        "\n",
        "print(\"\")\n",
        "print(\"Training complete!\")\n",
        "\n",
        "print(\"Total training took {:} (h:mm:ss)\".format(format_time(time.time()-total_t0)))"
      ],
      "execution_count": null,
      "outputs": [
        {
          "output_type": "stream",
          "text": [
            "\n",
            "======== Epoch 1 / 20 ========\n",
            "Training...\n",
            "\n",
            "  Average training loss: 1.24\n",
            "  Training epcoh took: 0:00:14\n",
            "\n",
            "Running Validation...\n",
            "  Accuracy: 0.44\n",
            "  Validation Loss: 1.09\n",
            "  Validation took: 0:00:05\n",
            "\n",
            "======== Epoch 2 / 20 ========\n",
            "Training...\n",
            "\n",
            "  Average training loss: 1.08\n",
            "  Training epcoh took: 0:00:14\n",
            "\n",
            "Running Validation...\n",
            "  Accuracy: 0.34\n",
            "  Validation Loss: 1.09\n",
            "  Validation took: 0:00:05\n",
            "\n",
            "======== Epoch 3 / 20 ========\n",
            "Training...\n",
            "\n",
            "  Average training loss: 1.09\n",
            "  Training epcoh took: 0:00:14\n",
            "\n",
            "Running Validation...\n",
            "  Accuracy: 0.44\n",
            "  Validation Loss: 1.07\n",
            "  Validation took: 0:00:05\n",
            "\n",
            "======== Epoch 4 / 20 ========\n",
            "Training...\n",
            "\n",
            "  Average training loss: 1.09\n",
            "  Training epcoh took: 0:00:14\n",
            "\n",
            "Running Validation...\n",
            "  Accuracy: 0.44\n",
            "  Validation Loss: 1.07\n",
            "  Validation took: 0:00:05\n",
            "\n",
            "======== Epoch 5 / 20 ========\n",
            "Training...\n",
            "\n",
            "  Average training loss: 1.08\n",
            "  Training epcoh took: 0:00:14\n",
            "\n",
            "Running Validation...\n",
            "  Accuracy: 0.44\n",
            "  Validation Loss: 1.06\n",
            "  Validation took: 0:00:05\n",
            "\n",
            "======== Epoch 6 / 20 ========\n",
            "Training...\n",
            "\n",
            "  Average training loss: 1.06\n",
            "  Training epcoh took: 0:00:14\n",
            "\n",
            "Running Validation...\n",
            "  Accuracy: 0.44\n",
            "  Validation Loss: 1.07\n",
            "  Validation took: 0:00:05\n",
            "\n",
            "======== Epoch 7 / 20 ========\n",
            "Training...\n",
            "\n",
            "  Average training loss: 1.05\n",
            "  Training epcoh took: 0:00:14\n",
            "\n",
            "Running Validation...\n",
            "  Accuracy: 0.54\n",
            "  Validation Loss: 0.94\n",
            "  Validation took: 0:00:05\n",
            "\n",
            "======== Epoch 8 / 20 ========\n",
            "Training...\n",
            "\n",
            "  Average training loss: 0.86\n",
            "  Training epcoh took: 0:00:14\n",
            "\n",
            "Running Validation...\n",
            "  Accuracy: 0.66\n",
            "  Validation Loss: 0.78\n",
            "  Validation took: 0:00:05\n",
            "\n",
            "======== Epoch 9 / 20 ========\n",
            "Training...\n",
            "\n",
            "  Average training loss: 0.74\n",
            "  Training epcoh took: 0:00:14\n",
            "\n",
            "Running Validation...\n",
            "  Accuracy: 0.64\n",
            "  Validation Loss: 0.85\n",
            "  Validation took: 0:00:05\n",
            "\n",
            "======== Epoch 10 / 20 ========\n",
            "Training...\n",
            "\n",
            "  Average training loss: 0.58\n",
            "  Training epcoh took: 0:00:14\n",
            "\n",
            "Running Validation...\n",
            "  Accuracy: 0.82\n",
            "  Validation Loss: 0.42\n",
            "  Validation took: 0:00:05\n",
            "\n",
            "======== Epoch 11 / 20 ========\n",
            "Training...\n",
            "\n",
            "  Average training loss: 0.44\n",
            "  Training epcoh took: 0:00:14\n",
            "\n",
            "Running Validation...\n",
            "  Accuracy: 0.85\n",
            "  Validation Loss: 0.44\n",
            "  Validation took: 0:00:05\n",
            "\n",
            "======== Epoch 12 / 20 ========\n",
            "Training...\n",
            "\n",
            "  Average training loss: 0.43\n",
            "  Training epcoh took: 0:00:14\n",
            "\n",
            "Running Validation...\n",
            "  Accuracy: 0.92\n",
            "  Validation Loss: 0.22\n",
            "  Validation took: 0:00:05\n",
            "\n",
            "======== Epoch 13 / 20 ========\n",
            "Training...\n",
            "\n",
            "  Average training loss: 0.31\n",
            "  Training epcoh took: 0:00:14\n",
            "\n",
            "Running Validation...\n",
            "  Accuracy: 0.93\n",
            "  Validation Loss: 0.26\n",
            "  Validation took: 0:00:05\n",
            "\n",
            "======== Epoch 14 / 20 ========\n",
            "Training...\n",
            "\n",
            "  Average training loss: 0.23\n",
            "  Training epcoh took: 0:00:14\n",
            "\n",
            "Running Validation...\n",
            "  Accuracy: 0.99\n",
            "  Validation Loss: 0.10\n",
            "  Validation took: 0:00:05\n",
            "\n",
            "======== Epoch 15 / 20 ========\n",
            "Training...\n",
            "\n",
            "  Average training loss: 0.14\n",
            "  Training epcoh took: 0:00:14\n",
            "\n",
            "Running Validation...\n",
            "  Accuracy: 0.96\n",
            "  Validation Loss: 0.12\n",
            "  Validation took: 0:00:05\n",
            "\n",
            "======== Epoch 16 / 20 ========\n",
            "Training...\n",
            "\n",
            "  Average training loss: 0.17\n",
            "  Training epcoh took: 0:00:14\n",
            "\n",
            "Running Validation...\n",
            "  Accuracy: 0.98\n",
            "  Validation Loss: 0.08\n",
            "  Validation took: 0:00:05\n",
            "\n",
            "======== Epoch 17 / 20 ========\n",
            "Training...\n",
            "\n",
            "  Average training loss: 0.10\n",
            "  Training epcoh took: 0:00:14\n",
            "\n",
            "Running Validation...\n",
            "  Accuracy: 0.99\n",
            "  Validation Loss: 0.05\n",
            "  Validation took: 0:00:05\n",
            "\n",
            "======== Epoch 18 / 20 ========\n",
            "Training...\n",
            "\n",
            "  Average training loss: 0.08\n",
            "  Training epcoh took: 0:00:14\n",
            "\n",
            "Running Validation...\n",
            "  Accuracy: 0.99\n",
            "  Validation Loss: 0.05\n",
            "  Validation took: 0:00:05\n",
            "\n",
            "======== Epoch 19 / 20 ========\n",
            "Training...\n",
            "\n",
            "  Average training loss: 0.08\n",
            "  Training epcoh took: 0:00:14\n",
            "\n",
            "Running Validation...\n",
            "  Accuracy: 0.99\n",
            "  Validation Loss: 0.04\n",
            "  Validation took: 0:00:05\n",
            "\n",
            "======== Epoch 20 / 20 ========\n",
            "Training...\n",
            "\n",
            "  Average training loss: 0.06\n",
            "  Training epcoh took: 0:00:14\n",
            "\n",
            "Running Validation...\n",
            "  Accuracy: 0.99\n",
            "  Validation Loss: 0.04\n",
            "  Validation took: 0:00:05\n",
            "\n",
            "Training complete!\n",
            "Total training took 0:06:19 (h:mm:ss)\n"
          ],
          "name": "stdout"
        }
      ]
    },
    {
      "cell_type": "code",
      "metadata": {
        "id": "7J7hAD67uhaF",
        "colab": {
          "base_uri": "https://localhost:8080/",
          "height": 677
        },
        "outputId": "8e32f066-293c-4c8f-8613-b36298812a1b"
      },
      "source": [
        "import pandas as pd\n",
        "\n",
        "# Display floats with two decimal places.\n",
        "pd.set_option('precision', 2)\n",
        "\n",
        "# Create a DataFrame from our training statistics.\n",
        "df_stats = pd.DataFrame(data=training_stats)\n",
        "\n",
        "# Use the 'epoch' as the row index.\n",
        "df_stats = df_stats.set_index('epoch')\n",
        "\n",
        "# A hack to force the column headers to wrap.\n",
        "#df = df.style.set_table_styles([dict(selector=\"th\",props=[('max-width', '70px')])])\n",
        "\n",
        "# Display the table.\n",
        "df_stats"
      ],
      "execution_count": null,
      "outputs": [
        {
          "output_type": "execute_result",
          "data": {
            "text/html": [
              "<div>\n",
              "<style scoped>\n",
              "    .dataframe tbody tr th:only-of-type {\n",
              "        vertical-align: middle;\n",
              "    }\n",
              "\n",
              "    .dataframe tbody tr th {\n",
              "        vertical-align: top;\n",
              "    }\n",
              "\n",
              "    .dataframe thead th {\n",
              "        text-align: right;\n",
              "    }\n",
              "</style>\n",
              "<table border=\"1\" class=\"dataframe\">\n",
              "  <thead>\n",
              "    <tr style=\"text-align: right;\">\n",
              "      <th></th>\n",
              "      <th>Training Loss</th>\n",
              "      <th>Valid. Loss</th>\n",
              "      <th>Valid. Accur.</th>\n",
              "      <th>Training Time</th>\n",
              "      <th>Validation Time</th>\n",
              "    </tr>\n",
              "    <tr>\n",
              "      <th>epoch</th>\n",
              "      <th></th>\n",
              "      <th></th>\n",
              "      <th></th>\n",
              "      <th></th>\n",
              "      <th></th>\n",
              "    </tr>\n",
              "  </thead>\n",
              "  <tbody>\n",
              "    <tr>\n",
              "      <th>1</th>\n",
              "      <td>1.24</td>\n",
              "      <td>1.09</td>\n",
              "      <td>0.44</td>\n",
              "      <td>0:00:14</td>\n",
              "      <td>0:00:05</td>\n",
              "    </tr>\n",
              "    <tr>\n",
              "      <th>2</th>\n",
              "      <td>1.08</td>\n",
              "      <td>1.09</td>\n",
              "      <td>0.34</td>\n",
              "      <td>0:00:14</td>\n",
              "      <td>0:00:05</td>\n",
              "    </tr>\n",
              "    <tr>\n",
              "      <th>3</th>\n",
              "      <td>1.09</td>\n",
              "      <td>1.07</td>\n",
              "      <td>0.44</td>\n",
              "      <td>0:00:14</td>\n",
              "      <td>0:00:05</td>\n",
              "    </tr>\n",
              "    <tr>\n",
              "      <th>4</th>\n",
              "      <td>1.09</td>\n",
              "      <td>1.07</td>\n",
              "      <td>0.44</td>\n",
              "      <td>0:00:14</td>\n",
              "      <td>0:00:05</td>\n",
              "    </tr>\n",
              "    <tr>\n",
              "      <th>5</th>\n",
              "      <td>1.08</td>\n",
              "      <td>1.06</td>\n",
              "      <td>0.44</td>\n",
              "      <td>0:00:14</td>\n",
              "      <td>0:00:05</td>\n",
              "    </tr>\n",
              "    <tr>\n",
              "      <th>6</th>\n",
              "      <td>1.06</td>\n",
              "      <td>1.07</td>\n",
              "      <td>0.44</td>\n",
              "      <td>0:00:14</td>\n",
              "      <td>0:00:05</td>\n",
              "    </tr>\n",
              "    <tr>\n",
              "      <th>7</th>\n",
              "      <td>1.05</td>\n",
              "      <td>0.94</td>\n",
              "      <td>0.54</td>\n",
              "      <td>0:00:14</td>\n",
              "      <td>0:00:05</td>\n",
              "    </tr>\n",
              "    <tr>\n",
              "      <th>8</th>\n",
              "      <td>0.86</td>\n",
              "      <td>0.78</td>\n",
              "      <td>0.66</td>\n",
              "      <td>0:00:14</td>\n",
              "      <td>0:00:05</td>\n",
              "    </tr>\n",
              "    <tr>\n",
              "      <th>9</th>\n",
              "      <td>0.74</td>\n",
              "      <td>0.85</td>\n",
              "      <td>0.64</td>\n",
              "      <td>0:00:14</td>\n",
              "      <td>0:00:05</td>\n",
              "    </tr>\n",
              "    <tr>\n",
              "      <th>10</th>\n",
              "      <td>0.58</td>\n",
              "      <td>0.42</td>\n",
              "      <td>0.82</td>\n",
              "      <td>0:00:14</td>\n",
              "      <td>0:00:05</td>\n",
              "    </tr>\n",
              "    <tr>\n",
              "      <th>11</th>\n",
              "      <td>0.44</td>\n",
              "      <td>0.44</td>\n",
              "      <td>0.85</td>\n",
              "      <td>0:00:14</td>\n",
              "      <td>0:00:05</td>\n",
              "    </tr>\n",
              "    <tr>\n",
              "      <th>12</th>\n",
              "      <td>0.43</td>\n",
              "      <td>0.22</td>\n",
              "      <td>0.92</td>\n",
              "      <td>0:00:14</td>\n",
              "      <td>0:00:05</td>\n",
              "    </tr>\n",
              "    <tr>\n",
              "      <th>13</th>\n",
              "      <td>0.31</td>\n",
              "      <td>0.26</td>\n",
              "      <td>0.93</td>\n",
              "      <td>0:00:14</td>\n",
              "      <td>0:00:05</td>\n",
              "    </tr>\n",
              "    <tr>\n",
              "      <th>14</th>\n",
              "      <td>0.23</td>\n",
              "      <td>0.10</td>\n",
              "      <td>0.99</td>\n",
              "      <td>0:00:14</td>\n",
              "      <td>0:00:05</td>\n",
              "    </tr>\n",
              "    <tr>\n",
              "      <th>15</th>\n",
              "      <td>0.14</td>\n",
              "      <td>0.12</td>\n",
              "      <td>0.96</td>\n",
              "      <td>0:00:14</td>\n",
              "      <td>0:00:05</td>\n",
              "    </tr>\n",
              "    <tr>\n",
              "      <th>16</th>\n",
              "      <td>0.17</td>\n",
              "      <td>0.08</td>\n",
              "      <td>0.98</td>\n",
              "      <td>0:00:14</td>\n",
              "      <td>0:00:05</td>\n",
              "    </tr>\n",
              "    <tr>\n",
              "      <th>17</th>\n",
              "      <td>0.10</td>\n",
              "      <td>0.05</td>\n",
              "      <td>0.99</td>\n",
              "      <td>0:00:14</td>\n",
              "      <td>0:00:05</td>\n",
              "    </tr>\n",
              "    <tr>\n",
              "      <th>18</th>\n",
              "      <td>0.08</td>\n",
              "      <td>0.05</td>\n",
              "      <td>0.99</td>\n",
              "      <td>0:00:14</td>\n",
              "      <td>0:00:05</td>\n",
              "    </tr>\n",
              "    <tr>\n",
              "      <th>19</th>\n",
              "      <td>0.08</td>\n",
              "      <td>0.04</td>\n",
              "      <td>0.99</td>\n",
              "      <td>0:00:14</td>\n",
              "      <td>0:00:05</td>\n",
              "    </tr>\n",
              "    <tr>\n",
              "      <th>20</th>\n",
              "      <td>0.06</td>\n",
              "      <td>0.04</td>\n",
              "      <td>0.99</td>\n",
              "      <td>0:00:14</td>\n",
              "      <td>0:00:05</td>\n",
              "    </tr>\n",
              "  </tbody>\n",
              "</table>\n",
              "</div>"
            ],
            "text/plain": [
              "       Training Loss  Valid. Loss  Valid. Accur. Training Time Validation Time\n",
              "epoch                                                                         \n",
              "1               1.24         1.09           0.44       0:00:14         0:00:05\n",
              "2               1.08         1.09           0.34       0:00:14         0:00:05\n",
              "3               1.09         1.07           0.44       0:00:14         0:00:05\n",
              "4               1.09         1.07           0.44       0:00:14         0:00:05\n",
              "5               1.08         1.06           0.44       0:00:14         0:00:05\n",
              "6               1.06         1.07           0.44       0:00:14         0:00:05\n",
              "7               1.05         0.94           0.54       0:00:14         0:00:05\n",
              "8               0.86         0.78           0.66       0:00:14         0:00:05\n",
              "9               0.74         0.85           0.64       0:00:14         0:00:05\n",
              "10              0.58         0.42           0.82       0:00:14         0:00:05\n",
              "11              0.44         0.44           0.85       0:00:14         0:00:05\n",
              "12              0.43         0.22           0.92       0:00:14         0:00:05\n",
              "13              0.31         0.26           0.93       0:00:14         0:00:05\n",
              "14              0.23         0.10           0.99       0:00:14         0:00:05\n",
              "15              0.14         0.12           0.96       0:00:14         0:00:05\n",
              "16              0.17         0.08           0.98       0:00:14         0:00:05\n",
              "17              0.10         0.05           0.99       0:00:14         0:00:05\n",
              "18              0.08         0.05           0.99       0:00:14         0:00:05\n",
              "19              0.08         0.04           0.99       0:00:14         0:00:05\n",
              "20              0.06         0.04           0.99       0:00:14         0:00:05"
            ]
          },
          "metadata": {
            "tags": []
          },
          "execution_count": 84
        }
      ]
    },
    {
      "cell_type": "code",
      "metadata": {
        "id": "6vyPYgL8ulrG",
        "colab": {
          "base_uri": "https://localhost:8080/",
          "height": 426
        },
        "outputId": "25aa5748-9413-4085-f938-5a2f5236b460"
      },
      "source": [
        "import matplotlib.pyplot as plt\n",
        "% matplotlib inline\n",
        "\n",
        "import seaborn as sns\n",
        "\n",
        "# Use plot styling from seaborn.\n",
        "sns.set(style='darkgrid')\n",
        "\n",
        "# Increase the plot size and font size.\n",
        "sns.set(font_scale=1.5)\n",
        "plt.rcParams[\"figure.figsize\"] = (12,6)\n",
        "\n",
        "# Plot the learning curve.\n",
        "plt.plot(df_stats['Training Loss'], 'b-o', label=\"Training\")\n",
        "plt.plot(df_stats['Valid. Loss'], 'g-o', label=\"Validation\")\n",
        "\n",
        "# Label the plot.\n",
        "plt.title(\"Training & Validation Loss\")\n",
        "plt.xlabel(\"Epoch\")\n",
        "plt.ylabel(\"Loss\")\n",
        "plt.legend()\n",
        "plt.xticks(range(0,epochs))\n",
        "\n",
        "plt.show()"
      ],
      "execution_count": null,
      "outputs": [
        {
          "output_type": "display_data",
          "data": {
            "image/png": "[encoded data removed]",
            "text/plain": [
              "<Figure size 864x432 with 1 Axes>"
            ]
          },
          "metadata": {
            "tags": []
          }
        }
      ]
    },
    {
      "cell_type": "code",
      "metadata": {
        "id": "cL-4lX8fEyuT"
      },
      "source": [
        ""
      ],
      "execution_count": null,
      "outputs": []
    },
    {
      "cell_type": "markdown",
      "metadata": {
        "id": "Xglvux0FxmSL"
      },
      "source": [
        "## testing on test set"
      ]
    },
    {
      "cell_type": "code",
      "metadata": {
        "id": "FndGf73WwojH",
        "colab": {
          "base_uri": "https://localhost:8080/"
        },
        "outputId": "951059c0-d4b9-4e85-b52c-069ff3057493"
      },
      "source": [
        "batch_size=16\n",
        "#source comment\n",
        "# test_input_ids,test_attention_masks,test_labels=two_sentence_tokenizer_func(tokenizer_tweet,test_data,test_labels)\n",
        "# source only\n",
        "test_input_ids,test_attention_masks,test_labels=tokenizer_func(tokenizer_tweet,test_sentences,test_labels)\n",
        "prediction_data = TensorDataset(test_input_ids, test_attention_masks, test_labels)\n",
        "prediction_sampler = SequentialSampler(prediction_data)\n",
        "prediction_dataloader = DataLoader(prediction_data, sampler=prediction_sampler, batch_size=batch_size)\n"
      ],
      "execution_count": null,
      "outputs": [
        {
          "output_type": "stream",
          "text": [
            "/usr/local/lib/python3.6/dist-packages/transformers/tokenization_utils_base.py:2022: FutureWarning: The `pad_to_max_length` argument is deprecated and will be removed in a future version, use `padding=True` or `padding='longest'` to pad to the longest sequence in the batch, or use `padding='max_length'` to pad to a max length. In this case, you can give a specific length with `max_length` (e.g. `max_length=45`) or leave max_length to None to pad to the maximal input size of the model (e.g. 512 for Bert).\n",
            "  FutureWarning,\n",
            "/usr/local/lib/python3.6/dist-packages/ipykernel_launcher.py:44: UserWarning: To copy construct from a tensor, it is recommended to use sourceTensor.clone().detach() or sourceTensor.clone().detach().requires_grad_(True), rather than torch.tensor(sourceTensor).\n"
          ],
          "name": "stderr"
        }
      ]
    },
    {
      "cell_type": "code",
      "metadata": {
        "id": "FUgB_jnEx9k_",
        "colab": {
          "base_uri": "https://localhost:8080/"
        },
        "outputId": "5ee59a13-f79e-4f64-8589-d4baf0a62024"
      },
      "source": [
        "%time\n",
        "# Prediction on test set\n",
        "\n",
        "print('Predicting labels for {:,} test sentences...'.format(len(test_input_ids)))\n",
        "\n",
        "# Put model in evaluation mode\n",
        "model.eval()\n",
        "print('Predicting labels for {:,} test batches...'.format(len(prediction_dataloader)))\n",
        "# Tracking variables \n",
        "predictions , true_labels = [], []\n",
        "\n",
        "# Predict \n",
        "for batch in prediction_dataloader:\n",
        "  # Add batch to GPU\n",
        "  batch = tuple(t.to(device) for t in batch)\n",
        "  \n",
        "  # Unpack the inputs from our dataloader\n",
        "  b_input_ids, b_input_mask, b_labels = batch\n",
        "  \n",
        "  # Telling the model not to compute or store gradients, saving memory and \n",
        "  # speeding up prediction\n",
        "  with torch.no_grad():\n",
        "      # Forward pass, calculate logit predictions\n",
        "      outputs = model(b_input_ids, token_type_ids=None, \n",
        "                      attention_mask=b_input_mask)\n",
        "\n",
        "  logits = outputs[0]\n",
        "\n",
        "  # Move logits and labels to CPU\n",
        "  logits = logits.detach().cpu().numpy()\n",
        "  label_ids = b_labels.to('cpu').numpy()\n",
        "  \n",
        "  # Store predictions and true labels\n",
        "  predictions.append(logits)\n",
        "  true_labels.append(label_ids)"
      ],
      "execution_count": null,
      "outputs": [
        {
          "output_type": "stream",
          "text": [
            "CPU times: user 1 µs, sys: 1e+03 ns, total: 2 µs\n",
            "Wall time: 5.96 µs\n",
            "Predicting labels for 81 test sentences...\n",
            "Predicting labels for 6 test batches...\n"
          ],
          "name": "stdout"
        }
      ]
    },
    {
      "cell_type": "code",
      "metadata": {
        "colab": {
          "base_uri": "https://localhost:8080/"
        },
        "id": "L8lzdvme-5dA",
        "outputId": "8f522638-253b-4353-a3a5-0a6de3899aaf"
      },
      "source": [
        "len(true_labels)"
      ],
      "execution_count": null,
      "outputs": [
        {
          "output_type": "execute_result",
          "data": {
            "text/plain": [
              "6"
            ]
          },
          "metadata": {
            "tags": []
          },
          "execution_count": 92
        }
      ]
    },
    {
      "cell_type": "markdown",
      "metadata": {
        "id": "ZLJ1dr0r-EaH"
      },
      "source": [
        "### results and metrics"
      ]
    },
    {
      "cell_type": "markdown",
      "metadata": {
        "id": "u4H7eI8bIH-v"
      },
      "source": [
        "#### f1 and accuracy"
      ]
    },
    {
      "cell_type": "code",
      "metadata": {
        "id": "ZJlBenj3-KfY"
      },
      "source": [
        "from sklearn.metrics import plot_confusion_matrix"
      ],
      "execution_count": null,
      "outputs": []
    },
    {
      "cell_type": "code",
      "metadata": {
        "id": "ET2w4UXlzEjd"
      },
      "source": [
        "flat_predictions = np.concatenate(predictions, axis=0)\n",
        "\n",
        "# For each sample, pick the label (0 or 1) with the higher score.\n",
        "flat_predictions = np.argmax(flat_predictions, axis=1).flatten()\n",
        "\n",
        "# Combine the correct labels for each batch into a single list.\n",
        "flat_true_labels = np.concatenate(true_labels, axis=0)"
      ],
      "execution_count": null,
      "outputs": []
    },
    {
      "cell_type": "code",
      "metadata": {
        "colab": {
          "base_uri": "https://localhost:8080/"
        },
        "id": "dziE8cXWFPd1",
        "outputId": "2e4e1eaf-d74d-4873-9ed0-20c52be11c0b"
      },
      "source": [
        "flat_predictions"
      ],
      "execution_count": null,
      "outputs": [
        {
          "output_type": "execute_result",
          "data": {
            "text/plain": [
              "array([1, 1, 1, ..., 0, 0, 0])"
            ]
          },
          "metadata": {
            "tags": []
          },
          "execution_count": 29
        }
      ]
    },
    {
      "cell_type": "code",
      "metadata": {
        "id": "pSBYmTG75TAs",
        "colab": {
          "base_uri": "https://localhost:8080/"
        },
        "outputId": "c96437f4-acd9-4f31-e3a8-7dac633914af"
      },
      "source": [
        "# with dropping unverified from train and val\n",
        "from sklearn.metrics import f1_score\n",
        "macro=f1_score(flat_true_labels, flat_predictions, average='macro')\n",
        "micro=f1_score(flat_true_labels, flat_predictions, average='micro')\n",
        "weighted=f1_score(flat_true_labels, flat_predictions, average='weighted')\n",
        "print('macro f1 score: %.3f' %macro)\n",
        "print('micro f1 score: %.3f' %micro)\n",
        "print('weighted f1 score: %.3f' %weighted)"
      ],
      "execution_count": null,
      "outputs": [
        {
          "output_type": "stream",
          "text": [
            "macro f1 score: 0.329\n",
            "micro f1 score: 0.383\n",
            "weighted f1 score: 0.385\n"
          ],
          "name": "stdout"
        }
      ]
    },
    {
      "cell_type": "markdown",
      "metadata": {
        "id": "2F3TJ-NXVig2"
      },
      "source": [
        "#### confusion matrix"
      ]
    },
    {
      "cell_type": "code",
      "metadata": {
        "id": "5MSDhhFIVgzS"
      },
      "source": [
        "import numpy as np\n",
        "\n",
        "\n",
        "def plot_confusion_matrix(cm,\n",
        "                          target_names,\n",
        "                          title='Confusion matrix',\n",
        "                          cmap=None,\n",
        "                          normalize=True):\n",
        "\n",
        "    import matplotlib.pyplot as plt\n",
        "    import numpy as np\n",
        "    import itertools\n",
        "\n",
        "    accuracy = np.trace(cm) / float(np.sum(cm))\n",
        "    misclass = 1 - accuracy\n",
        "\n",
        "    if cmap is None:\n",
        "        cmap = plt.get_cmap('Blues')\n",
        "\n",
        "    plt.figure(figsize=(8, 6))\n",
        "    plt.imshow(cm, interpolation='nearest', cmap=cmap)\n",
        "    plt.title(title)\n",
        "    plt.colorbar()\n",
        "\n",
        "    if target_names is not None:\n",
        "        tick_marks = np.arange(len(target_names))\n",
        "        plt.xticks(tick_marks, target_names, rotation=45)\n",
        "        plt.yticks(tick_marks, target_names)\n",
        "\n",
        "    if normalize:\n",
        "        cm = cm.astype('float') / cm.sum(axis=1)[:, np.newaxis]\n",
        "\n",
        "\n",
        "    thresh = cm.max() / 1.5 if normalize else cm.max() / 2\n",
        "    for i, j in itertools.product(range(cm.shape[0]), range(cm.shape[1])):\n",
        "        if normalize:\n",
        "            plt.text(j, i, \"{:0.4f}\".format(cm[i, j]),\n",
        "                     horizontalalignment=\"center\",\n",
        "                     color=\"white\" if cm[i, j] > thresh else \"black\")\n",
        "        else:\n",
        "            plt.text(j, i, \"{:,}\".format(cm[i, j]),\n",
        "                     horizontalalignment=\"center\",\n",
        "                     color=\"white\" if cm[i, j] > thresh else \"black\")\n",
        "\n",
        "\n",
        "    plt.tight_layout()\n",
        "    plt.ylabel('True label')\n",
        "    plt.xlabel('Predicted label\\naccuracy={:0.4f}; misclass={:0.4f}'.format(accuracy, misclass))\n",
        "    plt.show()"
      ],
      "execution_count": null,
      "outputs": []
    },
    {
      "cell_type": "code",
      "metadata": {
        "id": "cGjE1L9ZVmbJ",
        "colab": {
          "base_uri": "https://localhost:8080/",
          "height": 466
        },
        "outputId": "5c473f99-0893-4be9-f1d1-109af926d648"
      },
      "source": [
        "from sklearn.metrics import confusion_matrix\n",
        "plot_confusion_matrix(cm           = confusion_matrix(test_labels, y_pred),\n",
        "                      normalize    = False,\n",
        "                      target_names = ['0', '1','2'],\n",
        "                      title        = \"Confusion Matrix\")"
      ],
      "execution_count": null,
      "outputs": [
        {
          "output_type": "display_data",
          "data": {
            "image/png": "[encoded data removed]",
            "text/plain": [
              "<Figure size 576x432 with 2 Axes>"
            ]
          },
          "metadata": {
            "tags": [],
            "needs_background": "light"
          }
        }
      ]
    },
    {
      "cell_type": "markdown",
      "metadata": {
        "id": "I6zeu_Q4IN3l"
      },
      "source": [
        "#### pooling with reply tags for tests\n",
        "counting how many reply each source has to do pooling"
      ]
    },
    {
      "cell_type": "code",
      "metadata": {
        "colab": {
          "base_uri": "https://localhost:8080/",
          "height": 197
        },
        "id": "_2j_BYtzIU9y",
        "outputId": "7ec4fc13-e6a3-40e2-981e-1791a3719e9e"
      },
      "source": [
        "test_cleaned.head()"
      ],
      "execution_count": null,
      "outputs": [
        {
          "output_type": "execute_result",
          "data": {
            "text/html": [
              "<div>\n",
              "<style scoped>\n",
              "    .dataframe tbody tr th:only-of-type {\n",
              "        vertical-align: middle;\n",
              "    }\n",
              "\n",
              "    .dataframe tbody tr th {\n",
              "        vertical-align: top;\n",
              "    }\n",
              "\n",
              "    .dataframe thead th {\n",
              "        text-align: right;\n",
              "    }\n",
              "</style>\n",
              "<table border=\"1\" class=\"dataframe\">\n",
              "  <thead>\n",
              "    <tr style=\"text-align: right;\">\n",
              "      <th></th>\n",
              "      <th>source_text</th>\n",
              "      <th>reply_text</th>\n",
              "      <th>class</th>\n",
              "    </tr>\n",
              "  </thead>\n",
              "  <tbody>\n",
              "    <tr>\n",
              "      <th>443942694612508673</th>\n",
              "      <td>Rep. Sheila Jackson Lee has no shame. I still ...</td>\n",
              "      <td>@sleepdoctorjoe @instapundit America's favorit...</td>\n",
              "      <td>true</td>\n",
              "    </tr>\n",
              "    <tr>\n",
              "      <th>443941497541754880</th>\n",
              "      <td>Rep. Sheila Jackson Lee has no shame. I still ...</td>\n",
              "      <td>@sleepdoctorjoe @instapundit Math. Still hard ...</td>\n",
              "      <td>true</td>\n",
              "    </tr>\n",
              "    <tr>\n",
              "      <th>443941649555533825</th>\n",
              "      <td>Rep. Sheila Jackson Lee has no shame. I still ...</td>\n",
              "      <td>@sleepdoctorjoe @dmbatten2 She apparently also...</td>\n",
              "      <td>true</td>\n",
              "    </tr>\n",
              "    <tr>\n",
              "      <th>443985646969843712</th>\n",
              "      <td>Rep. Sheila Jackson Lee has no shame. I still ...</td>\n",
              "      <td>@sleepdoctorjoe @dmbatten2 ALERT!!  DEM VILLAG...</td>\n",
              "      <td>true</td>\n",
              "    </tr>\n",
              "    <tr>\n",
              "      <th>443940443219570689</th>\n",
              "      <td>Rep. Sheila Jackson Lee has no shame. I still ...</td>\n",
              "      <td>@sleepdoctorjoe @instapundit Andrew tops that ...</td>\n",
              "      <td>true</td>\n",
              "    </tr>\n",
              "  </tbody>\n",
              "</table>\n",
              "</div>"
            ],
            "text/plain": [
              "                                                          source_text  ... class\n",
              "443942694612508673  Rep. Sheila Jackson Lee has no shame. I still ...  ...  true\n",
              "443941497541754880  Rep. Sheila Jackson Lee has no shame. I still ...  ...  true\n",
              "443941649555533825  Rep. Sheila Jackson Lee has no shame. I still ...  ...  true\n",
              "443985646969843712  Rep. Sheila Jackson Lee has no shame. I still ...  ...  true\n",
              "443940443219570689  Rep. Sheila Jackson Lee has no shame. I still ...  ...  true\n",
              "\n",
              "[5 rows x 3 columns]"
            ]
          },
          "metadata": {
            "tags": []
          },
          "execution_count": 24
        }
      ]
    },
    {
      "cell_type": "code",
      "metadata": {
        "id": "rZSY7nlzJ8lZ"
      },
      "source": [
        "\n",
        "def pooling(source_texts,predicted_label):\n",
        "  index=[]\n",
        "  index.append(0)\n",
        "  for i in range(len(source_texts)-1):\n",
        "    if source_texts[i]==source_texts[i+1]:\n",
        "      i+=1\n",
        "    else:\n",
        "      index.append(i+1)\n",
        "  index.append(len(source_texts)-1)\n",
        "  av=[]\n",
        "  pooling_prediction = predicted_label\n",
        "  for i in range(len(index)-1):\n",
        "    sum=0\n",
        "    for k in range(index[i],index[i+1]):\n",
        "      sum+=predicted_label[k]\n",
        "    av.append(sum/(index[i+1]-index[i]))\n",
        "  myList =[0 , 1 ,2]\n",
        "  pred_pooling=[ min(myList, key=lambda x:abs(x-av[i])) for i in range(len(av))]\n",
        "  return pred_pooling"
      ],
      "execution_count": null,
      "outputs": []
    },
    {
      "cell_type": "code",
      "metadata": {
        "colab": {
          "base_uri": "https://localhost:8080/"
        },
        "id": "_GIW9kvMOD1F",
        "outputId": "ba872db2-301e-44ef-fce8-a2ed871faaf4"
      },
      "source": [
        "from sklearn.metrics import f1_score\n",
        "source_texts_labels=test_cleaned['source_text'].values\n",
        "test_labels= test_parent_child['class'].values\n",
        "true_labels= pooling(source_texts_labels,test_labels)\n",
        "pred= pooling(source_texts_labels,flat_predictions)\n",
        "macro=f1_score(true_labels, pred, average='macro')\n",
        "micro=f1_score(true_labels, pred, average='micro')\n",
        "print('macro f1 score: %.3f' %macro)\n",
        "print('micro f1 score: %.3f' %micro)\n"
      ],
      "execution_count": null,
      "outputs": [
        {
          "output_type": "stream",
          "text": [
            "macro f1 score: 0.124\n",
            "micro f1 score: 0.148\n"
          ],
          "name": "stdout"
        }
      ]
    },
    {
      "cell_type": "code",
      "metadata": {
        "id": "and6nMDmUQry"
      },
      "source": [
        "for item in true_labels:\n",
        "  if item ==3:\n",
        "    print(1)"
      ],
      "execution_count": null,
      "outputs": []
    },
    {
      "cell_type": "markdown",
      "metadata": {
        "id": "iU6trTiTL6Pd"
      },
      "source": [
        "# save model"
      ]
    },
    {
      "cell_type": "code",
      "metadata": {
        "colab": {
          "base_uri": "https://localhost:8080/"
        },
        "id": "EYQ7ncUSL8Kq",
        "outputId": "69cfdc4f-9633-4915-aed7-46f6a1f514f5"
      },
      "source": [
        "import os\n",
        "\n",
        "# Saving best-practices: if you use defaults names for the model, you can reload it using from_pretrained()\n",
        "\n",
        "output_dir = './model_save/'\n",
        "\n",
        "# Create output directory if needed\n",
        "if not os.path.exists(output_dir):\n",
        "    os.makedirs(output_dir)\n",
        "\n",
        "print(\"Saving model to %s\" % output_dir)\n",
        "\n",
        "# Save a trained model, configuration and tokenizer using `save_pretrained()`.\n",
        "# They can then be reloaded using `from_pretrained()`\n",
        "model_to_save = model.module if hasattr(model, 'module') else model  # Take care of distributed/parallel training\n",
        "model_to_save.save_pretrained(output_dir)\n",
        "tokenizer_tweet.save_pretrained(output_dir)\n",
        "\n",
        "# Good practice: save your training arguments together with the trained model\n",
        "# torch.save(args, os.path.join(output_dir, 'training_args.bin'))\n"
      ],
      "execution_count": null,
      "outputs": [
        {
          "output_type": "stream",
          "text": [
            "Saving model to ./model_save/\n"
          ],
          "name": "stdout"
        },
        {
          "output_type": "execute_result",
          "data": {
            "text/plain": [
              "('./model_save/tokenizer_config.json',\n",
              " './model_save/special_tokens_map.json',\n",
              " './model_save/vocab.txt',\n",
              " './model_save/bpe.codes',\n",
              " './model_save/added_tokens.json')"
            ]
          },
          "metadata": {
            "tags": []
          },
          "execution_count": 37
        }
      ]
    },
    {
      "cell_type": "code",
      "metadata": {
        "id": "MaLQ6fZlMuKx",
        "colab": {
          "base_uri": "https://localhost:8080/"
        },
        "outputId": "fddf4a97-59c0-4a23-aff3-7912461a0cf0"
      },
      "source": [
        "from google.colab import drive\n",
        "drive.mount('/content/drive')"
      ],
      "execution_count": null,
      "outputs": [
        {
          "output_type": "stream",
          "text": [
            "Mounted at /content/drive\n"
          ],
          "name": "stdout"
        }
      ]
    },
    {
      "cell_type": "code",
      "metadata": {
        "id": "FWIOX-rhMvLE"
      },
      "source": [
        "!cp -r ./model_save/ \"/content/drive/MyDrive/rumour\""
      ],
      "execution_count": null,
      "outputs": []
    },
    {
      "cell_type": "markdown",
      "metadata": {
        "id": "ZLFzXpwoWW5B"
      },
      "source": [
        "# Load model"
      ]
    },
    {
      "cell_type": "code",
      "metadata": {
        "id": "v-aOKv1kOKco",
        "colab": {
          "base_uri": "https://localhost:8080/"
        },
        "outputId": "ac53bea2-5d36-45fe-a73e-a3542bf7ff1d"
      },
      "source": [
        "from google.colab import drive\n",
        "drive.mount('/content/drive')"
      ],
      "execution_count": null,
      "outputs": [
        {
          "output_type": "stream",
          "text": [
            "Mounted at /content/drive\n"
          ],
          "name": "stdout"
        }
      ]
    },
    {
      "cell_type": "code",
      "metadata": {
        "colab": {
          "base_uri": "https://localhost:8080/"
        },
        "id": "hGvsolojWoOL",
        "outputId": "3cec1792-49cd-4b24-8fcd-4b05e477feaa"
      },
      "source": [
        "%time\n",
        "from transformers import BertConfig, BertModel\n",
        "from transformers import BertTokenizer,AutoModelForSequenceClassification \n",
        "input_saved_model_dir=\"/content/drive/MyDrive/rumour/comment_source\"\n",
        "model=AutoModelForSequenceClassification.from_pretrained(input_saved_model_dir)\n",
        "# tokenizer_tweet = BertTokenizer.from_pretrained(input_saved_model_dir)\n",
        "\n",
        "# Copy the model to the GPU.\n",
        "model.to(device)"
      ],
      "execution_count": null,
      "outputs": [
        {
          "output_type": "stream",
          "text": [
            "CPU times: user 5 µs, sys: 0 ns, total: 5 µs\n",
            "Wall time: 8.82 µs\n"
          ],
          "name": "stdout"
        },
        {
          "output_type": "execute_result",
          "data": {
            "text/plain": [
              "BertForSequenceClassification(\n",
              "  (bert): BertModel(\n",
              "    (embeddings): BertEmbeddings(\n",
              "      (word_embeddings): Embedding(64001, 768, padding_idx=1)\n",
              "      (position_embeddings): Embedding(130, 768)\n",
              "      (token_type_embeddings): Embedding(1, 768)\n",
              "      (LayerNorm): LayerNorm((768,), eps=1e-05, elementwise_affine=True)\n",
              "      (dropout): Dropout(p=0.1, inplace=False)\n",
              "    )\n",
              "    (encoder): BertEncoder(\n",
              "      (layer): ModuleList(\n",
              "        (0): BertLayer(\n",
              "          (attention): BertAttention(\n",
              "            (self): BertSelfAttention(\n",
              "              (query): Linear(in_features=768, out_features=768, bias=True)\n",
              "              (key): Linear(in_features=768, out_features=768, bias=True)\n",
              "              (value): Linear(in_features=768, out_features=768, bias=True)\n",
              "              (dropout): Dropout(p=0.1, inplace=False)\n",
              "            )\n",
              "            (output): BertSelfOutput(\n",
              "              (dense): Linear(in_features=768, out_features=768, bias=True)\n",
              "              (LayerNorm): LayerNorm((768,), eps=1e-05, elementwise_affine=True)\n",
              "              (dropout): Dropout(p=0.1, inplace=False)\n",
              "            )\n",
              "          )\n",
              "          (intermediate): BertIntermediate(\n",
              "            (dense): Linear(in_features=768, out_features=3072, bias=True)\n",
              "          )\n",
              "          (output): BertOutput(\n",
              "            (dense): Linear(in_features=3072, out_features=768, bias=True)\n",
              "            (LayerNorm): LayerNorm((768,), eps=1e-05, elementwise_affine=True)\n",
              "            (dropout): Dropout(p=0.1, inplace=False)\n",
              "          )\n",
              "        )\n",
              "        (1): BertLayer(\n",
              "          (attention): BertAttention(\n",
              "            (self): BertSelfAttention(\n",
              "              (query): Linear(in_features=768, out_features=768, bias=True)\n",
              "              (key): Linear(in_features=768, out_features=768, bias=True)\n",
              "              (value): Linear(in_features=768, out_features=768, bias=True)\n",
              "              (dropout): Dropout(p=0.1, inplace=False)\n",
              "            )\n",
              "            (output): BertSelfOutput(\n",
              "              (dense): Linear(in_features=768, out_features=768, bias=True)\n",
              "              (LayerNorm): LayerNorm((768,), eps=1e-05, elementwise_affine=True)\n",
              "              (dropout): Dropout(p=0.1, inplace=False)\n",
              "            )\n",
              "          )\n",
              "          (intermediate): BertIntermediate(\n",
              "            (dense): Linear(in_features=768, out_features=3072, bias=True)\n",
              "          )\n",
              "          (output): BertOutput(\n",
              "            (dense): Linear(in_features=3072, out_features=768, bias=True)\n",
              "            (LayerNorm): LayerNorm((768,), eps=1e-05, elementwise_affine=True)\n",
              "            (dropout): Dropout(p=0.1, inplace=False)\n",
              "          )\n",
              "        )\n",
              "        (2): BertLayer(\n",
              "          (attention): BertAttention(\n",
              "            (self): BertSelfAttention(\n",
              "              (query): Linear(in_features=768, out_features=768, bias=True)\n",
              "              (key): Linear(in_features=768, out_features=768, bias=True)\n",
              "              (value): Linear(in_features=768, out_features=768, bias=True)\n",
              "              (dropout): Dropout(p=0.1, inplace=False)\n",
              "            )\n",
              "            (output): BertSelfOutput(\n",
              "              (dense): Linear(in_features=768, out_features=768, bias=True)\n",
              "              (LayerNorm): LayerNorm((768,), eps=1e-05, elementwise_affine=True)\n",
              "              (dropout): Dropout(p=0.1, inplace=False)\n",
              "            )\n",
              "          )\n",
              "          (intermediate): BertIntermediate(\n",
              "            (dense): Linear(in_features=768, out_features=3072, bias=True)\n",
              "          )\n",
              "          (output): BertOutput(\n",
              "            (dense): Linear(in_features=3072, out_features=768, bias=True)\n",
              "            (LayerNorm): LayerNorm((768,), eps=1e-05, elementwise_affine=True)\n",
              "            (dropout): Dropout(p=0.1, inplace=False)\n",
              "          )\n",
              "        )\n",
              "        (3): BertLayer(\n",
              "          (attention): BertAttention(\n",
              "            (self): BertSelfAttention(\n",
              "              (query): Linear(in_features=768, out_features=768, bias=True)\n",
              "              (key): Linear(in_features=768, out_features=768, bias=True)\n",
              "              (value): Linear(in_features=768, out_features=768, bias=True)\n",
              "              (dropout): Dropout(p=0.1, inplace=False)\n",
              "            )\n",
              "            (output): BertSelfOutput(\n",
              "              (dense): Linear(in_features=768, out_features=768, bias=True)\n",
              "              (LayerNorm): LayerNorm((768,), eps=1e-05, elementwise_affine=True)\n",
              "              (dropout): Dropout(p=0.1, inplace=False)\n",
              "            )\n",
              "          )\n",
              "          (intermediate): BertIntermediate(\n",
              "            (dense): Linear(in_features=768, out_features=3072, bias=True)\n",
              "          )\n",
              "          (output): BertOutput(\n",
              "            (dense): Linear(in_features=3072, out_features=768, bias=True)\n",
              "            (LayerNorm): LayerNorm((768,), eps=1e-05, elementwise_affine=True)\n",
              "            (dropout): Dropout(p=0.1, inplace=False)\n",
              "          )\n",
              "        )\n",
              "        (4): BertLayer(\n",
              "          (attention): BertAttention(\n",
              "            (self): BertSelfAttention(\n",
              "              (query): Linear(in_features=768, out_features=768, bias=True)\n",
              "              (key): Linear(in_features=768, out_features=768, bias=True)\n",
              "              (value): Linear(in_features=768, out_features=768, bias=True)\n",
              "              (dropout): Dropout(p=0.1, inplace=False)\n",
              "            )\n",
              "            (output): BertSelfOutput(\n",
              "              (dense): Linear(in_features=768, out_features=768, bias=True)\n",
              "              (LayerNorm): LayerNorm((768,), eps=1e-05, elementwise_affine=True)\n",
              "              (dropout): Dropout(p=0.1, inplace=False)\n",
              "            )\n",
              "          )\n",
              "          (intermediate): BertIntermediate(\n",
              "            (dense): Linear(in_features=768, out_features=3072, bias=True)\n",
              "          )\n",
              "          (output): BertOutput(\n",
              "            (dense): Linear(in_features=3072, out_features=768, bias=True)\n",
              "            (LayerNorm): LayerNorm((768,), eps=1e-05, elementwise_affine=True)\n",
              "            (dropout): Dropout(p=0.1, inplace=False)\n",
              "          )\n",
              "        )\n",
              "        (5): BertLayer(\n",
              "          (attention): BertAttention(\n",
              "            (self): BertSelfAttention(\n",
              "              (query): Linear(in_features=768, out_features=768, bias=True)\n",
              "              (key): Linear(in_features=768, out_features=768, bias=True)\n",
              "              (value): Linear(in_features=768, out_features=768, bias=True)\n",
              "              (dropout): Dropout(p=0.1, inplace=False)\n",
              "            )\n",
              "            (output): BertSelfOutput(\n",
              "              (dense): Linear(in_features=768, out_features=768, bias=True)\n",
              "              (LayerNorm): LayerNorm((768,), eps=1e-05, elementwise_affine=True)\n",
              "              (dropout): Dropout(p=0.1, inplace=False)\n",
              "            )\n",
              "          )\n",
              "          (intermediate): BertIntermediate(\n",
              "            (dense): Linear(in_features=768, out_features=3072, bias=True)\n",
              "          )\n",
              "          (output): BertOutput(\n",
              "            (dense): Linear(in_features=3072, out_features=768, bias=True)\n",
              "            (LayerNorm): LayerNorm((768,), eps=1e-05, elementwise_affine=True)\n",
              "            (dropout): Dropout(p=0.1, inplace=False)\n",
              "          )\n",
              "        )\n",
              "        (6): BertLayer(\n",
              "          (attention): BertAttention(\n",
              "            (self): BertSelfAttention(\n",
              "              (query): Linear(in_features=768, out_features=768, bias=True)\n",
              "              (key): Linear(in_features=768, out_features=768, bias=True)\n",
              "              (value): Linear(in_features=768, out_features=768, bias=True)\n",
              "              (dropout): Dropout(p=0.1, inplace=False)\n",
              "            )\n",
              "            (output): BertSelfOutput(\n",
              "              (dense): Linear(in_features=768, out_features=768, bias=True)\n",
              "              (LayerNorm): LayerNorm((768,), eps=1e-05, elementwise_affine=True)\n",
              "              (dropout): Dropout(p=0.1, inplace=False)\n",
              "            )\n",
              "          )\n",
              "          (intermediate): BertIntermediate(\n",
              "            (dense): Linear(in_features=768, out_features=3072, bias=True)\n",
              "          )\n",
              "          (output): BertOutput(\n",
              "            (dense): Linear(in_features=3072, out_features=768, bias=True)\n",
              "            (LayerNorm): LayerNorm((768,), eps=1e-05, elementwise_affine=True)\n",
              "            (dropout): Dropout(p=0.1, inplace=False)\n",
              "          )\n",
              "        )\n",
              "        (7): BertLayer(\n",
              "          (attention): BertAttention(\n",
              "            (self): BertSelfAttention(\n",
              "              (query): Linear(in_features=768, out_features=768, bias=True)\n",
              "              (key): Linear(in_features=768, out_features=768, bias=True)\n",
              "              (value): Linear(in_features=768, out_features=768, bias=True)\n",
              "              (dropout): Dropout(p=0.1, inplace=False)\n",
              "            )\n",
              "            (output): BertSelfOutput(\n",
              "              (dense): Linear(in_features=768, out_features=768, bias=True)\n",
              "              (LayerNorm): LayerNorm((768,), eps=1e-05, elementwise_affine=True)\n",
              "              (dropout): Dropout(p=0.1, inplace=False)\n",
              "            )\n",
              "          )\n",
              "          (intermediate): BertIntermediate(\n",
              "            (dense): Linear(in_features=768, out_features=3072, bias=True)\n",
              "          )\n",
              "          (output): BertOutput(\n",
              "            (dense): Linear(in_features=3072, out_features=768, bias=True)\n",
              "            (LayerNorm): LayerNorm((768,), eps=1e-05, elementwise_affine=True)\n",
              "            (dropout): Dropout(p=0.1, inplace=False)\n",
              "          )\n",
              "        )\n",
              "        (8): BertLayer(\n",
              "          (attention): BertAttention(\n",
              "            (self): BertSelfAttention(\n",
              "              (query): Linear(in_features=768, out_features=768, bias=True)\n",
              "              (key): Linear(in_features=768, out_features=768, bias=True)\n",
              "              (value): Linear(in_features=768, out_features=768, bias=True)\n",
              "              (dropout): Dropout(p=0.1, inplace=False)\n",
              "            )\n",
              "            (output): BertSelfOutput(\n",
              "              (dense): Linear(in_features=768, out_features=768, bias=True)\n",
              "              (LayerNorm): LayerNorm((768,), eps=1e-05, elementwise_affine=True)\n",
              "              (dropout): Dropout(p=0.1, inplace=False)\n",
              "            )\n",
              "          )\n",
              "          (intermediate): BertIntermediate(\n",
              "            (dense): Linear(in_features=768, out_features=3072, bias=True)\n",
              "          )\n",
              "          (output): BertOutput(\n",
              "            (dense): Linear(in_features=3072, out_features=768, bias=True)\n",
              "            (LayerNorm): LayerNorm((768,), eps=1e-05, elementwise_affine=True)\n",
              "            (dropout): Dropout(p=0.1, inplace=False)\n",
              "          )\n",
              "        )\n",
              "        (9): BertLayer(\n",
              "          (attention): BertAttention(\n",
              "            (self): BertSelfAttention(\n",
              "              (query): Linear(in_features=768, out_features=768, bias=True)\n",
              "              (key): Linear(in_features=768, out_features=768, bias=True)\n",
              "              (value): Linear(in_features=768, out_features=768, bias=True)\n",
              "              (dropout): Dropout(p=0.1, inplace=False)\n",
              "            )\n",
              "            (output): BertSelfOutput(\n",
              "              (dense): Linear(in_features=768, out_features=768, bias=True)\n",
              "              (LayerNorm): LayerNorm((768,), eps=1e-05, elementwise_affine=True)\n",
              "              (dropout): Dropout(p=0.1, inplace=False)\n",
              "            )\n",
              "          )\n",
              "          (intermediate): BertIntermediate(\n",
              "            (dense): Linear(in_features=768, out_features=3072, bias=True)\n",
              "          )\n",
              "          (output): BertOutput(\n",
              "            (dense): Linear(in_features=3072, out_features=768, bias=True)\n",
              "            (LayerNorm): LayerNorm((768,), eps=1e-05, elementwise_affine=True)\n",
              "            (dropout): Dropout(p=0.1, inplace=False)\n",
              "          )\n",
              "        )\n",
              "        (10): BertLayer(\n",
              "          (attention): BertAttention(\n",
              "            (self): BertSelfAttention(\n",
              "              (query): Linear(in_features=768, out_features=768, bias=True)\n",
              "              (key): Linear(in_features=768, out_features=768, bias=True)\n",
              "              (value): Linear(in_features=768, out_features=768, bias=True)\n",
              "              (dropout): Dropout(p=0.1, inplace=False)\n",
              "            )\n",
              "            (output): BertSelfOutput(\n",
              "              (dense): Linear(in_features=768, out_features=768, bias=True)\n",
              "              (LayerNorm): LayerNorm((768,), eps=1e-05, elementwise_affine=True)\n",
              "              (dropout): Dropout(p=0.1, inplace=False)\n",
              "            )\n",
              "          )\n",
              "          (intermediate): BertIntermediate(\n",
              "            (dense): Linear(in_features=768, out_features=3072, bias=True)\n",
              "          )\n",
              "          (output): BertOutput(\n",
              "            (dense): Linear(in_features=3072, out_features=768, bias=True)\n",
              "            (LayerNorm): LayerNorm((768,), eps=1e-05, elementwise_affine=True)\n",
              "            (dropout): Dropout(p=0.1, inplace=False)\n",
              "          )\n",
              "        )\n",
              "        (11): BertLayer(\n",
              "          (attention): BertAttention(\n",
              "            (self): BertSelfAttention(\n",
              "              (query): Linear(in_features=768, out_features=768, bias=True)\n",
              "              (key): Linear(in_features=768, out_features=768, bias=True)\n",
              "              (value): Linear(in_features=768, out_features=768, bias=True)\n",
              "              (dropout): Dropout(p=0.1, inplace=False)\n",
              "            )\n",
              "            (output): BertSelfOutput(\n",
              "              (dense): Linear(in_features=768, out_features=768, bias=True)\n",
              "              (LayerNorm): LayerNorm((768,), eps=1e-05, elementwise_affine=True)\n",
              "              (dropout): Dropout(p=0.1, inplace=False)\n",
              "            )\n",
              "          )\n",
              "          (intermediate): BertIntermediate(\n",
              "            (dense): Linear(in_features=768, out_features=3072, bias=True)\n",
              "          )\n",
              "          (output): BertOutput(\n",
              "            (dense): Linear(in_features=3072, out_features=768, bias=True)\n",
              "            (LayerNorm): LayerNorm((768,), eps=1e-05, elementwise_affine=True)\n",
              "            (dropout): Dropout(p=0.1, inplace=False)\n",
              "          )\n",
              "        )\n",
              "      )\n",
              "    )\n",
              "    (pooler): BertPooler(\n",
              "      (dense): Linear(in_features=768, out_features=768, bias=True)\n",
              "      (activation): Tanh()\n",
              "    )\n",
              "  )\n",
              "  (dropout): Dropout(p=0.1, inplace=False)\n",
              "  (classifier): Linear(in_features=768, out_features=3, bias=True)\n",
              ")"
            ]
          },
          "metadata": {
            "tags": []
          },
          "execution_count": 16
        }
      ]
    },
    {
      "cell_type": "code",
      "metadata": {
        "id": "oG-z7lNqbjrr"
      },
      "source": [
        ""
      ],
      "execution_count": null,
      "outputs": []
    }
  ]
}